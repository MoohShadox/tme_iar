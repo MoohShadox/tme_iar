{
 "cells": [
  {
   "cell_type": "code",
   "execution_count": 1,
   "metadata": {},
   "outputs": [],
   "source": [
    "from study_ddpg import ddpg\n",
    "import gym\n",
    "import random\n",
    "import torch\n",
    "import numpy as np\n",
    "from collections import deque\n",
    "import matplotlib.pyplot as plt\n",
    "from agents.DDPG_Agent import DDPG_Agent\n",
    "import argparse\n",
    "from copy import deepcopy\n",
    "\n",
    "import gym\n",
    "import gym.spaces\n",
    "import numpy as np\n",
    "import pandas as pd\n",
    "import torch.multiprocessing as mp\n",
    "\n",
    "from agents.TD3_Agent import DTD3\n",
    "from utils.random_process import *\n",
    "from utils.util import *\n",
    "from utils.memory import Memory, SharedMemory\n",
    "from study_td3 import *\n",
    "#USE_CUDA = torch.cuda.is_available()\n",
    "USE_CUDA = False\n",
    "\n",
    "if USE_CUDA:\n",
    "    FloatTensor = torch.cuda.FloatTensor\n",
    "else:\n",
    "    FloatTensor = torch.FloatTensor"
   ]
  },
  {
   "cell_type": "code",
   "execution_count": 2,
   "metadata": {},
   "outputs": [],
   "source": [
    "env = gym.make('Pendulum-v0')\n",
    "env.seed(2)\n",
    "state_dim = env.observation_space.shape[0]\n",
    "action_dim = env.action_space.shape[0]\n",
    "max_action = int(env.action_space.high[0])"
   ]
  },
  {
   "cell_type": "code",
   "execution_count": 3,
   "metadata": {},
   "outputs": [],
   "source": [
    "def ddpg(n_episodes=1500, max_t=200, print_every=5, state_size=3, action_size = 1):\n",
    "    scores_deque = deque(maxlen=print_every)\n",
    "    agent = DDPG_Agent(state_size=state_size, action_size=action_size, random_seed=2)\n",
    "    scores = []\n",
    "    for i_episode in range(1, n_episodes + 1):\n",
    "        state = env.reset()\n",
    "        agent.reset()\n",
    "        score = 0\n",
    "        for _ in range(max_t):\n",
    "            action = agent.act(state)\n",
    "            next_state, reward, done, _ = env.step(action)\n",
    "            agent.step(state, action, reward, next_state, done)\n",
    "            state = next_state\n",
    "            score += reward\n",
    "            if done:\n",
    "                break\n",
    "        scores_deque.append(score)\n",
    "        scores.append(score)\n",
    "        print('\\rEpisode {}\\tAverage Score: {:.2f}'.format(i_episode, np.mean(scores_deque)), end=\"\")\n",
    "        if i_episode % print_every == 0:\n",
    "            print('\\rEpisode {}\\tAverage Score: {:.2f} \\n '.format(i_episode, np.mean(scores_deque)))\n",
    "    return agent"
   ]
  },
  {
   "cell_type": "code",
   "execution_count": 4,
   "metadata": {},
   "outputs": [
    {
     "name": "stderr",
     "output_type": "stream",
     "text": [
      "/home/mohamed/PycharmProjects/SIGAUD_INSPIRED/policies/ddpg_actor.py:57: UserWarning: To copy construct from a tensor, it is recommended to use sourceTensor.clone().detach() or sourceTensor.clone().detach().requires_grad_(True), rather than torch.tensor(sourceTensor).\n",
      "  state = torch.tensor(state)\n"
     ]
    },
    {
     "name": "stdout",
     "output_type": "stream",
     "text": [
      "\r",
      "Episode 1\tAverage Score: -1325.87"
     ]
    },
    {
     "ename": "KeyboardInterrupt",
     "evalue": "",
     "output_type": "error",
     "traceback": [
      "\u001b[0;31m---------------------------------------------------------------------------\u001b[0m",
      "\u001b[0;31mKeyboardInterrupt\u001b[0m                         Traceback (most recent call last)",
      "\u001b[0;32m<timed exec>\u001b[0m in \u001b[0;36m<module>\u001b[0;34m\u001b[0m\n",
      "\u001b[0;32m<ipython-input-3-bf0062a5f19f>\u001b[0m in \u001b[0;36mddpg\u001b[0;34m(n_episodes, max_t, print_every, state_size, action_size)\u001b[0m\n\u001b[1;32m     10\u001b[0m             \u001b[0maction\u001b[0m \u001b[0;34m=\u001b[0m \u001b[0magent\u001b[0m\u001b[0;34m.\u001b[0m\u001b[0mact\u001b[0m\u001b[0;34m(\u001b[0m\u001b[0mstate\u001b[0m\u001b[0;34m)\u001b[0m\u001b[0;34m\u001b[0m\u001b[0;34m\u001b[0m\u001b[0m\n\u001b[1;32m     11\u001b[0m             \u001b[0mnext_state\u001b[0m\u001b[0;34m,\u001b[0m \u001b[0mreward\u001b[0m\u001b[0;34m,\u001b[0m \u001b[0mdone\u001b[0m\u001b[0;34m,\u001b[0m \u001b[0m_\u001b[0m \u001b[0;34m=\u001b[0m \u001b[0menv\u001b[0m\u001b[0;34m.\u001b[0m\u001b[0mstep\u001b[0m\u001b[0;34m(\u001b[0m\u001b[0maction\u001b[0m\u001b[0;34m)\u001b[0m\u001b[0;34m\u001b[0m\u001b[0;34m\u001b[0m\u001b[0m\n\u001b[0;32m---> 12\u001b[0;31m             \u001b[0magent\u001b[0m\u001b[0;34m.\u001b[0m\u001b[0mstep\u001b[0m\u001b[0;34m(\u001b[0m\u001b[0mstate\u001b[0m\u001b[0;34m,\u001b[0m \u001b[0maction\u001b[0m\u001b[0;34m,\u001b[0m \u001b[0mreward\u001b[0m\u001b[0;34m,\u001b[0m \u001b[0mnext_state\u001b[0m\u001b[0;34m,\u001b[0m \u001b[0mdone\u001b[0m\u001b[0;34m)\u001b[0m\u001b[0;34m\u001b[0m\u001b[0;34m\u001b[0m\u001b[0m\n\u001b[0m\u001b[1;32m     13\u001b[0m             \u001b[0mstate\u001b[0m \u001b[0;34m=\u001b[0m \u001b[0mnext_state\u001b[0m\u001b[0;34m\u001b[0m\u001b[0;34m\u001b[0m\u001b[0m\n\u001b[1;32m     14\u001b[0m             \u001b[0mscore\u001b[0m \u001b[0;34m+=\u001b[0m \u001b[0mreward\u001b[0m\u001b[0;34m\u001b[0m\u001b[0;34m\u001b[0m\u001b[0m\n",
      "\u001b[0;32m~/PycharmProjects/SIGAUD_INSPIRED/agents/DDPG_Agent.py\u001b[0m in \u001b[0;36mstep\u001b[0;34m(self, state, action, reward, next_state, done)\u001b[0m\n\u001b[1;32m     77\u001b[0m         \u001b[0;31m# Learn, if enough samples are available in memory\u001b[0m\u001b[0;34m\u001b[0m\u001b[0;34m\u001b[0m\u001b[0;34m\u001b[0m\u001b[0m\n\u001b[1;32m     78\u001b[0m         \u001b[0;32mif\u001b[0m \u001b[0mlen\u001b[0m\u001b[0;34m(\u001b[0m\u001b[0mself\u001b[0m\u001b[0;34m.\u001b[0m\u001b[0mmemory\u001b[0m\u001b[0;34m)\u001b[0m \u001b[0;34m>\u001b[0m \u001b[0mBATCH_SIZE\u001b[0m\u001b[0;34m:\u001b[0m\u001b[0;34m\u001b[0m\u001b[0;34m\u001b[0m\u001b[0m\n\u001b[0;32m---> 79\u001b[0;31m             \u001b[0mexperiences\u001b[0m \u001b[0;34m=\u001b[0m \u001b[0mself\u001b[0m\u001b[0;34m.\u001b[0m\u001b[0mmemory\u001b[0m\u001b[0;34m.\u001b[0m\u001b[0msample\u001b[0m\u001b[0;34m(\u001b[0m\u001b[0;34m)\u001b[0m\u001b[0;34m\u001b[0m\u001b[0;34m\u001b[0m\u001b[0m\n\u001b[0m\u001b[1;32m     80\u001b[0m             \u001b[0mself\u001b[0m\u001b[0;34m.\u001b[0m\u001b[0mlearn\u001b[0m\u001b[0;34m(\u001b[0m\u001b[0mexperiences\u001b[0m\u001b[0;34m,\u001b[0m \u001b[0mGAMMA\u001b[0m\u001b[0;34m)\u001b[0m\u001b[0;34m\u001b[0m\u001b[0;34m\u001b[0m\u001b[0m\n\u001b[1;32m     81\u001b[0m \u001b[0;34m\u001b[0m\u001b[0m\n",
      "\u001b[0;32m~/PycharmProjects/SIGAUD_INSPIRED/utils/ReplayBuffer.py\u001b[0m in \u001b[0;36msample\u001b[0;34m(self)\u001b[0m\n\u001b[1;32m     38\u001b[0m         \u001b[0mstates\u001b[0m \u001b[0;34m=\u001b[0m \u001b[0mtorch\u001b[0m\u001b[0;34m.\u001b[0m\u001b[0mfrom_numpy\u001b[0m\u001b[0;34m(\u001b[0m\u001b[0mnp\u001b[0m\u001b[0;34m.\u001b[0m\u001b[0mvstack\u001b[0m\u001b[0;34m(\u001b[0m\u001b[0;34m[\u001b[0m\u001b[0me\u001b[0m\u001b[0;34m.\u001b[0m\u001b[0mstate\u001b[0m \u001b[0;32mfor\u001b[0m \u001b[0me\u001b[0m \u001b[0;32min\u001b[0m \u001b[0mexperiences\u001b[0m \u001b[0;32mif\u001b[0m \u001b[0me\u001b[0m \u001b[0;32mis\u001b[0m \u001b[0;32mnot\u001b[0m \u001b[0;32mNone\u001b[0m\u001b[0;34m]\u001b[0m\u001b[0;34m)\u001b[0m\u001b[0;34m)\u001b[0m\u001b[0;34m.\u001b[0m\u001b[0mfloat\u001b[0m\u001b[0;34m(\u001b[0m\u001b[0;34m)\u001b[0m\u001b[0;34m.\u001b[0m\u001b[0mto\u001b[0m\u001b[0;34m(\u001b[0m\u001b[0mdevice\u001b[0m\u001b[0;34m)\u001b[0m\u001b[0;34m\u001b[0m\u001b[0;34m\u001b[0m\u001b[0m\n\u001b[1;32m     39\u001b[0m         \u001b[0mactions\u001b[0m \u001b[0;34m=\u001b[0m \u001b[0mtorch\u001b[0m\u001b[0;34m.\u001b[0m\u001b[0mfrom_numpy\u001b[0m\u001b[0;34m(\u001b[0m\u001b[0mnp\u001b[0m\u001b[0;34m.\u001b[0m\u001b[0mvstack\u001b[0m\u001b[0;34m(\u001b[0m\u001b[0;34m[\u001b[0m\u001b[0me\u001b[0m\u001b[0;34m.\u001b[0m\u001b[0maction\u001b[0m \u001b[0;32mfor\u001b[0m \u001b[0me\u001b[0m \u001b[0;32min\u001b[0m \u001b[0mexperiences\u001b[0m \u001b[0;32mif\u001b[0m \u001b[0me\u001b[0m \u001b[0;32mis\u001b[0m \u001b[0;32mnot\u001b[0m \u001b[0;32mNone\u001b[0m\u001b[0;34m]\u001b[0m\u001b[0;34m)\u001b[0m\u001b[0;34m)\u001b[0m\u001b[0;34m.\u001b[0m\u001b[0mfloat\u001b[0m\u001b[0;34m(\u001b[0m\u001b[0;34m)\u001b[0m\u001b[0;34m.\u001b[0m\u001b[0mto\u001b[0m\u001b[0;34m(\u001b[0m\u001b[0mdevice\u001b[0m\u001b[0;34m)\u001b[0m\u001b[0;34m\u001b[0m\u001b[0;34m\u001b[0m\u001b[0m\n\u001b[0;32m---> 40\u001b[0;31m         \u001b[0mrewards\u001b[0m \u001b[0;34m=\u001b[0m \u001b[0mtorch\u001b[0m\u001b[0;34m.\u001b[0m\u001b[0mfrom_numpy\u001b[0m\u001b[0;34m(\u001b[0m\u001b[0mnp\u001b[0m\u001b[0;34m.\u001b[0m\u001b[0mvstack\u001b[0m\u001b[0;34m(\u001b[0m\u001b[0;34m[\u001b[0m\u001b[0me\u001b[0m\u001b[0;34m.\u001b[0m\u001b[0mreward\u001b[0m \u001b[0;32mfor\u001b[0m \u001b[0me\u001b[0m \u001b[0;32min\u001b[0m \u001b[0mexperiences\u001b[0m \u001b[0;32mif\u001b[0m \u001b[0me\u001b[0m \u001b[0;32mis\u001b[0m \u001b[0;32mnot\u001b[0m \u001b[0;32mNone\u001b[0m\u001b[0;34m]\u001b[0m\u001b[0;34m)\u001b[0m\u001b[0;34m)\u001b[0m\u001b[0;34m.\u001b[0m\u001b[0mfloat\u001b[0m\u001b[0;34m(\u001b[0m\u001b[0;34m)\u001b[0m\u001b[0;34m.\u001b[0m\u001b[0mto\u001b[0m\u001b[0;34m(\u001b[0m\u001b[0mdevice\u001b[0m\u001b[0;34m)\u001b[0m\u001b[0;34m\u001b[0m\u001b[0;34m\u001b[0m\u001b[0m\n\u001b[0m\u001b[1;32m     41\u001b[0m         next_states = torch.from_numpy(np.vstack([e.next_state for e in experiences if e is not None])).float().to(\n\u001b[1;32m     42\u001b[0m             device)\n",
      "\u001b[0;32m<__array_function__ internals>\u001b[0m in \u001b[0;36mvstack\u001b[0;34m(*args, **kwargs)\u001b[0m\n",
      "\u001b[0;32m~/anaconda3/lib/python3.7/site-packages/numpy/core/shape_base.py\u001b[0m in \u001b[0;36mvstack\u001b[0;34m(tup)\u001b[0m\n\u001b[1;32m    278\u001b[0m         \u001b[0;31m# raise warning if necessary\u001b[0m\u001b[0;34m\u001b[0m\u001b[0;34m\u001b[0m\u001b[0;34m\u001b[0m\u001b[0m\n\u001b[1;32m    279\u001b[0m         \u001b[0m_arrays_for_stack_dispatcher\u001b[0m\u001b[0;34m(\u001b[0m\u001b[0mtup\u001b[0m\u001b[0;34m,\u001b[0m \u001b[0mstacklevel\u001b[0m\u001b[0;34m=\u001b[0m\u001b[0;36m2\u001b[0m\u001b[0;34m)\u001b[0m\u001b[0;34m\u001b[0m\u001b[0;34m\u001b[0m\u001b[0m\n\u001b[0;32m--> 280\u001b[0;31m     \u001b[0marrs\u001b[0m \u001b[0;34m=\u001b[0m \u001b[0matleast_2d\u001b[0m\u001b[0;34m(\u001b[0m\u001b[0;34m*\u001b[0m\u001b[0mtup\u001b[0m\u001b[0;34m)\u001b[0m\u001b[0;34m\u001b[0m\u001b[0;34m\u001b[0m\u001b[0m\n\u001b[0m\u001b[1;32m    281\u001b[0m     \u001b[0;32mif\u001b[0m \u001b[0;32mnot\u001b[0m \u001b[0misinstance\u001b[0m\u001b[0;34m(\u001b[0m\u001b[0marrs\u001b[0m\u001b[0;34m,\u001b[0m \u001b[0mlist\u001b[0m\u001b[0;34m)\u001b[0m\u001b[0;34m:\u001b[0m\u001b[0;34m\u001b[0m\u001b[0;34m\u001b[0m\u001b[0m\n\u001b[1;32m    282\u001b[0m         \u001b[0marrs\u001b[0m \u001b[0;34m=\u001b[0m \u001b[0;34m[\u001b[0m\u001b[0marrs\u001b[0m\u001b[0;34m]\u001b[0m\u001b[0;34m\u001b[0m\u001b[0;34m\u001b[0m\u001b[0m\n",
      "\u001b[0;32m<__array_function__ internals>\u001b[0m in \u001b[0;36matleast_2d\u001b[0;34m(*args, **kwargs)\u001b[0m\n",
      "\u001b[0;32m~/anaconda3/lib/python3.7/site-packages/numpy/core/shape_base.py\u001b[0m in \u001b[0;36matleast_2d\u001b[0;34m(*arys)\u001b[0m\n\u001b[1;32m    121\u001b[0m     \u001b[0mres\u001b[0m \u001b[0;34m=\u001b[0m \u001b[0;34m[\u001b[0m\u001b[0;34m]\u001b[0m\u001b[0;34m\u001b[0m\u001b[0;34m\u001b[0m\u001b[0m\n\u001b[1;32m    122\u001b[0m     \u001b[0;32mfor\u001b[0m \u001b[0mary\u001b[0m \u001b[0;32min\u001b[0m \u001b[0marys\u001b[0m\u001b[0;34m:\u001b[0m\u001b[0;34m\u001b[0m\u001b[0;34m\u001b[0m\u001b[0m\n\u001b[0;32m--> 123\u001b[0;31m         \u001b[0mary\u001b[0m \u001b[0;34m=\u001b[0m \u001b[0masanyarray\u001b[0m\u001b[0;34m(\u001b[0m\u001b[0mary\u001b[0m\u001b[0;34m)\u001b[0m\u001b[0;34m\u001b[0m\u001b[0;34m\u001b[0m\u001b[0m\n\u001b[0m\u001b[1;32m    124\u001b[0m         \u001b[0;32mif\u001b[0m \u001b[0mary\u001b[0m\u001b[0;34m.\u001b[0m\u001b[0mndim\u001b[0m \u001b[0;34m==\u001b[0m \u001b[0;36m0\u001b[0m\u001b[0;34m:\u001b[0m\u001b[0;34m\u001b[0m\u001b[0;34m\u001b[0m\u001b[0m\n\u001b[1;32m    125\u001b[0m             \u001b[0mresult\u001b[0m \u001b[0;34m=\u001b[0m \u001b[0mary\u001b[0m\u001b[0;34m.\u001b[0m\u001b[0mreshape\u001b[0m\u001b[0;34m(\u001b[0m\u001b[0;36m1\u001b[0m\u001b[0;34m,\u001b[0m \u001b[0;36m1\u001b[0m\u001b[0;34m)\u001b[0m\u001b[0;34m\u001b[0m\u001b[0;34m\u001b[0m\u001b[0m\n",
      "\u001b[0;32m~/anaconda3/lib/python3.7/site-packages/numpy/core/_asarray.py\u001b[0m in \u001b[0;36masanyarray\u001b[0;34m(a, dtype, order)\u001b[0m\n\u001b[1;32m    136\u001b[0m \u001b[0;34m\u001b[0m\u001b[0m\n\u001b[1;32m    137\u001b[0m     \"\"\"\n\u001b[0;32m--> 138\u001b[0;31m     \u001b[0;32mreturn\u001b[0m \u001b[0marray\u001b[0m\u001b[0;34m(\u001b[0m\u001b[0ma\u001b[0m\u001b[0;34m,\u001b[0m \u001b[0mdtype\u001b[0m\u001b[0;34m,\u001b[0m \u001b[0mcopy\u001b[0m\u001b[0;34m=\u001b[0m\u001b[0;32mFalse\u001b[0m\u001b[0;34m,\u001b[0m \u001b[0morder\u001b[0m\u001b[0;34m=\u001b[0m\u001b[0morder\u001b[0m\u001b[0;34m,\u001b[0m \u001b[0msubok\u001b[0m\u001b[0;34m=\u001b[0m\u001b[0;32mTrue\u001b[0m\u001b[0;34m)\u001b[0m\u001b[0;34m\u001b[0m\u001b[0;34m\u001b[0m\u001b[0m\n\u001b[0m\u001b[1;32m    139\u001b[0m \u001b[0;34m\u001b[0m\u001b[0m\n\u001b[1;32m    140\u001b[0m \u001b[0;34m\u001b[0m\u001b[0m\n",
      "\u001b[0;31mKeyboardInterrupt\u001b[0m: "
     ]
    }
   ],
   "source": [
    "%%time\n",
    "agent_ddpg = ddpg(n_episodes=5,state_size=state_dim,action_size=action_dim)"
   ]
  },
  {
   "cell_type": "code",
   "execution_count": 6,
   "metadata": {
    "scrolled": true
   },
   "outputs": [
    {
     "name": "stdout",
     "output_type": "stream",
     "text": [
      "starting\n",
      "\u001b[96mnoisy RL agent fitness:-1210.3648111322013\u001b[00m\n",
      "\u001b[96mnoisy RL agent fitness:-1503.665135413129\u001b[00m\n",
      "\u001b[96mnoisy RL agent fitness:-1141.8785045496659\u001b[00m\n"
     ]
    },
    {
     "name": "stderr",
     "output_type": "stream",
     "text": [
      "\r",
      "  0%|          | 0/100 [00:00<?, ?it/s]"
     ]
    },
    {
     "name": "stdout",
     "output_type": "stream",
     "text": [
      "\u001b[96mnoisy RL agent fitness:-1397.9051956495039\u001b[00m\n",
      "\u001b[96mnoisy RL agent fitness:-1300.1644936176904\u001b[00m\n"
     ]
    },
    {
     "name": "stderr",
     "output_type": "stream",
     "text": [
      "100%|██████████| 100/100 [00:02<00:00, 43.79it/s]\n",
      "100%|██████████| 100/100 [00:02<00:00, 43.03it/s]\n",
      "100%|██████████| 100/100 [00:02<00:00, 42.87it/s]\n",
      "100%|██████████| 100/100 [00:02<00:00, 43.68it/s]\n",
      "100%|██████████| 100/100 [00:02<00:00, 41.57it/s]\n"
     ]
    },
    {
     "name": "stdout",
     "output_type": "stream",
     "text": [
      "\u001b[91mRL agent fitness:-1496.9888511962101\u001b[00m\n",
      "\u001b[91mRL agent fitness:-1576.5803659215055\u001b[00m\n",
      "\u001b[91mRL agent fitness:-1663.6897904368532\u001b[00m\n",
      "\u001b[91mRL agent fitness:-1671.47668011879\u001b[00m\n",
      "\u001b[91mRL agent fitness:-1580.7049859561034\u001b[00m\n",
      "\u001b[95mIteration#1: Total steps:5000 \n",
      "\u001b[00m\n",
      "\u001b[96mnoisy RL agent fitness:-1321.090719448424\u001b[00m\n",
      "\u001b[96mnoisy RL agent fitness:-1256.6106410853092\u001b[00m\n",
      "\u001b[96mnoisy RL agent fitness:-1039.8185193918346\u001b[00m\n",
      "\u001b[96mnoisy RL agent fitness:-1169.83709153878\u001b[00m\n"
     ]
    },
    {
     "name": "stderr",
     "output_type": "stream",
     "text": [
      "  4%|▍         | 4/100 [00:00<00:02, 39.19it/s]"
     ]
    },
    {
     "name": "stdout",
     "output_type": "stream",
     "text": [
      "\u001b[96mnoisy RL agent fitness:-1415.8271188938402\u001b[00m\n"
     ]
    },
    {
     "name": "stderr",
     "output_type": "stream",
     "text": [
      "100%|██████████| 100/100 [00:02<00:00, 37.73it/s]\n",
      "100%|██████████| 100/100 [00:03<00:00, 30.44it/s]\n",
      "100%|██████████| 100/100 [00:04<00:00, 24.81it/s]\n",
      "100%|██████████| 100/100 [00:02<00:00, 39.29it/s]\n",
      "100%|██████████| 100/100 [00:02<00:00, 38.98it/s]\n"
     ]
    },
    {
     "name": "stdout",
     "output_type": "stream",
     "text": [
      "\u001b[91mRL agent fitness:-1547.8002746601876\u001b[00m\n",
      "\u001b[91mRL agent fitness:-1458.4314027385044\u001b[00m\n",
      "\u001b[91mRL agent fitness:-1514.083135267137\u001b[00m\n",
      "\u001b[91mRL agent fitness:-1527.2373373199543\u001b[00m\n",
      "\u001b[91mRL agent fitness:-1522.9694014812474\u001b[00m\n",
      "\u001b[95mIteration#2: Total steps:10000 \n",
      "\u001b[00m\n",
      "\u001b[96mnoisy RL agent fitness:-1546.180599476144\u001b[00m\n",
      "\u001b[96mnoisy RL agent fitness:-1338.0006809327547\u001b[00m\n",
      "\u001b[96mnoisy RL agent fitness:-1563.2518931544614\u001b[00m\n",
      "\u001b[96mnoisy RL agent fitness:-1556.9552388427323\u001b[00m\n"
     ]
    },
    {
     "name": "stderr",
     "output_type": "stream",
     "text": [
      "  4%|▍         | 4/100 [00:00<00:02, 33.07it/s]"
     ]
    },
    {
     "name": "stdout",
     "output_type": "stream",
     "text": [
      "\u001b[96mnoisy RL agent fitness:-1532.276526796851\u001b[00m\n"
     ]
    },
    {
     "name": "stderr",
     "output_type": "stream",
     "text": [
      "100%|██████████| 100/100 [00:02<00:00, 34.63it/s]\n",
      "100%|██████████| 100/100 [00:02<00:00, 38.20it/s]\n",
      "100%|██████████| 100/100 [00:03<00:00, 26.09it/s]\n",
      "100%|██████████| 100/100 [00:03<00:00, 29.57it/s]\n",
      "100%|██████████| 100/100 [00:03<00:00, 29.43it/s]\n"
     ]
    },
    {
     "name": "stdout",
     "output_type": "stream",
     "text": [
      "\u001b[91mRL agent fitness:-1491.408209700278\u001b[00m\n",
      "\u001b[91mRL agent fitness:-1408.3115507713733\u001b[00m\n",
      "\u001b[91mRL agent fitness:-1502.6891776894463\u001b[00m\n",
      "\u001b[91mRL agent fitness:-1403.4077709567803\u001b[00m\n",
      "\u001b[91mRL agent fitness:-1476.2633089980204\u001b[00m\n",
      "\u001b[95mIteration#3: Total steps:15000 \n",
      "\u001b[00m\n",
      "\u001b[96mnoisy RL agent fitness:-1497.7850668588244\u001b[00m\n",
      "\u001b[96mnoisy RL agent fitness:-1498.5483739207564\u001b[00m\n",
      "\u001b[96mnoisy RL agent fitness:-1480.867080245194\u001b[00m\n",
      "\u001b[96mnoisy RL agent fitness:-1424.4831761412704\u001b[00m\n"
     ]
    },
    {
     "name": "stderr",
     "output_type": "stream",
     "text": [
      "  5%|▌         | 5/100 [00:00<00:02, 39.94it/s]"
     ]
    },
    {
     "name": "stdout",
     "output_type": "stream",
     "text": [
      "\u001b[96mnoisy RL agent fitness:-1460.5833215253929\u001b[00m\n"
     ]
    },
    {
     "name": "stderr",
     "output_type": "stream",
     "text": [
      "100%|██████████| 100/100 [00:03<00:00, 29.30it/s]\n",
      "100%|██████████| 100/100 [00:03<00:00, 26.55it/s]\n",
      "100%|██████████| 100/100 [00:03<00:00, 28.61it/s]\n",
      "100%|██████████| 100/100 [00:03<00:00, 29.04it/s]\n",
      "100%|██████████| 100/100 [00:02<00:00, 37.99it/s]\n"
     ]
    },
    {
     "name": "stdout",
     "output_type": "stream",
     "text": [
      "\u001b[91mRL agent fitness:-1480.867491493303\u001b[00m\n",
      "\u001b[91mRL agent fitness:-1479.1440898804246\u001b[00m\n",
      "\u001b[91mRL agent fitness:-1506.900349969088\u001b[00m\n",
      "\u001b[91mRL agent fitness:-1180.5837471193656\u001b[00m\n",
      "\u001b[91mRL agent fitness:-1466.3196269066234\u001b[00m\n",
      "\u001b[95mIteration#4: Total steps:20000 \n",
      "\u001b[00m\n",
      "\u001b[96mnoisy RL agent fitness:-1403.823710945973\u001b[00m\n",
      "\u001b[96mnoisy RL agent fitness:-1487.71501213177\u001b[00m\n",
      "\u001b[96mnoisy RL agent fitness:-1395.2232120689225\u001b[00m\n",
      "\u001b[96mnoisy RL agent fitness:-1420.3058125525822\u001b[00m\n"
     ]
    },
    {
     "name": "stderr",
     "output_type": "stream",
     "text": [
      "  3%|▎         | 3/100 [00:00<00:03, 25.66it/s]"
     ]
    },
    {
     "name": "stdout",
     "output_type": "stream",
     "text": [
      "\u001b[96mnoisy RL agent fitness:-1525.7407456560302\u001b[00m\n"
     ]
    },
    {
     "name": "stderr",
     "output_type": "stream",
     "text": [
      "100%|██████████| 100/100 [00:02<00:00, 35.12it/s]\n",
      "100%|██████████| 100/100 [00:02<00:00, 34.26it/s]\n",
      "100%|██████████| 100/100 [00:02<00:00, 36.26it/s]\n",
      "100%|██████████| 100/100 [00:02<00:00, 36.54it/s]\n",
      "100%|██████████| 100/100 [00:02<00:00, 35.96it/s]\n"
     ]
    },
    {
     "name": "stdout",
     "output_type": "stream",
     "text": [
      "\u001b[91mRL agent fitness:-1380.2612005723336\u001b[00m\n",
      "\u001b[91mRL agent fitness:-1199.585269300632\u001b[00m\n",
      "\u001b[91mRL agent fitness:-1228.6900026583896\u001b[00m\n",
      "\u001b[91mRL agent fitness:-302.14953408174927\u001b[00m\n",
      "\u001b[91mRL agent fitness:-1235.5975473320432\u001b[00m\n",
      "\u001b[95mIteration#5: Total steps:25000 \n",
      "\u001b[00m\n",
      "\u001b[96mnoisy RL agent fitness:-1382.42439467528\u001b[00m\n",
      "\u001b[96mnoisy RL agent fitness:-1198.8441141200285\u001b[00m\n",
      "\u001b[96mnoisy RL agent fitness:-1243.8725044409557\u001b[00m\n",
      "\u001b[96mnoisy RL agent fitness:-1175.8579242587125\u001b[00m\n"
     ]
    },
    {
     "name": "stderr",
     "output_type": "stream",
     "text": [
      "  4%|▍         | 4/100 [00:00<00:02, 38.06it/s]"
     ]
    },
    {
     "name": "stdout",
     "output_type": "stream",
     "text": [
      "\u001b[96mnoisy RL agent fitness:-1175.0372442859205\u001b[00m\n"
     ]
    },
    {
     "name": "stderr",
     "output_type": "stream",
     "text": [
      "100%|██████████| 100/100 [00:02<00:00, 36.57it/s]\n",
      "100%|██████████| 100/100 [00:02<00:00, 35.14it/s]\n",
      "100%|██████████| 100/100 [00:02<00:00, 36.98it/s]\n",
      "100%|██████████| 100/100 [00:02<00:00, 36.59it/s]\n",
      "100%|██████████| 100/100 [00:02<00:00, 36.06it/s]\n"
     ]
    },
    {
     "name": "stdout",
     "output_type": "stream",
     "text": [
      "\u001b[91mRL agent fitness:-1435.3498770162896\u001b[00m\n",
      "\u001b[91mRL agent fitness:-896.4693224722383\u001b[00m\n",
      "\u001b[91mRL agent fitness:-1258.6490171191467\u001b[00m\n",
      "\u001b[91mRL agent fitness:-791.0967924863264\u001b[00m\n",
      "\u001b[91mRL agent fitness:-808.2797642641199\u001b[00m\n",
      "\u001b[95mIteration#6: Total steps:30000 \n",
      "\u001b[00m\n",
      "\u001b[96mnoisy RL agent fitness:-1498.6426019216156\u001b[00m\n",
      "\u001b[96mnoisy RL agent fitness:-1197.1653350420743\u001b[00m\n",
      "\u001b[96mnoisy RL agent fitness:-1151.1365730524406\u001b[00m\n",
      "\u001b[96mnoisy RL agent fitness:-418.04324657635505\u001b[00m\n"
     ]
    },
    {
     "name": "stderr",
     "output_type": "stream",
     "text": [
      "  4%|▍         | 4/100 [00:00<00:02, 38.02it/s]"
     ]
    },
    {
     "name": "stdout",
     "output_type": "stream",
     "text": [
      "\u001b[96mnoisy RL agent fitness:-971.8540948312387\u001b[00m\n"
     ]
    },
    {
     "name": "stderr",
     "output_type": "stream",
     "text": [
      "100%|██████████| 100/100 [00:02<00:00, 34.18it/s]\n",
      "100%|██████████| 100/100 [00:02<00:00, 35.35it/s]\n",
      "100%|██████████| 100/100 [00:02<00:00, 35.22it/s]\n",
      "100%|██████████| 100/100 [00:03<00:00, 28.18it/s]\n",
      "100%|██████████| 100/100 [00:03<00:00, 32.80it/s]\n"
     ]
    },
    {
     "name": "stdout",
     "output_type": "stream",
     "text": [
      "\u001b[91mRL agent fitness:-1506.4359596120316\u001b[00m\n",
      "\u001b[91mRL agent fitness:-1370.4913847337718\u001b[00m\n",
      "\u001b[91mRL agent fitness:-1156.939481432755\u001b[00m\n",
      "\u001b[91mRL agent fitness:-1048.2131889788193\u001b[00m\n",
      "\u001b[91mRL agent fitness:-1193.0972966607067\u001b[00m\n",
      "\u001b[95mIteration#7: Total steps:35000 \n",
      "\u001b[00m\n",
      "\u001b[96mnoisy RL agent fitness:-1465.3465133015463\u001b[00m\n",
      "\u001b[96mnoisy RL agent fitness:-1358.0293742147373\u001b[00m\n",
      "\u001b[96mnoisy RL agent fitness:-1174.6970858498105\u001b[00m\n",
      "\u001b[96mnoisy RL agent fitness:-1048.276965908766\u001b[00m\n"
     ]
    },
    {
     "name": "stderr",
     "output_type": "stream",
     "text": [
      "  4%|▍         | 4/100 [00:00<00:02, 33.63it/s]"
     ]
    },
    {
     "name": "stdout",
     "output_type": "stream",
     "text": [
      "\u001b[96mnoisy RL agent fitness:-1224.2215044066218\u001b[00m\n"
     ]
    },
    {
     "name": "stderr",
     "output_type": "stream",
     "text": [
      "100%|██████████| 100/100 [00:03<00:00, 29.59it/s]\n",
      "100%|██████████| 100/100 [00:04<00:00, 23.88it/s]\n",
      "100%|██████████| 100/100 [00:03<00:00, 31.59it/s]\n",
      "100%|██████████| 100/100 [00:02<00:00, 34.57it/s]\n",
      "100%|██████████| 100/100 [00:03<00:00, 32.91it/s]\n"
     ]
    },
    {
     "name": "stdout",
     "output_type": "stream",
     "text": [
      "\u001b[91mRL agent fitness:-1112.6542411497442\u001b[00m\n",
      "\u001b[91mRL agent fitness:-1099.2308527482273\u001b[00m\n",
      "\u001b[91mRL agent fitness:-1039.4219076432096\u001b[00m\n",
      "\u001b[91mRL agent fitness:-314.39447209454164\u001b[00m\n",
      "\u001b[91mRL agent fitness:-710.9439956998652\u001b[00m\n",
      "\u001b[95mIteration#8: Total steps:40000 \n",
      "\u001b[00m\n",
      "\u001b[96mnoisy RL agent fitness:-1129.160969663382\u001b[00m\n",
      "\u001b[96mnoisy RL agent fitness:-940.0633973388764\u001b[00m\n",
      "\u001b[96mnoisy RL agent fitness:-1057.810755771086\u001b[00m\n",
      "\u001b[96mnoisy RL agent fitness:-519.6972402608442\u001b[00m\n"
     ]
    },
    {
     "name": "stderr",
     "output_type": "stream",
     "text": [
      "  4%|▍         | 4/100 [00:00<00:02, 34.15it/s]"
     ]
    },
    {
     "name": "stdout",
     "output_type": "stream",
     "text": [
      "\u001b[96mnoisy RL agent fitness:-898.6390157237522\u001b[00m\n"
     ]
    },
    {
     "name": "stderr",
     "output_type": "stream",
     "text": [
      "100%|██████████| 100/100 [00:02<00:00, 34.52it/s]\n",
      "100%|██████████| 100/100 [00:02<00:00, 33.59it/s]\n",
      "100%|██████████| 100/100 [00:02<00:00, 34.82it/s]\n",
      "100%|██████████| 100/100 [00:02<00:00, 34.10it/s]\n",
      "100%|██████████| 100/100 [00:02<00:00, 34.57it/s]\n"
     ]
    },
    {
     "name": "stdout",
     "output_type": "stream",
     "text": [
      "\u001b[91mRL agent fitness:-918.8709803502263\u001b[00m\n",
      "\u001b[91mRL agent fitness:-987.9183700772535\u001b[00m\n",
      "\u001b[91mRL agent fitness:-1151.504690183839\u001b[00m\n",
      "\u001b[91mRL agent fitness:-813.3738988069678\u001b[00m\n",
      "\u001b[91mRL agent fitness:-996.0667433410157\u001b[00m\n",
      "\u001b[95mIteration#9: Total steps:45000 \n",
      "\u001b[00m\n",
      "\u001b[96mnoisy RL agent fitness:-805.4751061767706\u001b[00m\n",
      "\u001b[96mnoisy RL agent fitness:-753.7723502285507\u001b[00m\n",
      "\u001b[96mnoisy RL agent fitness:-882.2781308028101\u001b[00m\n",
      "\u001b[96mnoisy RL agent fitness:-757.3000923485713\u001b[00m\n"
     ]
    },
    {
     "name": "stderr",
     "output_type": "stream",
     "text": [
      "  4%|▍         | 4/100 [00:00<00:02, 33.11it/s]"
     ]
    },
    {
     "name": "stdout",
     "output_type": "stream",
     "text": [
      "\u001b[96mnoisy RL agent fitness:-1109.6704093376745\u001b[00m\n"
     ]
    },
    {
     "name": "stderr",
     "output_type": "stream",
     "text": [
      "100%|██████████| 100/100 [00:03<00:00, 32.23it/s]\n",
      "100%|██████████| 100/100 [00:03<00:00, 26.81it/s]\n",
      "100%|██████████| 100/100 [00:03<00:00, 30.97it/s]\n",
      "100%|██████████| 100/100 [00:04<00:00, 24.66it/s]\n",
      "100%|██████████| 100/100 [00:03<00:00, 30.96it/s]\n"
     ]
    },
    {
     "name": "stdout",
     "output_type": "stream",
     "text": [
      "\u001b[91mRL agent fitness:-635.9784222445059\u001b[00m\n",
      "\u001b[91mRL agent fitness:-397.1158299702839\u001b[00m\n",
      "\u001b[91mRL agent fitness:-839.2112295852039\u001b[00m\n",
      "\u001b[91mRL agent fitness:-289.7113874807346\u001b[00m\n",
      "\u001b[91mRL agent fitness:-686.5209615903957\u001b[00m\n",
      "\u001b[95mIteration#10: Total steps:50000 \n",
      "\u001b[00m\n",
      "\u001b[96mnoisy RL agent fitness:-731.4730054795091\u001b[00m\n",
      "\u001b[96mnoisy RL agent fitness:-373.1672011803551\u001b[00m\n",
      "\u001b[96mnoisy RL agent fitness:-827.095245506414\u001b[00m\n",
      "\u001b[96mnoisy RL agent fitness:-372.01398133934106\u001b[00m\n"
     ]
    },
    {
     "name": "stderr",
     "output_type": "stream",
     "text": [
      "  4%|▍         | 4/100 [00:00<00:02, 34.05it/s]"
     ]
    },
    {
     "name": "stdout",
     "output_type": "stream",
     "text": [
      "\u001b[96mnoisy RL agent fitness:-883.2842851385005\u001b[00m\n"
     ]
    },
    {
     "name": "stderr",
     "output_type": "stream",
     "text": [
      "100%|██████████| 100/100 [00:03<00:00, 28.99it/s]\n",
      "100%|██████████| 100/100 [00:03<00:00, 32.25it/s]\n",
      "100%|██████████| 100/100 [00:03<00:00, 26.18it/s]\n",
      "100%|██████████| 100/100 [00:04<00:00, 24.43it/s]\n",
      "100%|██████████| 100/100 [00:03<00:00, 25.53it/s]\n"
     ]
    },
    {
     "name": "stdout",
     "output_type": "stream",
     "text": [
      "\u001b[91mRL agent fitness:-750.7731938790112\u001b[00m\n",
      "\u001b[91mRL agent fitness:-595.5916284256318\u001b[00m\n",
      "\u001b[91mRL agent fitness:-104.78634147386495\u001b[00m\n",
      "\u001b[91mRL agent fitness:-778.9902465428597\u001b[00m\n",
      "\u001b[91mRL agent fitness:-296.65112283816313\u001b[00m\n",
      "\u001b[95mIteration#11: Total steps:55000 \n",
      "\u001b[00m\n",
      "\u001b[96mnoisy RL agent fitness:-818.8751029818465\u001b[00m\n",
      "\u001b[96mnoisy RL agent fitness:-606.7476447155044\u001b[00m\n",
      "\u001b[96mnoisy RL agent fitness:-204.36276323637634\u001b[00m\n",
      "\u001b[96mnoisy RL agent fitness:-537.1946461008347\u001b[00m\n"
     ]
    },
    {
     "name": "stderr",
     "output_type": "stream",
     "text": [
      "  4%|▍         | 4/100 [00:00<00:02, 34.24it/s]"
     ]
    },
    {
     "name": "stdout",
     "output_type": "stream",
     "text": [
      "\u001b[96mnoisy RL agent fitness:-583.7463615031478\u001b[00m\n"
     ]
    },
    {
     "name": "stderr",
     "output_type": "stream",
     "text": [
      "100%|██████████| 100/100 [00:03<00:00, 26.72it/s]\n",
      "100%|██████████| 100/100 [00:04<00:00, 22.12it/s]\n",
      "100%|██████████| 100/100 [00:03<00:00, 30.76it/s]\n",
      "100%|██████████| 100/100 [00:03<00:00, 31.91it/s]\n",
      "100%|██████████| 100/100 [00:03<00:00, 30.85it/s]\n"
     ]
    },
    {
     "name": "stdout",
     "output_type": "stream",
     "text": [
      "\u001b[91mRL agent fitness:-158.10887337061087\u001b[00m\n",
      "\u001b[91mRL agent fitness:-193.95478715026513\u001b[00m\n",
      "\u001b[91mRL agent fitness:-468.034388083724\u001b[00m\n",
      "\u001b[91mRL agent fitness:-188.15040757235298\u001b[00m\n",
      "\u001b[91mRL agent fitness:-428.5404323401899\u001b[00m\n",
      "\u001b[95mIteration#12: Total steps:60000 \n",
      "\u001b[00m\n",
      "\u001b[96mnoisy RL agent fitness:-541.8684299882505\u001b[00m\n",
      "\u001b[96mnoisy RL agent fitness:-535.5987618769165\u001b[00m\n",
      "\u001b[96mnoisy RL agent fitness:-629.0285252412732\u001b[00m\n",
      "\u001b[96mnoisy RL agent fitness:-497.1561532056063\u001b[00m\n"
     ]
    },
    {
     "name": "stderr",
     "output_type": "stream",
     "text": [
      "  3%|▎         | 3/100 [00:00<00:03, 28.95it/s]"
     ]
    },
    {
     "name": "stdout",
     "output_type": "stream",
     "text": [
      "\u001b[96mnoisy RL agent fitness:-310.9195683290578\u001b[00m\n"
     ]
    },
    {
     "name": "stderr",
     "output_type": "stream",
     "text": [
      "100%|██████████| 100/100 [00:03<00:00, 29.48it/s]\n",
      "100%|██████████| 100/100 [00:04<00:00, 23.78it/s]\n",
      "100%|██████████| 100/100 [00:03<00:00, 30.21it/s]\n",
      "100%|██████████| 100/100 [00:03<00:00, 30.86it/s]\n",
      "100%|██████████| 100/100 [00:04<00:00, 23.10it/s]\n"
     ]
    },
    {
     "name": "stdout",
     "output_type": "stream",
     "text": [
      "\u001b[91mRL agent fitness:-136.11484089716828\u001b[00m\n",
      "\u001b[91mRL agent fitness:-221.8977427053594\u001b[00m\n",
      "\u001b[91mRL agent fitness:-341.9519433273447\u001b[00m\n",
      "\u001b[91mRL agent fitness:-340.5687562934627\u001b[00m\n",
      "\u001b[91mRL agent fitness:-230.88192643827747\u001b[00m\n",
      "\u001b[95mIteration#13: Total steps:65000 \n",
      "\u001b[00m\n",
      "\u001b[96mnoisy RL agent fitness:-362.8006168632944\u001b[00m\n",
      "\u001b[96mnoisy RL agent fitness:-283.5442036140383\u001b[00m\n",
      "\u001b[96mnoisy RL agent fitness:-310.8285242366166\u001b[00m\n",
      "\u001b[96mnoisy RL agent fitness:-285.88323812852286\u001b[00m\n"
     ]
    },
    {
     "name": "stderr",
     "output_type": "stream",
     "text": [
      "  3%|▎         | 3/100 [00:00<00:03, 29.94it/s]"
     ]
    },
    {
     "name": "stdout",
     "output_type": "stream",
     "text": [
      "\u001b[96mnoisy RL agent fitness:-208.24534589699687\u001b[00m\n"
     ]
    },
    {
     "name": "stderr",
     "output_type": "stream",
     "text": [
      "100%|██████████| 100/100 [00:03<00:00, 28.94it/s]\n",
      "100%|██████████| 100/100 [00:03<00:00, 30.83it/s]\n",
      "100%|██████████| 100/100 [00:03<00:00, 31.20it/s]\n",
      "100%|██████████| 100/100 [00:03<00:00, 30.27it/s]\n",
      "100%|██████████| 100/100 [00:04<00:00, 23.45it/s]\n"
     ]
    },
    {
     "name": "stdout",
     "output_type": "stream",
     "text": [
      "\u001b[91mRL agent fitness:-728.2727759333112\u001b[00m\n",
      "\u001b[91mRL agent fitness:-105.46227860470367\u001b[00m\n",
      "\u001b[91mRL agent fitness:-156.14945804668287\u001b[00m\n",
      "\u001b[91mRL agent fitness:-203.79689668107926\u001b[00m\n",
      "\u001b[91mRL agent fitness:-165.60386895049083\u001b[00m\n",
      "\u001b[95mIteration#14: Total steps:70000 \n",
      "\u001b[00m\n",
      "\u001b[96mnoisy RL agent fitness:-716.531732314773\u001b[00m\n",
      "\u001b[96mnoisy RL agent fitness:-284.97975392866783\u001b[00m\n",
      "\u001b[96mnoisy RL agent fitness:-283.1440309229519\u001b[00m\n",
      "\u001b[96mnoisy RL agent fitness:-158.52912114101912\u001b[00m\n"
     ]
    },
    {
     "name": "stderr",
     "output_type": "stream",
     "text": [
      "  4%|▍         | 4/100 [00:00<00:03, 31.81it/s]"
     ]
    },
    {
     "name": "stdout",
     "output_type": "stream",
     "text": [
      "\u001b[96mnoisy RL agent fitness:-270.8224328411096\u001b[00m\n"
     ]
    },
    {
     "name": "stderr",
     "output_type": "stream",
     "text": [
      "100%|██████████| 100/100 [00:03<00:00, 30.67it/s]\n",
      "100%|██████████| 100/100 [00:05<00:00, 19.81it/s]\n",
      "100%|██████████| 100/100 [00:03<00:00, 26.03it/s]\n",
      "100%|██████████| 100/100 [00:04<00:00, 22.80it/s]\n",
      "100%|██████████| 100/100 [00:04<00:00, 21.60it/s]\n"
     ]
    },
    {
     "name": "stdout",
     "output_type": "stream",
     "text": [
      "\u001b[91mRL agent fitness:-245.15707687452118\u001b[00m\n",
      "\u001b[91mRL agent fitness:-181.8630413783429\u001b[00m\n",
      "\u001b[91mRL agent fitness:-146.49952209564316\u001b[00m\n",
      "\u001b[91mRL agent fitness:-152.91926281974958\u001b[00m\n",
      "\u001b[91mRL agent fitness:-179.94870292906313\u001b[00m\n",
      "\u001b[95mIteration#15: Total steps:75000 \n",
      "\u001b[00m\n",
      "\u001b[96mnoisy RL agent fitness:-261.6795831740741\u001b[00m\n",
      "\u001b[96mnoisy RL agent fitness:-147.53345258655094\u001b[00m\n",
      "\u001b[96mnoisy RL agent fitness:-159.15188133530313\u001b[00m\n",
      "\u001b[96mnoisy RL agent fitness:-269.9311049733345\u001b[00m\n"
     ]
    },
    {
     "name": "stderr",
     "output_type": "stream",
     "text": [
      "  3%|▎         | 3/100 [00:00<00:03, 26.75it/s]"
     ]
    },
    {
     "name": "stdout",
     "output_type": "stream",
     "text": [
      "\u001b[96mnoisy RL agent fitness:-206.81728093581614\u001b[00m\n"
     ]
    },
    {
     "name": "stderr",
     "output_type": "stream",
     "text": [
      "100%|██████████| 100/100 [00:04<00:00, 20.31it/s]\n",
      "100%|██████████| 100/100 [00:04<00:00, 20.86it/s]\n",
      "100%|██████████| 100/100 [00:03<00:00, 27.53it/s]\n",
      "100%|██████████| 100/100 [00:03<00:00, 27.34it/s]\n",
      "100%|██████████| 100/100 [00:03<00:00, 27.00it/s]\n"
     ]
    },
    {
     "name": "stdout",
     "output_type": "stream",
     "text": [
      "\u001b[91mRL agent fitness:-221.65012125678558\u001b[00m\n",
      "\u001b[91mRL agent fitness:-128.5025292747118\u001b[00m\n",
      "\u001b[91mRL agent fitness:-123.93879325734902\u001b[00m\n",
      "\u001b[91mRL agent fitness:-219.58684759093293\u001b[00m\n",
      "\u001b[91mRL agent fitness:-200.0847882396717\u001b[00m\n",
      "\u001b[95mIteration#16: Total steps:80000 \n",
      "\u001b[00m\n",
      "\u001b[96mnoisy RL agent fitness:-191.95227835398182\u001b[00m\n",
      "\u001b[96mnoisy RL agent fitness:-169.57281959251182\u001b[00m\n",
      "\u001b[96mnoisy RL agent fitness:-169.95797704491224\u001b[00m\n",
      "\u001b[96mnoisy RL agent fitness:-330.91824338748796\u001b[00m\n"
     ]
    },
    {
     "name": "stderr",
     "output_type": "stream",
     "text": [
      "  3%|▎         | 3/100 [00:00<00:03, 28.85it/s]"
     ]
    },
    {
     "name": "stdout",
     "output_type": "stream",
     "text": [
      "\u001b[96mnoisy RL agent fitness:-160.2675626538318\u001b[00m\n"
     ]
    },
    {
     "name": "stderr",
     "output_type": "stream",
     "text": [
      "100%|██████████| 100/100 [00:03<00:00, 28.64it/s]\n",
      "100%|██████████| 100/100 [00:03<00:00, 28.60it/s]\n",
      "100%|██████████| 100/100 [00:03<00:00, 27.55it/s]\n",
      "100%|██████████| 100/100 [00:03<00:00, 27.63it/s]\n",
      "100%|██████████| 100/100 [00:04<00:00, 21.67it/s]\n"
     ]
    },
    {
     "name": "stdout",
     "output_type": "stream",
     "text": [
      "\u001b[91mRL agent fitness:-148.10663702672133\u001b[00m\n",
      "\u001b[91mRL agent fitness:-204.58828490892557\u001b[00m\n",
      "\u001b[91mRL agent fitness:-147.33334463889082\u001b[00m\n",
      "\u001b[91mRL agent fitness:-152.10877207119265\u001b[00m\n",
      "\u001b[91mRL agent fitness:-174.84619528304594\u001b[00m\n",
      "\u001b[95mIteration#17: Total steps:85000 \n",
      "\u001b[00m\n",
      "\u001b[96mnoisy RL agent fitness:-225.59807596441925\u001b[00m\n",
      "\u001b[96mnoisy RL agent fitness:-233.36720060727953\u001b[00m\n",
      "\u001b[96mnoisy RL agent fitness:-99.85217029713691\u001b[00m\n",
      "\u001b[96mnoisy RL agent fitness:-150.57391397340572\u001b[00m\n"
     ]
    },
    {
     "name": "stderr",
     "output_type": "stream",
     "text": [
      "  3%|▎         | 3/100 [00:00<00:03, 26.21it/s]"
     ]
    },
    {
     "name": "stdout",
     "output_type": "stream",
     "text": [
      "\u001b[96mnoisy RL agent fitness:-178.71088166750394\u001b[00m\n"
     ]
    },
    {
     "name": "stderr",
     "output_type": "stream",
     "text": [
      "100%|██████████| 100/100 [00:03<00:00, 27.27it/s]\n",
      "100%|██████████| 100/100 [00:05<00:00, 19.46it/s]\n",
      "100%|██████████| 100/100 [00:04<00:00, 22.59it/s]\n",
      "100%|██████████| 100/100 [00:03<00:00, 25.44it/s]\n",
      "100%|██████████| 100/100 [00:03<00:00, 25.70it/s]\n"
     ]
    },
    {
     "name": "stdout",
     "output_type": "stream",
     "text": [
      "\u001b[91mRL agent fitness:-78.9001150325618\u001b[00m\n",
      "\u001b[91mRL agent fitness:-188.15058979666628\u001b[00m\n",
      "\u001b[91mRL agent fitness:-125.7673072468752\u001b[00m\n",
      "\u001b[91mRL agent fitness:-155.76186093229836\u001b[00m\n",
      "\u001b[91mRL agent fitness:-124.34908904330345\u001b[00m\n",
      "\u001b[95mIteration#18: Total steps:90000 \n",
      "\u001b[00m\n",
      "\u001b[96mnoisy RL agent fitness:-124.77643288197348\u001b[00m\n",
      "\u001b[96mnoisy RL agent fitness:-125.39462322937777\u001b[00m\n",
      "\u001b[96mnoisy RL agent fitness:-143.842652397758\u001b[00m\n",
      "\u001b[96mnoisy RL agent fitness:-173.83202139061467\u001b[00m\n"
     ]
    },
    {
     "name": "stderr",
     "output_type": "stream",
     "text": [
      "  3%|▎         | 3/100 [00:00<00:03, 26.88it/s]"
     ]
    },
    {
     "name": "stdout",
     "output_type": "stream",
     "text": [
      "\u001b[96mnoisy RL agent fitness:-126.61643047716275\u001b[00m\n"
     ]
    },
    {
     "name": "stderr",
     "output_type": "stream",
     "text": [
      "100%|██████████| 100/100 [00:03<00:00, 25.77it/s]\n",
      "100%|██████████| 100/100 [00:03<00:00, 25.18it/s]\n",
      "100%|██████████| 100/100 [00:04<00:00, 23.86it/s]\n",
      "100%|██████████| 100/100 [00:03<00:00, 25.85it/s]\n",
      "100%|██████████| 100/100 [00:04<00:00, 24.43it/s]\n"
     ]
    },
    {
     "name": "stdout",
     "output_type": "stream",
     "text": [
      "\u001b[91mRL agent fitness:-144.91298152500522\u001b[00m\n",
      "\u001b[91mRL agent fitness:-171.17008697227473\u001b[00m\n",
      "\u001b[91mRL agent fitness:-170.51685862458285\u001b[00m\n",
      "\u001b[91mRL agent fitness:-150.16659898972964\u001b[00m\n",
      "\u001b[91mRL agent fitness:-121.74258229954353\u001b[00m\n",
      "\u001b[95mIteration#19: Total steps:95000 \n",
      "\u001b[00m\n",
      "\u001b[96mnoisy RL agent fitness:-172.8371959122961\u001b[00m\n",
      "\u001b[96mnoisy RL agent fitness:-174.93790757261354\u001b[00m\n",
      "\u001b[96mnoisy RL agent fitness:-193.03489947905013\u001b[00m\n",
      "\u001b[96mnoisy RL agent fitness:-228.80425875544225\u001b[00m\n"
     ]
    },
    {
     "name": "stderr",
     "output_type": "stream",
     "text": [
      "  3%|▎         | 3/100 [00:00<00:03, 24.42it/s]"
     ]
    },
    {
     "name": "stdout",
     "output_type": "stream",
     "text": [
      "\u001b[96mnoisy RL agent fitness:-122.37511051435042\u001b[00m\n"
     ]
    },
    {
     "name": "stderr",
     "output_type": "stream",
     "text": [
      "100%|██████████| 100/100 [00:03<00:00, 26.34it/s]\n",
      "100%|██████████| 100/100 [00:03<00:00, 25.97it/s]\n",
      "100%|██████████| 100/100 [00:03<00:00, 26.63it/s]\n",
      "100%|██████████| 100/100 [00:03<00:00, 25.12it/s]\n",
      "100%|██████████| 100/100 [00:03<00:00, 26.22it/s]\n"
     ]
    },
    {
     "name": "stdout",
     "output_type": "stream",
     "text": [
      "\u001b[91mRL agent fitness:-221.3546780932058\u001b[00m\n",
      "\u001b[91mRL agent fitness:-192.4146372178594\u001b[00m\n",
      "\u001b[91mRL agent fitness:-158.50431575635952\u001b[00m\n",
      "\u001b[91mRL agent fitness:-194.68862464693626\u001b[00m\n",
      "\u001b[91mRL agent fitness:-124.29689532457455\u001b[00m\n",
      "\u001b[95mIteration#20: Total steps:100000 \n",
      "\u001b[00m\n",
      "\u001b[96mnoisy RL agent fitness:-170.188746049738\u001b[00m\n",
      "\u001b[96mnoisy RL agent fitness:-192.06816012114786\u001b[00m\n",
      "\u001b[96mnoisy RL agent fitness:-193.08535122013905\u001b[00m\n",
      "\u001b[96mnoisy RL agent fitness:-196.65201371370588\u001b[00m\n"
     ]
    },
    {
     "name": "stderr",
     "output_type": "stream",
     "text": [
      "  3%|▎         | 3/100 [00:00<00:03, 25.94it/s]"
     ]
    },
    {
     "name": "stdout",
     "output_type": "stream",
     "text": [
      "\u001b[96mnoisy RL agent fitness:-144.75773437214016\u001b[00m\n"
     ]
    },
    {
     "name": "stderr",
     "output_type": "stream",
     "text": [
      "100%|██████████| 100/100 [00:04<00:00, 24.98it/s]\n",
      "100%|██████████| 100/100 [00:04<00:00, 24.53it/s]\n",
      "100%|██████████| 100/100 [00:03<00:00, 25.09it/s]\n",
      "100%|██████████| 100/100 [00:04<00:00, 23.70it/s]\n",
      "100%|██████████| 100/100 [00:04<00:00, 24.31it/s]\n"
     ]
    },
    {
     "name": "stdout",
     "output_type": "stream",
     "text": [
      "\u001b[91mRL agent fitness:-147.63492823204268\u001b[00m\n",
      "\u001b[91mRL agent fitness:-153.76529669173783\u001b[00m\n",
      "\u001b[91mRL agent fitness:-171.38303815295302\u001b[00m\n",
      "\u001b[91mRL agent fitness:-186.7366497106107\u001b[00m\n",
      "\u001b[91mRL agent fitness:-195.62481272169038\u001b[00m\n",
      "\u001b[95mIteration#21: Total steps:105000 \n",
      "\u001b[00m\n",
      "\u001b[96mnoisy RL agent fitness:-148.74963974798584\u001b[00m\n",
      "\u001b[96mnoisy RL agent fitness:-152.1226366013547\u001b[00m\n",
      "\u001b[96mnoisy RL agent fitness:-147.0362233350766\u001b[00m\n",
      "\u001b[96mnoisy RL agent fitness:-176.60963747791325\u001b[00m\n"
     ]
    },
    {
     "name": "stderr",
     "output_type": "stream",
     "text": [
      "  3%|▎         | 3/100 [00:00<00:04, 24.09it/s]"
     ]
    },
    {
     "name": "stdout",
     "output_type": "stream",
     "text": [
      "\u001b[96mnoisy RL agent fitness:-121.51368873953636\u001b[00m\n"
     ]
    },
    {
     "name": "stderr",
     "output_type": "stream",
     "text": [
      "100%|██████████| 100/100 [00:04<00:00, 24.02it/s]\n",
      "100%|██████████| 100/100 [00:04<00:00, 24.74it/s]\n",
      "100%|██████████| 100/100 [00:04<00:00, 23.60it/s]\n",
      "100%|██████████| 100/100 [00:04<00:00, 23.34it/s]\n",
      "100%|██████████| 100/100 [00:04<00:00, 23.49it/s]\n"
     ]
    },
    {
     "name": "stdout",
     "output_type": "stream",
     "text": [
      "\u001b[91mRL agent fitness:-148.95012753859748\u001b[00m\n",
      "\u001b[91mRL agent fitness:-124.39798640789293\u001b[00m\n",
      "\u001b[91mRL agent fitness:-140.3989088062985\u001b[00m\n",
      "\u001b[91mRL agent fitness:-172.49966420409447\u001b[00m\n",
      "\u001b[91mRL agent fitness:-169.36653146049525\u001b[00m\n",
      "\u001b[95mIteration#22: Total steps:110000 \n",
      "\u001b[00m\n",
      "\u001b[96mnoisy RL agent fitness:-124.47082733801528\u001b[00m\n",
      "\u001b[96mnoisy RL agent fitness:-169.8786086336042\u001b[00m\n",
      "\u001b[96mnoisy RL agent fitness:-156.34779319931988\u001b[00m\n",
      "\u001b[96mnoisy RL agent fitness:-99.07485133766959\u001b[00m\n"
     ]
    },
    {
     "name": "stderr",
     "output_type": "stream",
     "text": [
      "  3%|▎         | 3/100 [00:00<00:04, 23.14it/s]"
     ]
    },
    {
     "name": "stdout",
     "output_type": "stream",
     "text": [
      "\u001b[96mnoisy RL agent fitness:-123.14362292252645\u001b[00m\n"
     ]
    },
    {
     "name": "stderr",
     "output_type": "stream",
     "text": [
      "100%|██████████| 100/100 [00:04<00:00, 24.32it/s]\n",
      "100%|██████████| 100/100 [00:04<00:00, 24.82it/s]\n",
      "100%|██████████| 100/100 [00:04<00:00, 22.89it/s]\n",
      "100%|██████████| 100/100 [00:04<00:00, 23.28it/s]\n",
      "100%|██████████| 100/100 [00:04<00:00, 21.78it/s]\n"
     ]
    },
    {
     "name": "stdout",
     "output_type": "stream",
     "text": [
      "\u001b[91mRL agent fitness:-165.1072727537388\u001b[00m\n",
      "\u001b[91mRL agent fitness:-148.23342233244654\u001b[00m\n",
      "\u001b[91mRL agent fitness:-125.3572744690717\u001b[00m\n",
      "\u001b[91mRL agent fitness:-123.318247325115\u001b[00m\n",
      "\u001b[91mRL agent fitness:-150.14655636361573\u001b[00m\n",
      "\u001b[95mIteration#23: Total steps:115000 \n",
      "\u001b[00m\n",
      "\u001b[96mnoisy RL agent fitness:-176.32450739252553\u001b[00m\n",
      "\u001b[96mnoisy RL agent fitness:-150.0597712606864\u001b[00m\n",
      "\u001b[96mnoisy RL agent fitness:-175.22043594365778\u001b[00m\n",
      "\u001b[96mnoisy RL agent fitness:-121.31611949576195\u001b[00m\n"
     ]
    },
    {
     "name": "stderr",
     "output_type": "stream",
     "text": [
      "  3%|▎         | 3/100 [00:00<00:04, 20.53it/s]"
     ]
    },
    {
     "name": "stdout",
     "output_type": "stream",
     "text": [
      "\u001b[96mnoisy RL agent fitness:-182.47743914850855\u001b[00m\n"
     ]
    },
    {
     "name": "stderr",
     "output_type": "stream",
     "text": [
      "100%|██████████| 100/100 [00:04<00:00, 22.82it/s]\n",
      "100%|██████████| 100/100 [00:04<00:00, 24.06it/s]\n",
      "100%|██████████| 100/100 [00:04<00:00, 22.76it/s]\n",
      "100%|██████████| 100/100 [00:05<00:00, 18.33it/s]\n",
      "100%|██████████| 100/100 [00:04<00:00, 21.23it/s]\n"
     ]
    },
    {
     "name": "stdout",
     "output_type": "stream",
     "text": [
      "\u001b[91mRL agent fitness:-212.4481198651641\u001b[00m\n",
      "\u001b[91mRL agent fitness:-173.5020563834451\u001b[00m\n",
      "\u001b[91mRL agent fitness:-148.93857874317285\u001b[00m\n",
      "\u001b[91mRL agent fitness:-145.08976118074978\u001b[00m\n",
      "\u001b[91mRL agent fitness:-124.52325385931817\u001b[00m\n",
      "\u001b[95mIteration#24: Total steps:120000 \n",
      "\u001b[00m\n",
      "\u001b[96mnoisy RL agent fitness:-178.32475223484323\u001b[00m\n",
      "\u001b[96mnoisy RL agent fitness:-168.0980149777791\u001b[00m\n",
      "\u001b[96mnoisy RL agent fitness:-122.53901841628279\u001b[00m\n",
      "\u001b[96mnoisy RL agent fitness:-145.28960865428218\u001b[00m\n"
     ]
    },
    {
     "name": "stderr",
     "output_type": "stream",
     "text": [
      "  3%|▎         | 3/100 [00:00<00:04, 21.06it/s]"
     ]
    },
    {
     "name": "stdout",
     "output_type": "stream",
     "text": [
      "\u001b[96mnoisy RL agent fitness:-150.56358993015445\u001b[00m\n"
     ]
    },
    {
     "name": "stderr",
     "output_type": "stream",
     "text": [
      "100%|██████████| 100/100 [00:05<00:00, 19.18it/s]\n",
      "100%|██████████| 100/100 [00:05<00:00, 17.53it/s]\n",
      "100%|██████████| 100/100 [00:06<00:00, 16.10it/s]\n",
      "100%|██████████| 100/100 [00:04<00:00, 21.62it/s]\n",
      "100%|██████████| 100/100 [00:05<00:00, 17.93it/s]\n"
     ]
    },
    {
     "name": "stdout",
     "output_type": "stream",
     "text": [
      "\u001b[91mRL agent fitness:-148.85055578050202\u001b[00m\n",
      "\u001b[91mRL agent fitness:-169.8188188080428\u001b[00m\n",
      "\u001b[91mRL agent fitness:-123.38382039367355\u001b[00m\n",
      "\u001b[91mRL agent fitness:-167.60026596889915\u001b[00m\n",
      "\u001b[91mRL agent fitness:-194.00598077044876\u001b[00m\n",
      "\u001b[95mIteration#25: Total steps:125000 \n",
      "\u001b[00m\n",
      "\u001b[96mnoisy RL agent fitness:-122.71112886129814\u001b[00m\n",
      "\u001b[96mnoisy RL agent fitness:-121.79499383842699\u001b[00m\n",
      "\u001b[96mnoisy RL agent fitness:-169.28705965808138\u001b[00m\n",
      "\u001b[96mnoisy RL agent fitness:-215.44096322585023\u001b[00m\n"
     ]
    },
    {
     "name": "stderr",
     "output_type": "stream",
     "text": [
      "  3%|▎         | 3/100 [00:00<00:04, 22.24it/s]"
     ]
    },
    {
     "name": "stdout",
     "output_type": "stream",
     "text": [
      "\u001b[96mnoisy RL agent fitness:-74.44207849808006\u001b[00m\n"
     ]
    },
    {
     "name": "stderr",
     "output_type": "stream",
     "text": [
      "100%|██████████| 100/100 [00:04<00:00, 22.18it/s]\n",
      "100%|██████████| 100/100 [00:04<00:00, 22.42it/s]\n",
      "100%|██████████| 100/100 [00:04<00:00, 22.76it/s]\n",
      "100%|██████████| 100/100 [00:04<00:00, 22.43it/s]\n",
      "100%|██████████| 100/100 [00:04<00:00, 23.09it/s]\n"
     ]
    },
    {
     "name": "stdout",
     "output_type": "stream",
     "text": [
      "\u001b[91mRL agent fitness:-118.867667243608\u001b[00m\n",
      "\u001b[91mRL agent fitness:-192.3569786378946\u001b[00m\n",
      "\u001b[91mRL agent fitness:-127.41194638009968\u001b[00m\n",
      "\u001b[91mRL agent fitness:-172.1748591145186\u001b[00m\n",
      "\u001b[91mRL agent fitness:-184.59889056979463\u001b[00m\n",
      "\u001b[95mIteration#26: Total steps:130000 \n",
      "\u001b[00m\n",
      "\u001b[96mnoisy RL agent fitness:-175.78560179783864\u001b[00m\n",
      "\u001b[96mnoisy RL agent fitness:-75.49732450129174\u001b[00m\n",
      "\u001b[96mnoisy RL agent fitness:-143.5880423124491\u001b[00m\n",
      "\u001b[96mnoisy RL agent fitness:-211.74197577437735\u001b[00m\n"
     ]
    },
    {
     "name": "stderr",
     "output_type": "stream",
     "text": [
      "  3%|▎         | 3/100 [00:00<00:04, 22.31it/s]"
     ]
    },
    {
     "name": "stdout",
     "output_type": "stream",
     "text": [
      "\u001b[96mnoisy RL agent fitness:-123.00080724382755\u001b[00m\n"
     ]
    },
    {
     "name": "stderr",
     "output_type": "stream",
     "text": [
      "100%|██████████| 100/100 [00:04<00:00, 21.93it/s]\n",
      "100%|██████████| 100/100 [00:04<00:00, 21.67it/s]\n",
      "100%|██████████| 100/100 [00:04<00:00, 21.51it/s]\n",
      "100%|██████████| 100/100 [00:04<00:00, 21.91it/s]\n",
      "100%|██████████| 100/100 [00:04<00:00, 22.51it/s]\n"
     ]
    },
    {
     "name": "stdout",
     "output_type": "stream",
     "text": [
      "\u001b[91mRL agent fitness:-149.13041518985992\u001b[00m\n",
      "\u001b[91mRL agent fitness:-143.34988636471613\u001b[00m\n",
      "\u001b[91mRL agent fitness:-182.73076684220246\u001b[00m\n",
      "\u001b[91mRL agent fitness:-180.7372114861371\u001b[00m\n",
      "\u001b[91mRL agent fitness:-100.10573880109307\u001b[00m\n",
      "\u001b[95mIteration#27: Total steps:135000 \n",
      "\u001b[00m\n",
      "\u001b[96mnoisy RL agent fitness:-146.85256287770983\u001b[00m\n",
      "\u001b[96mnoisy RL agent fitness:-121.645594149879\u001b[00m\n",
      "\u001b[96mnoisy RL agent fitness:-170.36458902678234\u001b[00m\n",
      "\u001b[96mnoisy RL agent fitness:-145.71299816630707\u001b[00m\n"
     ]
    },
    {
     "name": "stderr",
     "output_type": "stream",
     "text": [
      "  3%|▎         | 3/100 [00:00<00:04, 21.58it/s]"
     ]
    },
    {
     "name": "stdout",
     "output_type": "stream",
     "text": [
      "\u001b[96mnoisy RL agent fitness:-124.89842611960134\u001b[00m\n"
     ]
    },
    {
     "name": "stderr",
     "output_type": "stream",
     "text": [
      "100%|██████████| 100/100 [00:06<00:00, 16.12it/s]\n",
      "100%|██████████| 100/100 [00:04<00:00, 21.69it/s]\n",
      "100%|██████████| 100/100 [00:04<00:00, 21.86it/s]\n",
      "100%|██████████| 100/100 [00:04<00:00, 21.21it/s]\n",
      "100%|██████████| 100/100 [00:04<00:00, 22.08it/s]\n"
     ]
    },
    {
     "name": "stdout",
     "output_type": "stream",
     "text": [
      "\u001b[91mRL agent fitness:-192.91440723158405\u001b[00m\n",
      "\u001b[91mRL agent fitness:-171.49217939961494\u001b[00m\n",
      "\u001b[91mRL agent fitness:-193.0801981375067\u001b[00m\n",
      "\u001b[91mRL agent fitness:-146.69676651800918\u001b[00m\n",
      "\u001b[91mRL agent fitness:-197.47855373627593\u001b[00m\n",
      "\u001b[95mIteration#28: Total steps:140000 \n",
      "\u001b[00m\n",
      "\u001b[96mnoisy RL agent fitness:-120.81782073496814\u001b[00m\n",
      "\u001b[96mnoisy RL agent fitness:-156.17493575883162\u001b[00m\n",
      "\u001b[96mnoisy RL agent fitness:-94.82343344372657\u001b[00m\n",
      "\u001b[96mnoisy RL agent fitness:-163.3458866888875\u001b[00m\n"
     ]
    },
    {
     "name": "stderr",
     "output_type": "stream",
     "text": [
      "  3%|▎         | 3/100 [00:00<00:04, 21.06it/s]"
     ]
    },
    {
     "name": "stdout",
     "output_type": "stream",
     "text": [
      "\u001b[96mnoisy RL agent fitness:-235.13926719827117\u001b[00m\n"
     ]
    },
    {
     "name": "stderr",
     "output_type": "stream",
     "text": [
      "100%|██████████| 100/100 [00:04<00:00, 21.46it/s]\n",
      "100%|██████████| 100/100 [00:05<00:00, 18.04it/s]\n",
      "100%|██████████| 100/100 [00:04<00:00, 21.11it/s]\n",
      "100%|██████████| 100/100 [00:04<00:00, 20.93it/s]\n",
      "100%|██████████| 100/100 [00:04<00:00, 21.39it/s]\n"
     ]
    },
    {
     "name": "stdout",
     "output_type": "stream",
     "text": [
      "\u001b[91mRL agent fitness:-171.45981533269477\u001b[00m\n",
      "\u001b[91mRL agent fitness:-191.40971937141725\u001b[00m\n",
      "\u001b[91mRL agent fitness:-97.92109373953573\u001b[00m\n",
      "\u001b[91mRL agent fitness:-196.30219895745347\u001b[00m\n",
      "\u001b[91mRL agent fitness:-170.91476739213974\u001b[00m\n",
      "\u001b[95mIteration#29: Total steps:145000 \n",
      "\u001b[00m\n",
      "\u001b[96mnoisy RL agent fitness:-97.78182545888487\u001b[00m\n",
      "\u001b[96mnoisy RL agent fitness:-148.9736693560291\u001b[00m\n",
      "\u001b[96mnoisy RL agent fitness:-123.57561321143476\u001b[00m\n",
      "\u001b[96mnoisy RL agent fitness:-147.72438878622577\u001b[00m\n"
     ]
    },
    {
     "name": "stderr",
     "output_type": "stream",
     "text": [
      "  3%|▎         | 3/100 [00:00<00:04, 21.00it/s]"
     ]
    },
    {
     "name": "stdout",
     "output_type": "stream",
     "text": [
      "\u001b[96mnoisy RL agent fitness:-142.11851268941956\u001b[00m\n"
     ]
    },
    {
     "name": "stderr",
     "output_type": "stream",
     "text": [
      "100%|██████████| 100/100 [00:04<00:00, 20.95it/s]\n",
      "100%|██████████| 100/100 [00:04<00:00, 21.21it/s]\n",
      "100%|██████████| 100/100 [00:04<00:00, 20.97it/s]\n",
      "100%|██████████| 100/100 [00:04<00:00, 20.76it/s]\n",
      "100%|██████████| 100/100 [00:04<00:00, 20.82it/s]\n"
     ]
    },
    {
     "name": "stdout",
     "output_type": "stream",
     "text": [
      "\u001b[91mRL agent fitness:-73.3243654991152\u001b[00m\n",
      "\u001b[91mRL agent fitness:-146.6533070592715\u001b[00m\n",
      "\u001b[91mRL agent fitness:-149.89035906636246\u001b[00m\n",
      "\u001b[91mRL agent fitness:-122.37002639091335\u001b[00m\n",
      "\u001b[91mRL agent fitness:-168.09604634899324\u001b[00m\n",
      "\u001b[95mIteration#30: Total steps:150000 \n",
      "\u001b[00m\n",
      "\u001b[96mnoisy RL agent fitness:-278.8889156672388\u001b[00m\n",
      "\u001b[96mnoisy RL agent fitness:-198.22921551240643\u001b[00m\n",
      "\u001b[96mnoisy RL agent fitness:-152.98475231654976\u001b[00m\n",
      "\u001b[96mnoisy RL agent fitness:-148.09858867130737\u001b[00m\n"
     ]
    },
    {
     "name": "stderr",
     "output_type": "stream",
     "text": [
      "  2%|▏         | 2/100 [00:00<00:05, 19.54it/s]"
     ]
    },
    {
     "name": "stdout",
     "output_type": "stream",
     "text": [
      "\u001b[96mnoisy RL agent fitness:-174.6209542769795\u001b[00m\n"
     ]
    },
    {
     "name": "stderr",
     "output_type": "stream",
     "text": [
      "100%|██████████| 100/100 [00:04<00:00, 20.35it/s]\n",
      "100%|██████████| 100/100 [00:04<00:00, 20.84it/s]\n",
      "100%|██████████| 100/100 [00:04<00:00, 20.40it/s]\n",
      "100%|██████████| 100/100 [00:04<00:00, 20.41it/s]\n",
      "100%|██████████| 100/100 [00:05<00:00, 17.92it/s]\n"
     ]
    },
    {
     "name": "stdout",
     "output_type": "stream",
     "text": [
      "\u001b[91mRL agent fitness:-71.65507638555803\u001b[00m\n",
      "\u001b[91mRL agent fitness:-183.74777239268695\u001b[00m\n",
      "\u001b[91mRL agent fitness:-74.43128330963492\u001b[00m\n",
      "\u001b[91mRL agent fitness:-147.2450159969199\u001b[00m\n",
      "\u001b[91mRL agent fitness:-149.66416615133554\u001b[00m\n",
      "\u001b[95mIteration#31: Total steps:155000 \n",
      "\u001b[00m\n",
      "\u001b[96mnoisy RL agent fitness:-108.81203304574952\u001b[00m\n",
      "\u001b[96mnoisy RL agent fitness:-144.37904354887843\u001b[00m\n",
      "\u001b[96mnoisy RL agent fitness:-188.05948435917642\u001b[00m\n",
      "\u001b[96mnoisy RL agent fitness:-143.43765002264152\u001b[00m\n"
     ]
    },
    {
     "name": "stderr",
     "output_type": "stream",
     "text": [
      "  3%|▎         | 3/100 [00:00<00:04, 20.30it/s]"
     ]
    },
    {
     "name": "stdout",
     "output_type": "stream",
     "text": [
      "\u001b[96mnoisy RL agent fitness:-180.1435134909372\u001b[00m\n"
     ]
    },
    {
     "name": "stderr",
     "output_type": "stream",
     "text": [
      "100%|██████████| 100/100 [00:05<00:00, 19.09it/s]\n",
      "100%|██████████| 100/100 [00:05<00:00, 19.85it/s]\n",
      "100%|██████████| 100/100 [00:04<00:00, 20.35it/s]\n",
      "100%|██████████| 100/100 [00:04<00:00, 20.36it/s]\n",
      "100%|██████████| 100/100 [00:04<00:00, 20.00it/s]\n"
     ]
    },
    {
     "name": "stdout",
     "output_type": "stream",
     "text": [
      "\u001b[91mRL agent fitness:-174.8873866373345\u001b[00m\n",
      "\u001b[91mRL agent fitness:-98.47279875119604\u001b[00m\n",
      "\u001b[91mRL agent fitness:-146.72408810640889\u001b[00m\n",
      "\u001b[91mRL agent fitness:-192.06601348993877\u001b[00m\n",
      "\u001b[91mRL agent fitness:-244.05078077942548\u001b[00m\n",
      "\u001b[95mIteration#32: Total steps:160000 \n",
      "\u001b[00m\n",
      "\u001b[96mnoisy RL agent fitness:-193.91487265927717\u001b[00m\n",
      "\u001b[96mnoisy RL agent fitness:-221.79168781881566\u001b[00m\n",
      "\u001b[96mnoisy RL agent fitness:-168.75187294606638\u001b[00m\n",
      "\u001b[96mnoisy RL agent fitness:-244.73827747856376\u001b[00m\n"
     ]
    },
    {
     "name": "stderr",
     "output_type": "stream",
     "text": [
      "  3%|▎         | 3/100 [00:00<00:04, 21.05it/s]"
     ]
    },
    {
     "name": "stdout",
     "output_type": "stream",
     "text": [
      "\u001b[96mnoisy RL agent fitness:-173.1478833227271\u001b[00m\n"
     ]
    },
    {
     "name": "stderr",
     "output_type": "stream",
     "text": [
      "100%|██████████| 100/100 [00:05<00:00, 19.84it/s]\n",
      "100%|██████████| 100/100 [00:06<00:00, 15.98it/s]\n",
      "100%|██████████| 100/100 [00:05<00:00, 19.43it/s]\n",
      "100%|██████████| 100/100 [00:06<00:00, 15.53it/s]\n",
      "100%|██████████| 100/100 [00:05<00:00, 19.30it/s]\n"
     ]
    },
    {
     "name": "stdout",
     "output_type": "stream",
     "text": [
      "\u001b[91mRL agent fitness:-121.27390703531185\u001b[00m\n",
      "\u001b[91mRL agent fitness:-121.47842432168042\u001b[00m\n",
      "\u001b[91mRL agent fitness:-174.28301504038657\u001b[00m\n",
      "\u001b[91mRL agent fitness:-150.24059345876276\u001b[00m\n",
      "\u001b[91mRL agent fitness:-122.09960975437598\u001b[00m\n",
      "\u001b[95mIteration#33: Total steps:165000 \n",
      "\u001b[00m\n",
      "\u001b[96mnoisy RL agent fitness:-177.83626308880292\u001b[00m\n",
      "\u001b[96mnoisy RL agent fitness:-166.91401992378468\u001b[00m\n",
      "\u001b[96mnoisy RL agent fitness:-176.9503648419586\u001b[00m\n",
      "\u001b[96mnoisy RL agent fitness:-170.4654307579263\u001b[00m\n"
     ]
    },
    {
     "name": "stderr",
     "output_type": "stream",
     "text": [
      "  2%|▏         | 2/100 [00:00<00:05, 19.28it/s]"
     ]
    },
    {
     "name": "stdout",
     "output_type": "stream",
     "text": [
      "\u001b[96mnoisy RL agent fitness:-172.35455896479974\u001b[00m\n"
     ]
    },
    {
     "name": "stderr",
     "output_type": "stream",
     "text": [
      "100%|██████████| 100/100 [00:05<00:00, 18.62it/s]\n",
      "100%|██████████| 100/100 [00:05<00:00, 16.84it/s]\n",
      "100%|██████████| 100/100 [00:05<00:00, 18.65it/s]\n",
      "100%|██████████| 100/100 [00:08<00:00, 11.34it/s]\n",
      "100%|██████████| 100/100 [00:05<00:00, 18.74it/s]\n"
     ]
    },
    {
     "name": "stdout",
     "output_type": "stream",
     "text": [
      "\u001b[91mRL agent fitness:-70.11782083397956\u001b[00m\n",
      "\u001b[91mRL agent fitness:-99.61962099212396\u001b[00m\n",
      "\u001b[91mRL agent fitness:-96.8133005865184\u001b[00m\n",
      "\u001b[91mRL agent fitness:-217.28055084861052\u001b[00m\n",
      "\u001b[91mRL agent fitness:-121.41460240190023\u001b[00m\n",
      "\u001b[95mIteration#34: Total steps:170000 \n",
      "\u001b[00m\n",
      "\u001b[96mnoisy RL agent fitness:-144.1269962192194\u001b[00m\n",
      "\u001b[96mnoisy RL agent fitness:-160.05821186427272\u001b[00m\n",
      "\u001b[96mnoisy RL agent fitness:-194.4158047342557\u001b[00m\n",
      "\u001b[96mnoisy RL agent fitness:-120.21611626649198\u001b[00m\n"
     ]
    },
    {
     "name": "stderr",
     "output_type": "stream",
     "text": [
      "  2%|▏         | 2/100 [00:00<00:06, 15.86it/s]"
     ]
    },
    {
     "name": "stdout",
     "output_type": "stream",
     "text": [
      "\u001b[96mnoisy RL agent fitness:-172.07239569906875\u001b[00m\n"
     ]
    },
    {
     "name": "stderr",
     "output_type": "stream",
     "text": [
      "100%|██████████| 100/100 [00:06<00:00, 14.29it/s]\n",
      "100%|██████████| 100/100 [00:05<00:00, 16.86it/s]\n",
      "100%|██████████| 100/100 [00:05<00:00, 18.47it/s]\n",
      "100%|██████████| 100/100 [00:05<00:00, 18.56it/s]\n",
      "100%|██████████| 100/100 [00:05<00:00, 18.09it/s]\n"
     ]
    },
    {
     "name": "stdout",
     "output_type": "stream",
     "text": [
      "\u001b[91mRL agent fitness:-190.1939031379243\u001b[00m\n",
      "\u001b[91mRL agent fitness:-121.2040614035833\u001b[00m\n",
      "\u001b[91mRL agent fitness:-121.88084635512908\u001b[00m\n",
      "\u001b[91mRL agent fitness:-122.02044484921757\u001b[00m\n",
      "\u001b[91mRL agent fitness:-255.07277734132808\u001b[00m\n",
      "\u001b[95mIteration#35: Total steps:175000 \n",
      "\u001b[00m\n",
      "\u001b[96mnoisy RL agent fitness:-121.76533373014463\u001b[00m\n",
      "\u001b[96mnoisy RL agent fitness:-215.291800280024\u001b[00m\n",
      "\u001b[96mnoisy RL agent fitness:-140.97558450677624\u001b[00m\n",
      "\u001b[96mnoisy RL agent fitness:-194.24754955513774\u001b[00m\n"
     ]
    },
    {
     "name": "stderr",
     "output_type": "stream",
     "text": [
      "  2%|▏         | 2/100 [00:00<00:05, 17.30it/s]"
     ]
    },
    {
     "name": "stdout",
     "output_type": "stream",
     "text": [
      "\u001b[96mnoisy RL agent fitness:-197.72822854029786\u001b[00m\n"
     ]
    },
    {
     "name": "stderr",
     "output_type": "stream",
     "text": [
      "100%|██████████| 100/100 [00:05<00:00, 18.02it/s]\n",
      "100%|██████████| 100/100 [00:05<00:00, 18.31it/s]\n",
      "100%|██████████| 100/100 [00:05<00:00, 18.92it/s]\n",
      "100%|██████████| 100/100 [00:05<00:00, 18.39it/s]\n",
      "100%|██████████| 100/100 [00:05<00:00, 18.56it/s]\n"
     ]
    },
    {
     "name": "stdout",
     "output_type": "stream",
     "text": [
      "\u001b[91mRL agent fitness:-187.45848892079167\u001b[00m\n",
      "\u001b[91mRL agent fitness:-115.07788906237249\u001b[00m\n",
      "\u001b[91mRL agent fitness:-173.1347733874565\u001b[00m\n",
      "\u001b[91mRL agent fitness:-183.5451740595236\u001b[00m\n",
      "\u001b[91mRL agent fitness:-98.42106111067604\u001b[00m\n",
      "\u001b[95mIteration#36: Total steps:180000 \n",
      "\u001b[00m\n",
      "\u001b[96mnoisy RL agent fitness:-144.73784869944853\u001b[00m\n",
      "\u001b[96mnoisy RL agent fitness:-229.37011001093487\u001b[00m\n",
      "\u001b[96mnoisy RL agent fitness:-149.9413847621713\u001b[00m\n",
      "\u001b[96mnoisy RL agent fitness:-143.6348074746444\u001b[00m\n"
     ]
    },
    {
     "name": "stderr",
     "output_type": "stream",
     "text": [
      "  2%|▏         | 2/100 [00:00<00:05, 19.23it/s]"
     ]
    },
    {
     "name": "stdout",
     "output_type": "stream",
     "text": [
      "\u001b[96mnoisy RL agent fitness:-122.17875756342058\u001b[00m\n"
     ]
    },
    {
     "name": "stderr",
     "output_type": "stream",
     "text": [
      "100%|██████████| 100/100 [00:05<00:00, 17.18it/s]\n",
      "100%|██████████| 100/100 [00:05<00:00, 18.47it/s]\n",
      "100%|██████████| 100/100 [00:05<00:00, 17.97it/s]\n",
      "100%|██████████| 100/100 [00:05<00:00, 18.20it/s]\n",
      "100%|██████████| 100/100 [00:05<00:00, 17.59it/s]\n"
     ]
    },
    {
     "name": "stdout",
     "output_type": "stream",
     "text": [
      "\u001b[91mRL agent fitness:-122.20538453717704\u001b[00m\n",
      "\u001b[91mRL agent fitness:-73.71008918481323\u001b[00m\n",
      "\u001b[91mRL agent fitness:-93.01375271619678\u001b[00m\n",
      "\u001b[91mRL agent fitness:-187.31539698240996\u001b[00m\n",
      "\u001b[91mRL agent fitness:-142.941261163902\u001b[00m\n",
      "\u001b[95mIteration#37: Total steps:185000 \n",
      "\u001b[00m\n",
      "\u001b[96mnoisy RL agent fitness:-228.186738486666\u001b[00m\n",
      "\u001b[96mnoisy RL agent fitness:-170.56373376836694\u001b[00m\n",
      "\u001b[96mnoisy RL agent fitness:-173.4081733301483\u001b[00m\n",
      "\u001b[96mnoisy RL agent fitness:-221.17218705044175\u001b[00m\n"
     ]
    },
    {
     "name": "stderr",
     "output_type": "stream",
     "text": [
      "  2%|▏         | 2/100 [00:00<00:05, 18.59it/s]"
     ]
    },
    {
     "name": "stdout",
     "output_type": "stream",
     "text": [
      "\u001b[96mnoisy RL agent fitness:-195.175566278468\u001b[00m\n"
     ]
    },
    {
     "name": "stderr",
     "output_type": "stream",
     "text": [
      "100%|██████████| 100/100 [00:05<00:00, 18.08it/s]\n",
      "100%|██████████| 100/100 [00:05<00:00, 17.74it/s]\n",
      "100%|██████████| 100/100 [00:05<00:00, 17.54it/s]\n",
      "100%|██████████| 100/100 [00:05<00:00, 17.57it/s]\n",
      "100%|██████████| 100/100 [00:05<00:00, 17.71it/s]\n"
     ]
    },
    {
     "name": "stdout",
     "output_type": "stream",
     "text": [
      "\u001b[91mRL agent fitness:-122.9683017594042\u001b[00m\n",
      "\u001b[91mRL agent fitness:-203.91138511760875\u001b[00m\n",
      "\u001b[91mRL agent fitness:-177.9189599300558\u001b[00m\n",
      "\u001b[91mRL agent fitness:-73.3770934662354\u001b[00m\n",
      "\u001b[91mRL agent fitness:-170.13301308049745\u001b[00m\n",
      "\u001b[95mIteration#38: Total steps:190000 \n",
      "\u001b[00m\n",
      "\u001b[96mnoisy RL agent fitness:-122.20129279304714\u001b[00m\n",
      "\u001b[96mnoisy RL agent fitness:-160.0706243144777\u001b[00m\n",
      "\u001b[96mnoisy RL agent fitness:-177.5856753995409\u001b[00m\n",
      "\u001b[96mnoisy RL agent fitness:-218.9368095874464\u001b[00m\n"
     ]
    },
    {
     "name": "stderr",
     "output_type": "stream",
     "text": [
      "  2%|▏         | 2/100 [00:00<00:05, 18.19it/s]"
     ]
    },
    {
     "name": "stdout",
     "output_type": "stream",
     "text": [
      "\u001b[96mnoisy RL agent fitness:-188.58019736915247\u001b[00m\n"
     ]
    },
    {
     "name": "stderr",
     "output_type": "stream",
     "text": [
      "100%|██████████| 100/100 [00:05<00:00, 17.69it/s]\n",
      "100%|██████████| 100/100 [00:05<00:00, 17.28it/s]\n",
      "100%|██████████| 100/100 [00:05<00:00, 17.06it/s]\n",
      "100%|██████████| 100/100 [00:05<00:00, 17.36it/s]\n",
      "100%|██████████| 100/100 [00:06<00:00, 15.37it/s]\n"
     ]
    },
    {
     "name": "stdout",
     "output_type": "stream",
     "text": [
      "\u001b[91mRL agent fitness:-140.79019882361197\u001b[00m\n",
      "\u001b[91mRL agent fitness:-168.05261891894853\u001b[00m\n",
      "\u001b[91mRL agent fitness:-147.27977273343646\u001b[00m\n",
      "\u001b[91mRL agent fitness:-121.28478834170623\u001b[00m\n",
      "\u001b[91mRL agent fitness:-216.0348735268702\u001b[00m\n",
      "\u001b[95mIteration#39: Total steps:195000 \n",
      "\u001b[00m\n",
      "\u001b[96mnoisy RL agent fitness:-217.73022143709082\u001b[00m\n",
      "\u001b[96mnoisy RL agent fitness:-143.93584440391527\u001b[00m\n",
      "\u001b[96mnoisy RL agent fitness:-166.20589964820297\u001b[00m\n",
      "\u001b[96mnoisy RL agent fitness:-123.18449259828756\u001b[00m\n"
     ]
    },
    {
     "name": "stderr",
     "output_type": "stream",
     "text": [
      "  2%|▏         | 2/100 [00:00<00:05, 18.34it/s]"
     ]
    },
    {
     "name": "stdout",
     "output_type": "stream",
     "text": [
      "\u001b[96mnoisy RL agent fitness:-97.74148699120424\u001b[00m\n"
     ]
    },
    {
     "name": "stderr",
     "output_type": "stream",
     "text": [
      "100%|██████████| 100/100 [00:05<00:00, 17.38it/s]\n",
      "100%|██████████| 100/100 [00:05<00:00, 17.35it/s]\n",
      "100%|██████████| 100/100 [00:05<00:00, 17.02it/s]\n",
      "100%|██████████| 100/100 [00:05<00:00, 17.00it/s]\n",
      "100%|██████████| 100/100 [00:05<00:00, 16.74it/s]\n"
     ]
    },
    {
     "name": "stdout",
     "output_type": "stream",
     "text": [
      "\u001b[91mRL agent fitness:-193.35454731690442\u001b[00m\n",
      "\u001b[91mRL agent fitness:-121.13682790228268\u001b[00m\n",
      "\u001b[91mRL agent fitness:-147.80065866380383\u001b[00m\n",
      "\u001b[91mRL agent fitness:-170.83403676817073\u001b[00m\n",
      "\u001b[91mRL agent fitness:-167.23847938054533\u001b[00m\n",
      "\u001b[95mIteration#40: Total steps:200000 \n",
      "\u001b[00m\n",
      "\u001b[96mnoisy RL agent fitness:-170.6210005115028\u001b[00m\n",
      "\u001b[96mnoisy RL agent fitness:-190.75713489802402\u001b[00m\n",
      "\u001b[96mnoisy RL agent fitness:-167.6942415837529\u001b[00m\n",
      "\u001b[96mnoisy RL agent fitness:-169.61798776171995\u001b[00m\n"
     ]
    },
    {
     "name": "stderr",
     "output_type": "stream",
     "text": [
      "  2%|▏         | 2/100 [00:00<00:05, 17.04it/s]"
     ]
    },
    {
     "name": "stdout",
     "output_type": "stream",
     "text": [
      "\u001b[96mnoisy RL agent fitness:-143.10519814359102\u001b[00m\n"
     ]
    },
    {
     "name": "stderr",
     "output_type": "stream",
     "text": [
      "100%|██████████| 100/100 [00:05<00:00, 16.80it/s]\n",
      "100%|██████████| 100/100 [00:05<00:00, 16.77it/s]\n",
      "100%|██████████| 100/100 [00:05<00:00, 16.85it/s]\n",
      "100%|██████████| 100/100 [00:05<00:00, 16.98it/s]\n",
      "100%|██████████| 100/100 [00:05<00:00, 16.79it/s]\n"
     ]
    },
    {
     "name": "stdout",
     "output_type": "stream",
     "text": [
      "\u001b[91mRL agent fitness:-213.96869275556415\u001b[00m\n",
      "\u001b[91mRL agent fitness:-194.54100532384027\u001b[00m\n",
      "\u001b[91mRL agent fitness:-122.92768967070674\u001b[00m\n",
      "\u001b[91mRL agent fitness:-242.5027192829989\u001b[00m\n",
      "\u001b[91mRL agent fitness:-245.5957689179723\u001b[00m\n",
      "\u001b[95mIteration#41: Total steps:205000 \n",
      "\u001b[00m\n",
      "\u001b[96mnoisy RL agent fitness:-97.91227092170277\u001b[00m\n",
      "\u001b[96mnoisy RL agent fitness:-115.41747250884691\u001b[00m\n",
      "\u001b[96mnoisy RL agent fitness:-122.26607859400102\u001b[00m\n",
      "\u001b[96mnoisy RL agent fitness:-143.93779508193234\u001b[00m\n"
     ]
    },
    {
     "name": "stderr",
     "output_type": "stream",
     "text": [
      "  2%|▏         | 2/100 [00:00<00:06, 15.75it/s]"
     ]
    },
    {
     "name": "stdout",
     "output_type": "stream",
     "text": [
      "\u001b[96mnoisy RL agent fitness:-121.88282032895363\u001b[00m\n"
     ]
    },
    {
     "name": "stderr",
     "output_type": "stream",
     "text": [
      "100%|██████████| 100/100 [00:05<00:00, 16.70it/s]\n",
      "100%|██████████| 100/100 [00:06<00:00, 16.57it/s]\n",
      "100%|██████████| 100/100 [00:05<00:00, 16.71it/s]\n",
      "100%|██████████| 100/100 [00:06<00:00, 16.54it/s]\n",
      "100%|██████████| 100/100 [00:06<00:00, 16.63it/s]\n"
     ]
    },
    {
     "name": "stdout",
     "output_type": "stream",
     "text": [
      "\u001b[91mRL agent fitness:-171.0462820279222\u001b[00m\n",
      "\u001b[91mRL agent fitness:-244.50022998496934\u001b[00m\n",
      "\u001b[91mRL agent fitness:-117.00566615106007\u001b[00m\n",
      "\u001b[91mRL agent fitness:-143.55550747526223\u001b[00m\n",
      "\u001b[91mRL agent fitness:-95.63281837784334\u001b[00m\n",
      "\u001b[95mIteration#42: Total steps:210000 \n",
      "\u001b[00m\n",
      "\u001b[96mnoisy RL agent fitness:-161.04449534503578\u001b[00m\n",
      "\u001b[96mnoisy RL agent fitness:-98.33099340727844\u001b[00m\n",
      "\u001b[96mnoisy RL agent fitness:-118.24705657668707\u001b[00m\n",
      "\u001b[96mnoisy RL agent fitness:-92.51632581491982\u001b[00m\n"
     ]
    },
    {
     "name": "stderr",
     "output_type": "stream",
     "text": [
      "  2%|▏         | 2/100 [00:00<00:05, 16.99it/s]"
     ]
    },
    {
     "name": "stdout",
     "output_type": "stream",
     "text": [
      "\u001b[96mnoisy RL agent fitness:-121.46593516600839\u001b[00m\n"
     ]
    },
    {
     "name": "stderr",
     "output_type": "stream",
     "text": [
      "100%|██████████| 100/100 [00:06<00:00, 16.18it/s]\n",
      "100%|██████████| 100/100 [00:06<00:00, 16.09it/s]\n",
      "100%|██████████| 100/100 [00:06<00:00, 14.83it/s]\n",
      "100%|██████████| 100/100 [00:06<00:00, 16.09it/s]\n",
      "100%|██████████| 100/100 [00:06<00:00, 16.36it/s]\n"
     ]
    },
    {
     "name": "stdout",
     "output_type": "stream",
     "text": [
      "\u001b[91mRL agent fitness:-142.71352668412274\u001b[00m\n",
      "\u001b[91mRL agent fitness:-120.89593789551354\u001b[00m\n",
      "\u001b[91mRL agent fitness:-145.05967248903985\u001b[00m\n",
      "\u001b[91mRL agent fitness:-124.25228849324758\u001b[00m\n",
      "\u001b[91mRL agent fitness:-96.29289057646447\u001b[00m\n",
      "\u001b[95mIteration#43: Total steps:215000 \n",
      "\u001b[00m\n",
      "\u001b[96mnoisy RL agent fitness:-95.95385719973014\u001b[00m\n",
      "\u001b[96mnoisy RL agent fitness:-73.60517889311026\u001b[00m\n",
      "\u001b[96mnoisy RL agent fitness:-124.47148109341947\u001b[00m\n",
      "\u001b[96mnoisy RL agent fitness:-174.22347796187125\u001b[00m\n"
     ]
    },
    {
     "name": "stderr",
     "output_type": "stream",
     "text": [
      "  2%|▏         | 2/100 [00:00<00:05, 17.37it/s]"
     ]
    },
    {
     "name": "stdout",
     "output_type": "stream",
     "text": [
      "\u001b[96mnoisy RL agent fitness:-97.37884391885204\u001b[00m\n"
     ]
    },
    {
     "name": "stderr",
     "output_type": "stream",
     "text": [
      "100%|██████████| 100/100 [00:06<00:00, 15.87it/s]\n",
      "100%|██████████| 100/100 [00:06<00:00, 16.03it/s]\n",
      "100%|██████████| 100/100 [00:06<00:00, 15.86it/s]\n",
      "100%|██████████| 100/100 [00:06<00:00, 15.65it/s]\n",
      "100%|██████████| 100/100 [00:06<00:00, 16.18it/s]\n"
     ]
    },
    {
     "name": "stdout",
     "output_type": "stream",
     "text": [
      "\u001b[91mRL agent fitness:-117.41119076470197\u001b[00m\n",
      "\u001b[91mRL agent fitness:-146.466081038246\u001b[00m\n",
      "\u001b[91mRL agent fitness:-176.82822984124047\u001b[00m\n",
      "\u001b[91mRL agent fitness:-138.65140589212794\u001b[00m\n",
      "\u001b[91mRL agent fitness:-70.20735271416082\u001b[00m\n",
      "\u001b[95mIteration#44: Total steps:220000 \n",
      "\u001b[00m\n",
      "\u001b[96mnoisy RL agent fitness:-192.14636497429916\u001b[00m\n",
      "\u001b[96mnoisy RL agent fitness:-174.07252619225113\u001b[00m\n",
      "\u001b[96mnoisy RL agent fitness:-119.84164923194093\u001b[00m\n",
      "\u001b[96mnoisy RL agent fitness:-192.74057566681455\u001b[00m\n"
     ]
    },
    {
     "name": "stderr",
     "output_type": "stream",
     "text": [
      "  2%|▏         | 2/100 [00:00<00:05, 16.36it/s]"
     ]
    },
    {
     "name": "stdout",
     "output_type": "stream",
     "text": [
      "\u001b[96mnoisy RL agent fitness:-152.67333700442143\u001b[00m\n"
     ]
    },
    {
     "name": "stderr",
     "output_type": "stream",
     "text": [
      "100%|██████████| 100/100 [00:06<00:00, 15.62it/s]\n",
      "100%|██████████| 100/100 [00:06<00:00, 15.68it/s]\n",
      "100%|██████████| 100/100 [00:06<00:00, 15.63it/s]\n",
      "100%|██████████| 100/100 [00:06<00:00, 16.05it/s]\n",
      "100%|██████████| 100/100 [00:06<00:00, 15.57it/s]\n"
     ]
    },
    {
     "name": "stdout",
     "output_type": "stream",
     "text": [
      "\u001b[91mRL agent fitness:-167.78978544885678\u001b[00m\n",
      "\u001b[91mRL agent fitness:-120.63056645092247\u001b[00m\n",
      "\u001b[91mRL agent fitness:-119.16737805123111\u001b[00m\n",
      "\u001b[91mRL agent fitness:-70.3424576443605\u001b[00m\n",
      "\u001b[91mRL agent fitness:-120.46480010520467\u001b[00m\n",
      "\u001b[95mIteration#45: Total steps:225000 \n",
      "\u001b[00m\n",
      "\u001b[96mnoisy RL agent fitness:-123.2043784609878\u001b[00m\n",
      "\u001b[96mnoisy RL agent fitness:-149.80228471791628\u001b[00m\n",
      "\u001b[96mnoisy RL agent fitness:-118.51318741019728\u001b[00m\n",
      "\u001b[96mnoisy RL agent fitness:-198.6998958446326\u001b[00m\n"
     ]
    },
    {
     "name": "stderr",
     "output_type": "stream",
     "text": [
      "  2%|▏         | 2/100 [00:00<00:06, 14.95it/s]"
     ]
    },
    {
     "name": "stdout",
     "output_type": "stream",
     "text": [
      "\u001b[96mnoisy RL agent fitness:-193.4679046783696\u001b[00m\n"
     ]
    },
    {
     "name": "stderr",
     "output_type": "stream",
     "text": [
      "100%|██████████| 100/100 [00:06<00:00, 15.60it/s]\n",
      "100%|██████████| 100/100 [00:06<00:00, 15.62it/s]\n",
      "100%|██████████| 100/100 [00:06<00:00, 15.24it/s]\n",
      "100%|██████████| 100/100 [00:06<00:00, 15.31it/s]\n",
      "100%|██████████| 100/100 [00:06<00:00, 15.37it/s]\n"
     ]
    },
    {
     "name": "stdout",
     "output_type": "stream",
     "text": [
      "\u001b[91mRL agent fitness:-148.79666924651505\u001b[00m\n",
      "\u001b[91mRL agent fitness:-156.65308868445214\u001b[00m\n",
      "\u001b[91mRL agent fitness:-141.97859371209017\u001b[00m\n",
      "\u001b[91mRL agent fitness:-180.2444698773175\u001b[00m\n",
      "\u001b[91mRL agent fitness:-236.81137469300774\u001b[00m\n",
      "\u001b[95mIteration#46: Total steps:230000 \n",
      "\u001b[00m\n",
      "\u001b[96mnoisy RL agent fitness:-145.32623406118935\u001b[00m\n",
      "\u001b[96mnoisy RL agent fitness:-98.33750057856005\u001b[00m\n",
      "\u001b[96mnoisy RL agent fitness:-176.9405222351954\u001b[00m\n",
      "\u001b[96mnoisy RL agent fitness:-97.7642289881314\u001b[00m\n"
     ]
    },
    {
     "name": "stderr",
     "output_type": "stream",
     "text": [
      "  2%|▏         | 2/100 [00:00<00:06, 16.10it/s]"
     ]
    },
    {
     "name": "stdout",
     "output_type": "stream",
     "text": [
      "\u001b[96mnoisy RL agent fitness:-191.39133514672196\u001b[00m\n"
     ]
    },
    {
     "name": "stderr",
     "output_type": "stream",
     "text": [
      "100%|██████████| 100/100 [00:06<00:00, 15.08it/s]\n",
      "100%|██████████| 100/100 [00:06<00:00, 14.51it/s]\n",
      "100%|██████████| 100/100 [00:06<00:00, 15.42it/s]\n",
      "100%|██████████| 100/100 [00:06<00:00, 15.15it/s]\n",
      "100%|██████████| 100/100 [00:06<00:00, 15.18it/s]\n"
     ]
    },
    {
     "name": "stdout",
     "output_type": "stream",
     "text": [
      "\u001b[91mRL agent fitness:-119.59888363841792\u001b[00m\n",
      "\u001b[91mRL agent fitness:-75.63463498070894\u001b[00m\n",
      "\u001b[91mRL agent fitness:-93.31845505926029\u001b[00m\n",
      "\u001b[91mRL agent fitness:-227.26923030697193\u001b[00m\n",
      "\u001b[91mRL agent fitness:-147.25406646643563\u001b[00m\n",
      "\u001b[95mIteration#47: Total steps:235000 \n",
      "\u001b[00m\n",
      "\u001b[96mnoisy RL agent fitness:-170.70288518580932\u001b[00m\n",
      "\u001b[96mnoisy RL agent fitness:-168.71248997525927\u001b[00m\n",
      "\u001b[96mnoisy RL agent fitness:-138.9621402046667\u001b[00m\n",
      "\u001b[96mnoisy RL agent fitness:-158.82445876131237\u001b[00m\n"
     ]
    },
    {
     "name": "stderr",
     "output_type": "stream",
     "text": [
      "  2%|▏         | 2/100 [00:00<00:06, 15.19it/s]"
     ]
    },
    {
     "name": "stdout",
     "output_type": "stream",
     "text": [
      "\u001b[96mnoisy RL agent fitness:-123.05925087004633\u001b[00m\n"
     ]
    },
    {
     "name": "stderr",
     "output_type": "stream",
     "text": [
      "100%|██████████| 100/100 [00:06<00:00, 15.12it/s]\n",
      "100%|██████████| 100/100 [00:06<00:00, 15.02it/s]\n",
      "100%|██████████| 100/100 [00:06<00:00, 15.16it/s]\n",
      "100%|██████████| 100/100 [00:06<00:00, 15.07it/s]\n",
      "100%|██████████| 100/100 [00:07<00:00, 13.36it/s]\n"
     ]
    },
    {
     "name": "stdout",
     "output_type": "stream",
     "text": [
      "\u001b[91mRL agent fitness:-140.5909687109525\u001b[00m\n",
      "\u001b[91mRL agent fitness:-155.32202722320065\u001b[00m\n",
      "\u001b[91mRL agent fitness:-120.53549646609736\u001b[00m\n",
      "\u001b[91mRL agent fitness:-185.08575260829335\u001b[00m\n",
      "\u001b[91mRL agent fitness:-193.38633241345292\u001b[00m\n",
      "\u001b[95mIteration#48: Total steps:240000 \n",
      "\u001b[00m\n",
      "\u001b[96mnoisy RL agent fitness:-149.97964172984592\u001b[00m\n",
      "\u001b[96mnoisy RL agent fitness:-213.45645698325052\u001b[00m\n",
      "\u001b[96mnoisy RL agent fitness:-195.55299810063758\u001b[00m\n",
      "\u001b[96mnoisy RL agent fitness:-99.96696185885153\u001b[00m\n"
     ]
    },
    {
     "name": "stderr",
     "output_type": "stream",
     "text": [
      "  2%|▏         | 2/100 [00:00<00:06, 15.33it/s]"
     ]
    },
    {
     "name": "stdout",
     "output_type": "stream",
     "text": [
      "\u001b[96mnoisy RL agent fitness:-144.21632491160966\u001b[00m\n"
     ]
    },
    {
     "name": "stderr",
     "output_type": "stream",
     "text": [
      "100%|██████████| 100/100 [00:06<00:00, 14.74it/s]\n",
      "100%|██████████| 100/100 [00:06<00:00, 14.74it/s]\n",
      "100%|██████████| 100/100 [00:06<00:00, 14.84it/s]\n",
      "100%|██████████| 100/100 [00:06<00:00, 14.73it/s]\n",
      "100%|██████████| 100/100 [00:06<00:00, 14.50it/s]\n"
     ]
    },
    {
     "name": "stdout",
     "output_type": "stream",
     "text": [
      "\u001b[91mRL agent fitness:-161.6736879919339\u001b[00m\n",
      "\u001b[91mRL agent fitness:-145.36372086065006\u001b[00m\n",
      "\u001b[91mRL agent fitness:-194.2267610212401\u001b[00m\n",
      "\u001b[91mRL agent fitness:-123.22126862021148\u001b[00m\n",
      "\u001b[91mRL agent fitness:-120.13221586260204\u001b[00m\n",
      "\u001b[95mIteration#49: Total steps:245000 \n",
      "\u001b[00m\n",
      "\u001b[96mnoisy RL agent fitness:-167.96777848722368\u001b[00m\n",
      "\u001b[96mnoisy RL agent fitness:-181.22177456214303\u001b[00m\n",
      "\u001b[96mnoisy RL agent fitness:-139.93788322839265\u001b[00m\n",
      "\u001b[96mnoisy RL agent fitness:-121.71428839526439\u001b[00m\n"
     ]
    },
    {
     "name": "stderr",
     "output_type": "stream",
     "text": [
      "  2%|▏         | 2/100 [00:00<00:06, 15.30it/s]"
     ]
    },
    {
     "name": "stdout",
     "output_type": "stream",
     "text": [
      "\u001b[96mnoisy RL agent fitness:-168.40511373797077\u001b[00m\n"
     ]
    },
    {
     "name": "stderr",
     "output_type": "stream",
     "text": [
      "100%|██████████| 100/100 [00:06<00:00, 14.57it/s]\n",
      "100%|██████████| 100/100 [00:07<00:00, 14.22it/s]\n",
      "100%|██████████| 100/100 [00:06<00:00, 14.74it/s]\n",
      "100%|██████████| 100/100 [00:06<00:00, 14.75it/s]\n",
      "100%|██████████| 100/100 [00:06<00:00, 14.50it/s]\n"
     ]
    },
    {
     "name": "stdout",
     "output_type": "stream",
     "text": [
      "\u001b[91mRL agent fitness:-70.88347223503872\u001b[00m\n",
      "\u001b[91mRL agent fitness:-168.5505885093927\u001b[00m\n",
      "\u001b[91mRL agent fitness:-74.38711950962393\u001b[00m\n",
      "\u001b[91mRL agent fitness:-124.09600249970961\u001b[00m\n",
      "\u001b[91mRL agent fitness:-187.77651017743523\u001b[00m\n",
      "\u001b[95mIteration#50: Total steps:250000 \n",
      "\u001b[00m\n",
      "\u001b[96mnoisy RL agent fitness:-119.52456761238632\u001b[00m\n",
      "\u001b[96mnoisy RL agent fitness:-154.33525792847277\u001b[00m\n",
      "\u001b[96mnoisy RL agent fitness:-150.22420153445356\u001b[00m\n",
      "\u001b[96mnoisy RL agent fitness:-170.34197970634676\u001b[00m\n"
     ]
    },
    {
     "name": "stderr",
     "output_type": "stream",
     "text": [
      "  2%|▏         | 2/100 [00:00<00:07, 13.56it/s]"
     ]
    },
    {
     "name": "stdout",
     "output_type": "stream",
     "text": [
      "\u001b[96mnoisy RL agent fitness:-119.13364859436987\u001b[00m\n"
     ]
    },
    {
     "name": "stderr",
     "output_type": "stream",
     "text": [
      "100%|██████████| 100/100 [00:06<00:00, 14.38it/s]\n",
      "100%|██████████| 100/100 [00:07<00:00, 13.86it/s]\n",
      "100%|██████████| 100/100 [00:07<00:00, 14.03it/s]\n",
      "100%|██████████| 100/100 [00:07<00:00, 12.98it/s]\n",
      "100%|██████████| 100/100 [00:07<00:00, 13.79it/s]\n"
     ]
    },
    {
     "name": "stdout",
     "output_type": "stream",
     "text": [
      "\u001b[91mRL agent fitness:-172.8238661321194\u001b[00m\n",
      "\u001b[91mRL agent fitness:-142.763782849312\u001b[00m\n",
      "\u001b[91mRL agent fitness:-139.57647303610278\u001b[00m\n",
      "\u001b[91mRL agent fitness:-95.56158699764089\u001b[00m\n",
      "\u001b[91mRL agent fitness:-192.73535768581723\u001b[00m\n",
      "\u001b[95mIteration#51: Total steps:255000 \n",
      "\u001b[00m\n",
      "\u001b[96mnoisy RL agent fitness:-193.96065258608223\u001b[00m\n",
      "\u001b[96mnoisy RL agent fitness:-143.85995287739917\u001b[00m\n",
      "\u001b[96mnoisy RL agent fitness:-97.06446333605558\u001b[00m\n",
      "\u001b[96mnoisy RL agent fitness:-235.47946219114223\u001b[00m\n"
     ]
    },
    {
     "name": "stderr",
     "output_type": "stream",
     "text": [
      "  2%|▏         | 2/100 [00:00<00:06, 14.17it/s]"
     ]
    },
    {
     "name": "stdout",
     "output_type": "stream",
     "text": [
      "\u001b[96mnoisy RL agent fitness:-101.79275110047836\u001b[00m\n"
     ]
    },
    {
     "name": "stderr",
     "output_type": "stream",
     "text": [
      "100%|██████████| 100/100 [00:08<00:00, 11.17it/s]\n",
      "100%|██████████| 100/100 [00:07<00:00, 12.61it/s]\n",
      "100%|██████████| 100/100 [00:07<00:00, 13.79it/s]\n",
      "100%|██████████| 100/100 [00:08<00:00, 12.07it/s]\n",
      "100%|██████████| 100/100 [00:07<00:00, 13.78it/s]\n"
     ]
    },
    {
     "name": "stdout",
     "output_type": "stream",
     "text": [
      "\u001b[91mRL agent fitness:-119.06474760718254\u001b[00m\n",
      "\u001b[91mRL agent fitness:-149.76682711252732\u001b[00m\n",
      "\u001b[91mRL agent fitness:-168.33531039738966\u001b[00m\n",
      "\u001b[91mRL agent fitness:-119.02529873938802\u001b[00m\n",
      "\u001b[91mRL agent fitness:-169.4195726281331\u001b[00m\n",
      "\u001b[95mIteration#52: Total steps:260000 \n",
      "\u001b[00m\n",
      "\u001b[96mnoisy RL agent fitness:-216.40358851662668\u001b[00m\n",
      "\u001b[96mnoisy RL agent fitness:-195.97308102905998\u001b[00m\n",
      "\u001b[96mnoisy RL agent fitness:-121.4660638617481\u001b[00m\n",
      "\u001b[96mnoisy RL agent fitness:-173.35093907567946\u001b[00m\n"
     ]
    },
    {
     "name": "stderr",
     "output_type": "stream",
     "text": [
      "  2%|▏         | 2/100 [00:00<00:06, 14.04it/s]"
     ]
    },
    {
     "name": "stdout",
     "output_type": "stream",
     "text": [
      "\u001b[96mnoisy RL agent fitness:-189.55485393539783\u001b[00m\n"
     ]
    },
    {
     "name": "stderr",
     "output_type": "stream",
     "text": [
      "100%|██████████| 100/100 [00:07<00:00, 13.83it/s]\n",
      "100%|██████████| 100/100 [00:07<00:00, 14.05it/s]\n",
      "100%|██████████| 100/100 [00:07<00:00, 13.96it/s]\n",
      "100%|██████████| 100/100 [00:07<00:00, 13.63it/s]\n",
      "100%|██████████| 100/100 [00:08<00:00, 12.25it/s]\n"
     ]
    },
    {
     "name": "stdout",
     "output_type": "stream",
     "text": [
      "\u001b[91mRL agent fitness:-169.54676400404216\u001b[00m\n",
      "\u001b[91mRL agent fitness:-144.46971973154388\u001b[00m\n",
      "\u001b[91mRL agent fitness:-185.03173423954968\u001b[00m\n",
      "\u001b[91mRL agent fitness:-122.9463241192913\u001b[00m\n",
      "\u001b[91mRL agent fitness:-71.50177291320283\u001b[00m\n",
      "\u001b[95mIteration#53: Total steps:265000 \n",
      "\u001b[00m\n",
      "\u001b[96mnoisy RL agent fitness:-170.17559421866784\u001b[00m\n",
      "\u001b[96mnoisy RL agent fitness:-172.22449337928762\u001b[00m\n",
      "\u001b[96mnoisy RL agent fitness:-145.4621406045972\u001b[00m\n",
      "\u001b[96mnoisy RL agent fitness:-98.72315874649374\u001b[00m\n"
     ]
    },
    {
     "name": "stderr",
     "output_type": "stream",
     "text": [
      "  2%|▏         | 2/100 [00:00<00:07, 12.93it/s]"
     ]
    },
    {
     "name": "stdout",
     "output_type": "stream",
     "text": [
      "\u001b[96mnoisy RL agent fitness:-161.47382122204013\u001b[00m\n"
     ]
    },
    {
     "name": "stderr",
     "output_type": "stream",
     "text": [
      "100%|██████████| 100/100 [00:07<00:00, 13.50it/s]\n",
      "100%|██████████| 100/100 [00:07<00:00, 13.52it/s]\n",
      "100%|██████████| 100/100 [00:07<00:00, 13.57it/s]\n",
      "100%|██████████| 100/100 [00:07<00:00, 14.19it/s]\n",
      "100%|██████████| 100/100 [00:08<00:00, 11.62it/s]\n"
     ]
    },
    {
     "name": "stdout",
     "output_type": "stream",
     "text": [
      "\u001b[91mRL agent fitness:-149.24367956426474\u001b[00m\n",
      "\u001b[91mRL agent fitness:-94.84477873410955\u001b[00m\n",
      "\u001b[91mRL agent fitness:-189.78099626408112\u001b[00m\n",
      "\u001b[91mRL agent fitness:-124.54592139669599\u001b[00m\n",
      "\u001b[91mRL agent fitness:-192.74466227071446\u001b[00m\n",
      "\u001b[95mIteration#54: Total steps:270000 \n",
      "\u001b[00m\n",
      "\u001b[96mnoisy RL agent fitness:-218.84492797395174\u001b[00m\n",
      "\u001b[96mnoisy RL agent fitness:-143.62230853025747\u001b[00m\n",
      "\u001b[96mnoisy RL agent fitness:-148.51152003330552\u001b[00m\n",
      "\u001b[96mnoisy RL agent fitness:-141.11084460071652\u001b[00m\n"
     ]
    },
    {
     "name": "stderr",
     "output_type": "stream",
     "text": [
      "  2%|▏         | 2/100 [00:00<00:07, 13.22it/s]"
     ]
    },
    {
     "name": "stdout",
     "output_type": "stream",
     "text": [
      "\u001b[96mnoisy RL agent fitness:-123.02609368264646\u001b[00m\n"
     ]
    },
    {
     "name": "stderr",
     "output_type": "stream",
     "text": [
      "100%|██████████| 100/100 [00:08<00:00, 11.52it/s]\n",
      "100%|██████████| 100/100 [00:07<00:00, 13.29it/s]\n",
      "100%|██████████| 100/100 [00:07<00:00, 13.47it/s]\n",
      "100%|██████████| 100/100 [00:07<00:00, 12.95it/s]\n",
      "100%|██████████| 100/100 [00:07<00:00, 13.10it/s]\n"
     ]
    },
    {
     "name": "stdout",
     "output_type": "stream",
     "text": [
      "\u001b[91mRL agent fitness:-148.19377664778636\u001b[00m\n",
      "\u001b[91mRL agent fitness:-174.02282286196075\u001b[00m\n",
      "\u001b[91mRL agent fitness:-148.09421642336014\u001b[00m\n",
      "\u001b[91mRL agent fitness:-197.77235942195773\u001b[00m\n",
      "\u001b[91mRL agent fitness:-209.3136059149243\u001b[00m\n",
      "\u001b[95mIteration#55: Total steps:275000 \n",
      "\u001b[00m\n",
      "\u001b[96mnoisy RL agent fitness:-211.8311311877398\u001b[00m\n",
      "\u001b[96mnoisy RL agent fitness:-118.41731829058213\u001b[00m\n",
      "\u001b[96mnoisy RL agent fitness:-204.91335084815805\u001b[00m\n",
      "\u001b[96mnoisy RL agent fitness:-220.38223875542803\u001b[00m\n"
     ]
    },
    {
     "name": "stderr",
     "output_type": "stream",
     "text": [
      "  2%|▏         | 2/100 [00:00<00:07, 13.06it/s]"
     ]
    },
    {
     "name": "stdout",
     "output_type": "stream",
     "text": [
      "\u001b[96mnoisy RL agent fitness:-144.4421448385315\u001b[00m\n"
     ]
    },
    {
     "name": "stderr",
     "output_type": "stream",
     "text": [
      "100%|██████████| 100/100 [00:07<00:00, 13.03it/s]\n",
      "100%|██████████| 100/100 [00:07<00:00, 13.04it/s]\n",
      "100%|██████████| 100/100 [00:07<00:00, 13.07it/s]\n",
      "100%|██████████| 100/100 [00:07<00:00, 13.00it/s]\n",
      "100%|██████████| 100/100 [00:07<00:00, 13.15it/s]\n"
     ]
    },
    {
     "name": "stdout",
     "output_type": "stream",
     "text": [
      "\u001b[91mRL agent fitness:-163.29935636856186\u001b[00m\n",
      "\u001b[91mRL agent fitness:-124.77712691924182\u001b[00m\n",
      "\u001b[91mRL agent fitness:-142.49260834967438\u001b[00m\n",
      "\u001b[91mRL agent fitness:-167.89871090725202\u001b[00m\n",
      "\u001b[91mRL agent fitness:-96.43901948606023\u001b[00m\n",
      "\u001b[95mIteration#56: Total steps:280000 \n",
      "\u001b[00m\n",
      "\u001b[96mnoisy RL agent fitness:-135.7526835859469\u001b[00m\n",
      "\u001b[96mnoisy RL agent fitness:-162.85749198639058\u001b[00m\n",
      "\u001b[96mnoisy RL agent fitness:-143.99158393790293\u001b[00m\n",
      "\u001b[96mnoisy RL agent fitness:-237.2537776800901\u001b[00m\n"
     ]
    },
    {
     "name": "stderr",
     "output_type": "stream",
     "text": [
      "  2%|▏         | 2/100 [00:00<00:08, 12.16it/s]"
     ]
    },
    {
     "name": "stdout",
     "output_type": "stream",
     "text": [
      "\u001b[96mnoisy RL agent fitness:-100.07550459485603\u001b[00m\n"
     ]
    },
    {
     "name": "stderr",
     "output_type": "stream",
     "text": [
      "100%|██████████| 100/100 [00:07<00:00, 13.13it/s]\n",
      "100%|██████████| 100/100 [00:07<00:00, 13.07it/s]\n",
      "100%|██████████| 100/100 [00:08<00:00, 11.98it/s]\n",
      "100%|██████████| 100/100 [00:07<00:00, 13.12it/s]\n",
      "100%|██████████| 100/100 [00:07<00:00, 12.91it/s]\n"
     ]
    },
    {
     "name": "stdout",
     "output_type": "stream",
     "text": [
      "\u001b[91mRL agent fitness:-96.40001795903554\u001b[00m\n",
      "\u001b[91mRL agent fitness:-235.1062586217638\u001b[00m\n",
      "\u001b[91mRL agent fitness:-211.38836902076983\u001b[00m\n",
      "\u001b[91mRL agent fitness:-120.10189617855326\u001b[00m\n",
      "\u001b[91mRL agent fitness:-146.3444404863072\u001b[00m\n",
      "\u001b[95mIteration#57: Total steps:285000 \n",
      "\u001b[00m\n",
      "\u001b[96mnoisy RL agent fitness:-144.50153357858147\u001b[00m\n",
      "\u001b[96mnoisy RL agent fitness:-122.28995196031244\u001b[00m\n",
      "\u001b[96mnoisy RL agent fitness:-145.81247025966894\u001b[00m\n",
      "\u001b[96mnoisy RL agent fitness:-171.09532361581145\u001b[00m\n"
     ]
    },
    {
     "name": "stderr",
     "output_type": "stream",
     "text": [
      "  2%|▏         | 2/100 [00:00<00:07, 13.34it/s]"
     ]
    },
    {
     "name": "stdout",
     "output_type": "stream",
     "text": [
      "\u001b[96mnoisy RL agent fitness:-221.2224164663654\u001b[00m\n"
     ]
    },
    {
     "name": "stderr",
     "output_type": "stream",
     "text": [
      "100%|██████████| 100/100 [00:07<00:00, 13.12it/s]\n",
      "100%|██████████| 100/100 [00:07<00:00, 12.73it/s]\n",
      "100%|██████████| 100/100 [00:07<00:00, 12.90it/s]\n",
      "100%|██████████| 100/100 [00:07<00:00, 12.97it/s]\n",
      "100%|██████████| 100/100 [00:07<00:00, 12.75it/s]\n"
     ]
    },
    {
     "name": "stdout",
     "output_type": "stream",
     "text": [
      "\u001b[91mRL agent fitness:-118.68456569854398\u001b[00m\n",
      "\u001b[91mRL agent fitness:-166.25672005387955\u001b[00m\n",
      "\u001b[91mRL agent fitness:-145.4062710799325\u001b[00m\n",
      "\u001b[91mRL agent fitness:-137.56797983466294\u001b[00m\n",
      "\u001b[91mRL agent fitness:-165.8669926716986\u001b[00m\n",
      "\u001b[95mIteration#58: Total steps:290000 \n",
      "\u001b[00m\n",
      "\u001b[96mnoisy RL agent fitness:-121.34516698716024\u001b[00m\n",
      "\u001b[96mnoisy RL agent fitness:-118.45380909797\u001b[00m\n",
      "\u001b[96mnoisy RL agent fitness:-122.17219614136143\u001b[00m\n",
      "\u001b[96mnoisy RL agent fitness:-239.42914203785466\u001b[00m\n"
     ]
    },
    {
     "name": "stderr",
     "output_type": "stream",
     "text": [
      "  2%|▏         | 2/100 [00:00<00:07, 12.76it/s]"
     ]
    },
    {
     "name": "stdout",
     "output_type": "stream",
     "text": [
      "\u001b[96mnoisy RL agent fitness:-124.13897849736709\u001b[00m\n"
     ]
    },
    {
     "name": "stderr",
     "output_type": "stream",
     "text": [
      "100%|██████████| 100/100 [00:07<00:00, 12.58it/s]\n",
      "100%|██████████| 100/100 [00:07<00:00, 12.89it/s]\n",
      "100%|██████████| 100/100 [00:07<00:00, 12.73it/s]\n",
      "100%|██████████| 100/100 [00:07<00:00, 12.59it/s]\n",
      "100%|██████████| 100/100 [00:07<00:00, 12.64it/s]\n"
     ]
    },
    {
     "name": "stdout",
     "output_type": "stream",
     "text": [
      "\u001b[91mRL agent fitness:-179.63439117253878\u001b[00m\n",
      "\u001b[91mRL agent fitness:-191.73984552699662\u001b[00m\n",
      "\u001b[91mRL agent fitness:-169.95502068056635\u001b[00m\n",
      "\u001b[91mRL agent fitness:-164.03992356582896\u001b[00m\n",
      "\u001b[91mRL agent fitness:-169.91296886258812\u001b[00m\n",
      "\u001b[95mIteration#59: Total steps:295000 \n",
      "\u001b[00m\n",
      "\u001b[96mnoisy RL agent fitness:-167.96474847706105\u001b[00m\n",
      "\u001b[96mnoisy RL agent fitness:-202.56919568762802\u001b[00m\n",
      "\u001b[96mnoisy RL agent fitness:-143.62165895589916\u001b[00m\n",
      "\u001b[96mnoisy RL agent fitness:-221.45435043227036\u001b[00m\n"
     ]
    },
    {
     "name": "stderr",
     "output_type": "stream",
     "text": [
      "  2%|▏         | 2/100 [00:00<00:07, 12.77it/s]"
     ]
    },
    {
     "name": "stdout",
     "output_type": "stream",
     "text": [
      "\u001b[96mnoisy RL agent fitness:-222.6961603108342\u001b[00m\n"
     ]
    },
    {
     "name": "stderr",
     "output_type": "stream",
     "text": [
      "100%|██████████| 100/100 [00:07<00:00, 12.67it/s]\n",
      "100%|██████████| 100/100 [00:07<00:00, 12.58it/s]\n",
      "100%|██████████| 100/100 [00:07<00:00, 12.72it/s]\n",
      "100%|██████████| 100/100 [00:07<00:00, 12.63it/s]\n",
      "100%|██████████| 100/100 [00:07<00:00, 12.60it/s]\n"
     ]
    },
    {
     "name": "stdout",
     "output_type": "stream",
     "text": [
      "\u001b[91mRL agent fitness:-211.9415044647867\u001b[00m\n",
      "\u001b[91mRL agent fitness:-95.623299834841\u001b[00m\n",
      "\u001b[91mRL agent fitness:-119.85210849085959\u001b[00m\n",
      "\u001b[91mRL agent fitness:-95.74449314893504\u001b[00m\n",
      "\u001b[91mRL agent fitness:-143.67858508025233\u001b[00m\n",
      "\u001b[95mIteration#60: Total steps:300000 \n",
      "\u001b[00m\n",
      "\u001b[96mnoisy RL agent fitness:-191.49854351951439\u001b[00m\n",
      "\u001b[96mnoisy RL agent fitness:-142.8278819256483\u001b[00m\n",
      "\u001b[96mnoisy RL agent fitness:-162.32230567288028\u001b[00m\n",
      "\u001b[96mnoisy RL agent fitness:-192.77642096529092\u001b[00m\n"
     ]
    },
    {
     "name": "stderr",
     "output_type": "stream",
     "text": [
      "  2%|▏         | 2/100 [00:00<00:07, 12.45it/s]"
     ]
    },
    {
     "name": "stdout",
     "output_type": "stream",
     "text": [
      "\u001b[96mnoisy RL agent fitness:-148.2879273827157\u001b[00m\n"
     ]
    },
    {
     "name": "stderr",
     "output_type": "stream",
     "text": [
      "100%|██████████| 100/100 [00:08<00:00, 12.19it/s]\n",
      "100%|██████████| 100/100 [00:07<00:00, 12.51it/s]\n",
      "100%|██████████| 100/100 [00:07<00:00, 12.54it/s]\n",
      "100%|██████████| 100/100 [00:07<00:00, 12.75it/s]\n",
      "100%|██████████| 100/100 [00:08<00:00, 11.71it/s]\n"
     ]
    },
    {
     "name": "stdout",
     "output_type": "stream",
     "text": [
      "\u001b[91mRL agent fitness:-164.84881361586247\u001b[00m\n",
      "\u001b[91mRL agent fitness:-148.14365863605593\u001b[00m\n",
      "\u001b[91mRL agent fitness:-188.82389576164752\u001b[00m\n",
      "\u001b[91mRL agent fitness:-122.218534707663\u001b[00m\n",
      "\u001b[91mRL agent fitness:-143.58200434137078\u001b[00m\n",
      "\u001b[95mIteration#61: Total steps:305000 \n",
      "\u001b[00m\n",
      "\u001b[96mnoisy RL agent fitness:-94.86205846704425\u001b[00m\n",
      "\u001b[96mnoisy RL agent fitness:-145.3915043286431\u001b[00m\n",
      "\u001b[96mnoisy RL agent fitness:-218.72958497987088\u001b[00m\n",
      "\u001b[96mnoisy RL agent fitness:-187.10078407408074\u001b[00m\n"
     ]
    },
    {
     "name": "stderr",
     "output_type": "stream",
     "text": [
      "  2%|▏         | 2/100 [00:00<00:08, 11.92it/s]"
     ]
    },
    {
     "name": "stdout",
     "output_type": "stream",
     "text": [
      "\u001b[96mnoisy RL agent fitness:-123.58395716662912\u001b[00m\n"
     ]
    },
    {
     "name": "stderr",
     "output_type": "stream",
     "text": [
      "100%|██████████| 100/100 [00:08<00:00, 12.19it/s]\n",
      "100%|██████████| 100/100 [00:08<00:00, 12.41it/s]\n",
      "100%|██████████| 100/100 [00:08<00:00, 12.17it/s]\n",
      "100%|██████████| 100/100 [00:08<00:00, 12.10it/s]\n",
      "100%|██████████| 100/100 [00:08<00:00, 12.13it/s]\n"
     ]
    },
    {
     "name": "stdout",
     "output_type": "stream",
     "text": [
      "\u001b[91mRL agent fitness:-214.44674708152925\u001b[00m\n",
      "\u001b[91mRL agent fitness:-118.80885584110335\u001b[00m\n",
      "\u001b[91mRL agent fitness:-121.10044742115005\u001b[00m\n",
      "\u001b[91mRL agent fitness:-167.83539889726873\u001b[00m\n",
      "\u001b[91mRL agent fitness:-50.2323327780456\u001b[00m\n",
      "\u001b[95mIteration#62: Total steps:310000 \n",
      "\u001b[00m\n",
      "\u001b[96mnoisy RL agent fitness:-121.2319873137147\u001b[00m\n",
      "\u001b[96mnoisy RL agent fitness:-119.11137595497925\u001b[00m\n",
      "\u001b[96mnoisy RL agent fitness:-148.97301737398615\u001b[00m\n",
      "\u001b[96mnoisy RL agent fitness:-124.37949239280086\u001b[00m\n"
     ]
    },
    {
     "name": "stderr",
     "output_type": "stream",
     "text": [
      "  2%|▏         | 2/100 [00:00<00:08, 11.72it/s]"
     ]
    },
    {
     "name": "stdout",
     "output_type": "stream",
     "text": [
      "\u001b[96mnoisy RL agent fitness:-267.15992856868445\u001b[00m\n"
     ]
    },
    {
     "name": "stderr",
     "output_type": "stream",
     "text": [
      "100%|██████████| 100/100 [00:07<00:00, 12.53it/s]\n",
      "100%|██████████| 100/100 [00:08<00:00, 11.96it/s]\n",
      "100%|██████████| 100/100 [00:08<00:00, 12.01it/s]\n",
      "100%|██████████| 100/100 [00:08<00:00, 11.93it/s]\n",
      "100%|██████████| 100/100 [00:08<00:00, 11.94it/s]\n"
     ]
    },
    {
     "name": "stdout",
     "output_type": "stream",
     "text": [
      "\u001b[91mRL agent fitness:-167.57546440587842\u001b[00m\n",
      "\u001b[91mRL agent fitness:-120.21787238793027\u001b[00m\n",
      "\u001b[91mRL agent fitness:-130.57606128785324\u001b[00m\n",
      "\u001b[91mRL agent fitness:-47.26912239760328\u001b[00m\n",
      "\u001b[91mRL agent fitness:-95.25643308887689\u001b[00m\n",
      "\u001b[95mIteration#63: Total steps:315000 \n",
      "\u001b[00m\n",
      "\u001b[96mnoisy RL agent fitness:-173.5448033176868\u001b[00m\n",
      "\u001b[96mnoisy RL agent fitness:-274.4786974985717\u001b[00m\n",
      "\u001b[96mnoisy RL agent fitness:-120.73544031777206\u001b[00m\n",
      "\u001b[96mnoisy RL agent fitness:-125.26097994193825\u001b[00m\n"
     ]
    },
    {
     "name": "stderr",
     "output_type": "stream",
     "text": [
      "  2%|▏         | 2/100 [00:00<00:08, 12.04it/s]"
     ]
    },
    {
     "name": "stdout",
     "output_type": "stream",
     "text": [
      "\u001b[96mnoisy RL agent fitness:-198.49602231858555\u001b[00m\n"
     ]
    },
    {
     "name": "stderr",
     "output_type": "stream",
     "text": [
      "100%|██████████| 100/100 [00:08<00:00, 12.01it/s]\n",
      "100%|██████████| 100/100 [00:08<00:00, 11.93it/s]\n",
      "100%|██████████| 100/100 [00:08<00:00, 11.86it/s]\n",
      "100%|██████████| 100/100 [00:08<00:00, 11.86it/s]\n",
      "100%|██████████| 100/100 [00:08<00:00, 11.90it/s]\n"
     ]
    },
    {
     "name": "stdout",
     "output_type": "stream",
     "text": [
      "\u001b[91mRL agent fitness:-142.318852711893\u001b[00m\n",
      "\u001b[91mRL agent fitness:-166.00944431402817\u001b[00m\n",
      "\u001b[91mRL agent fitness:-94.26163576722587\u001b[00m\n",
      "\u001b[91mRL agent fitness:-146.44792300501663\u001b[00m\n",
      "\u001b[91mRL agent fitness:-94.81555845967895\u001b[00m\n",
      "\u001b[95mIteration#64: Total steps:320000 \n",
      "\u001b[00m\n",
      "\u001b[96mnoisy RL agent fitness:-140.8296479514068\u001b[00m\n",
      "\u001b[96mnoisy RL agent fitness:-197.01342762779245\u001b[00m\n",
      "\u001b[96mnoisy RL agent fitness:-237.723492906286\u001b[00m\n",
      "\u001b[96mnoisy RL agent fitness:-121.56992364050564\u001b[00m\n"
     ]
    },
    {
     "name": "stderr",
     "output_type": "stream",
     "text": [
      "  2%|▏         | 2/100 [00:00<00:07, 12.29it/s]"
     ]
    },
    {
     "name": "stdout",
     "output_type": "stream",
     "text": [
      "\u001b[96mnoisy RL agent fitness:-167.42549051890478\u001b[00m\n"
     ]
    },
    {
     "name": "stderr",
     "output_type": "stream",
     "text": [
      "100%|██████████| 100/100 [00:08<00:00, 11.98it/s]\n",
      "100%|██████████| 100/100 [00:08<00:00, 11.76it/s]\n",
      "100%|██████████| 100/100 [00:08<00:00, 11.75it/s]\n",
      "100%|██████████| 100/100 [00:08<00:00, 11.68it/s]\n",
      "100%|██████████| 100/100 [00:09<00:00, 11.04it/s]\n"
     ]
    },
    {
     "name": "stdout",
     "output_type": "stream",
     "text": [
      "\u001b[91mRL agent fitness:-147.80242859852305\u001b[00m\n",
      "\u001b[91mRL agent fitness:-168.9926726113091\u001b[00m\n",
      "\u001b[91mRL agent fitness:-143.22226788003513\u001b[00m\n",
      "\u001b[91mRL agent fitness:-140.73328436547692\u001b[00m\n",
      "\u001b[91mRL agent fitness:-169.23960928018633\u001b[00m\n",
      "\u001b[95mIteration#65: Total steps:325000 \n",
      "\u001b[00m\n",
      "\u001b[96mnoisy RL agent fitness:-167.26626139834218\u001b[00m\n",
      "\u001b[96mnoisy RL agent fitness:-207.55853913289542\u001b[00m\n",
      "\u001b[96mnoisy RL agent fitness:-145.86933751486282\u001b[00m\n",
      "\u001b[96mnoisy RL agent fitness:-141.07138194025885\u001b[00m\n"
     ]
    },
    {
     "name": "stderr",
     "output_type": "stream",
     "text": [
      "  2%|▏         | 2/100 [00:00<00:08, 11.81it/s]"
     ]
    },
    {
     "name": "stdout",
     "output_type": "stream",
     "text": [
      "\u001b[96mnoisy RL agent fitness:-275.6507812903595\u001b[00m\n"
     ]
    },
    {
     "name": "stderr",
     "output_type": "stream",
     "text": [
      "100%|██████████| 100/100 [00:08<00:00, 11.70it/s]\n",
      "100%|██████████| 100/100 [00:08<00:00, 11.54it/s]\n",
      "100%|██████████| 100/100 [00:08<00:00, 11.61it/s]\n",
      "100%|██████████| 100/100 [00:09<00:00, 10.98it/s]\n",
      "100%|██████████| 100/100 [00:08<00:00, 11.95it/s]\n"
     ]
    },
    {
     "name": "stdout",
     "output_type": "stream",
     "text": [
      "\u001b[91mRL agent fitness:-237.20241937982664\u001b[00m\n",
      "\u001b[91mRL agent fitness:-120.34431067644555\u001b[00m\n",
      "\u001b[91mRL agent fitness:-231.25265088675445\u001b[00m\n",
      "\u001b[91mRL agent fitness:-121.0804563488922\u001b[00m\n",
      "\u001b[91mRL agent fitness:-98.19566241908845\u001b[00m\n",
      "\u001b[95mIteration#66: Total steps:330000 \n",
      "\u001b[00m\n",
      "\u001b[96mnoisy RL agent fitness:-168.61962410873483\u001b[00m\n",
      "\u001b[96mnoisy RL agent fitness:-239.2254450684756\u001b[00m\n",
      "\u001b[96mnoisy RL agent fitness:-180.37539010927793\u001b[00m\n",
      "\u001b[96mnoisy RL agent fitness:-122.4595132243646\u001b[00m\n"
     ]
    },
    {
     "name": "stderr",
     "output_type": "stream",
     "text": [
      "  2%|▏         | 2/100 [00:00<00:08, 11.70it/s]"
     ]
    },
    {
     "name": "stdout",
     "output_type": "stream",
     "text": [
      "\u001b[96mnoisy RL agent fitness:-165.00079635803334\u001b[00m\n"
     ]
    },
    {
     "name": "stderr",
     "output_type": "stream",
     "text": [
      "100%|██████████| 100/100 [00:08<00:00, 11.47it/s]\n",
      "100%|██████████| 100/100 [00:08<00:00, 11.42it/s]\n",
      "100%|██████████| 100/100 [00:08<00:00, 11.67it/s]\n",
      "100%|██████████| 100/100 [00:08<00:00, 12.06it/s]\n",
      "100%|██████████| 100/100 [00:08<00:00, 11.40it/s]\n"
     ]
    },
    {
     "name": "stdout",
     "output_type": "stream",
     "text": [
      "\u001b[91mRL agent fitness:-162.62989035508502\u001b[00m\n",
      "\u001b[91mRL agent fitness:-119.1644064211034\u001b[00m\n",
      "\u001b[91mRL agent fitness:-172.44806673108658\u001b[00m\n",
      "\u001b[91mRL agent fitness:-235.84118121988985\u001b[00m\n",
      "\u001b[91mRL agent fitness:-167.1324065201619\u001b[00m\n",
      "\u001b[95mIteration#67: Total steps:335000 \n",
      "\u001b[00m\n",
      "\u001b[96mnoisy RL agent fitness:-99.24173481455753\u001b[00m\n",
      "\u001b[96mnoisy RL agent fitness:-73.63162753584902\u001b[00m\n",
      "\u001b[96mnoisy RL agent fitness:-147.14628064251448\u001b[00m\n",
      "\u001b[96mnoisy RL agent fitness:-245.07703021733082\u001b[00m\n"
     ]
    },
    {
     "name": "stderr",
     "output_type": "stream",
     "text": [
      "  2%|▏         | 2/100 [00:00<00:08, 11.54it/s]"
     ]
    },
    {
     "name": "stdout",
     "output_type": "stream",
     "text": [
      "\u001b[96mnoisy RL agent fitness:-189.9387411506115\u001b[00m\n"
     ]
    },
    {
     "name": "stderr",
     "output_type": "stream",
     "text": [
      "100%|██████████| 100/100 [00:08<00:00, 11.59it/s]\n",
      "100%|██████████| 100/100 [00:08<00:00, 11.68it/s]\n",
      "100%|██████████| 100/100 [00:08<00:00, 11.28it/s]\n",
      "100%|██████████| 100/100 [00:08<00:00, 11.38it/s]\n",
      "100%|██████████| 100/100 [00:09<00:00, 11.06it/s]\n"
     ]
    },
    {
     "name": "stdout",
     "output_type": "stream",
     "text": [
      "\u001b[91mRL agent fitness:-119.39656275017092\u001b[00m\n",
      "\u001b[91mRL agent fitness:-141.8340862678083\u001b[00m\n",
      "\u001b[91mRL agent fitness:-159.73481190209404\u001b[00m\n",
      "\u001b[91mRL agent fitness:-96.61885421525282\u001b[00m\n",
      "\u001b[91mRL agent fitness:-145.18354533900933\u001b[00m\n",
      "\u001b[95mIteration#68: Total steps:340000 \n",
      "\u001b[00m\n",
      "\u001b[96mnoisy RL agent fitness:-164.8718344372425\u001b[00m\n",
      "\u001b[96mnoisy RL agent fitness:-192.523619633904\u001b[00m\n",
      "\u001b[96mnoisy RL agent fitness:-73.58607712739277\u001b[00m\n",
      "\u001b[96mnoisy RL agent fitness:-145.36360773236981\u001b[00m\n"
     ]
    },
    {
     "name": "stderr",
     "output_type": "stream",
     "text": [
      "  2%|▏         | 2/100 [00:00<00:08, 11.50it/s]"
     ]
    },
    {
     "name": "stdout",
     "output_type": "stream",
     "text": [
      "\u001b[96mnoisy RL agent fitness:-125.23409468932846\u001b[00m\n"
     ]
    },
    {
     "name": "stderr",
     "output_type": "stream",
     "text": [
      "100%|██████████| 100/100 [00:08<00:00, 11.26it/s]\n",
      "100%|██████████| 100/100 [00:08<00:00, 11.37it/s]\n",
      "100%|██████████| 100/100 [00:08<00:00, 11.45it/s]\n",
      "100%|██████████| 100/100 [00:08<00:00, 11.18it/s]\n",
      "100%|██████████| 100/100 [00:08<00:00, 11.15it/s]\n"
     ]
    },
    {
     "name": "stdout",
     "output_type": "stream",
     "text": [
      "\u001b[91mRL agent fitness:-139.41395223615967\u001b[00m\n",
      "\u001b[91mRL agent fitness:-145.88203502337257\u001b[00m\n",
      "\u001b[91mRL agent fitness:-142.81155792055168\u001b[00m\n",
      "\u001b[91mRL agent fitness:-169.181805757884\u001b[00m\n",
      "\u001b[91mRL agent fitness:-191.25299557840015\u001b[00m\n",
      "\u001b[95mIteration#69: Total steps:345000 \n",
      "\u001b[00m\n",
      "\u001b[96mnoisy RL agent fitness:-167.6215612659675\u001b[00m\n",
      "\u001b[96mnoisy RL agent fitness:-147.61056630375984\u001b[00m\n",
      "\u001b[96mnoisy RL agent fitness:-158.24016896713752\u001b[00m\n",
      "\u001b[96mnoisy RL agent fitness:-120.50839826859949\u001b[00m\n"
     ]
    },
    {
     "name": "stderr",
     "output_type": "stream",
     "text": [
      "  2%|▏         | 2/100 [00:00<00:08, 11.36it/s]"
     ]
    },
    {
     "name": "stdout",
     "output_type": "stream",
     "text": [
      "\u001b[96mnoisy RL agent fitness:-144.058394860725\u001b[00m\n"
     ]
    },
    {
     "name": "stderr",
     "output_type": "stream",
     "text": [
      "100%|██████████| 100/100 [00:08<00:00, 11.32it/s]\n",
      "100%|██████████| 100/100 [00:08<00:00, 11.20it/s]\n",
      "100%|██████████| 100/100 [00:08<00:00, 11.20it/s]\n",
      "100%|██████████| 100/100 [00:08<00:00, 11.30it/s]\n",
      "100%|██████████| 100/100 [00:08<00:00, 11.14it/s]\n"
     ]
    },
    {
     "name": "stdout",
     "output_type": "stream",
     "text": [
      "\u001b[91mRL agent fitness:-140.71558076931007\u001b[00m\n",
      "\u001b[91mRL agent fitness:-95.70749993342012\u001b[00m\n",
      "\u001b[91mRL agent fitness:-133.8148554433351\u001b[00m\n",
      "\u001b[91mRL agent fitness:-98.70844980567834\u001b[00m\n",
      "\u001b[91mRL agent fitness:-146.92245221647528\u001b[00m\n",
      "\u001b[95mIteration#70: Total steps:350000 \n",
      "\u001b[00m\n",
      "\u001b[96mnoisy RL agent fitness:-146.28393015302652\u001b[00m\n",
      "\u001b[96mnoisy RL agent fitness:-146.74402720187555\u001b[00m\n",
      "\u001b[96mnoisy RL agent fitness:-143.15330896223202\u001b[00m\n",
      "\u001b[96mnoisy RL agent fitness:-144.57751336528133\u001b[00m\n"
     ]
    },
    {
     "name": "stderr",
     "output_type": "stream",
     "text": [
      "  2%|▏         | 2/100 [00:00<00:09, 10.82it/s]"
     ]
    },
    {
     "name": "stdout",
     "output_type": "stream",
     "text": [
      "\u001b[96mnoisy RL agent fitness:-168.34840752689203\u001b[00m\n"
     ]
    },
    {
     "name": "stderr",
     "output_type": "stream",
     "text": [
      "100%|██████████| 100/100 [00:09<00:00, 11.07it/s]\n",
      "100%|██████████| 100/100 [00:09<00:00, 11.07it/s]\n",
      "100%|██████████| 100/100 [00:08<00:00, 11.18it/s]\n",
      "100%|██████████| 100/100 [00:09<00:00, 11.03it/s]\n",
      "100%|██████████| 100/100 [00:09<00:00, 11.06it/s]\n"
     ]
    },
    {
     "name": "stdout",
     "output_type": "stream",
     "text": [
      "\u001b[91mRL agent fitness:-168.01406014066788\u001b[00m\n",
      "\u001b[91mRL agent fitness:-163.8969046955128\u001b[00m\n",
      "\u001b[91mRL agent fitness:-144.60544723203353\u001b[00m\n",
      "\u001b[91mRL agent fitness:-98.08343590126154\u001b[00m\n",
      "\u001b[91mRL agent fitness:-189.35886147427442\u001b[00m\n",
      "\u001b[95mIteration#71: Total steps:355000 \n",
      "\u001b[00m\n",
      "\u001b[96mnoisy RL agent fitness:-117.4976214661687\u001b[00m\n",
      "\u001b[96mnoisy RL agent fitness:-146.37452840877464\u001b[00m\n",
      "\u001b[96mnoisy RL agent fitness:-165.5091737778399\u001b[00m\n",
      "\u001b[96mnoisy RL agent fitness:-192.71650845961162\u001b[00m\n"
     ]
    },
    {
     "name": "stderr",
     "output_type": "stream",
     "text": [
      "  2%|▏         | 2/100 [00:00<00:09, 10.50it/s]"
     ]
    },
    {
     "name": "stdout",
     "output_type": "stream",
     "text": [
      "\u001b[96mnoisy RL agent fitness:-146.8880388310756\u001b[00m\n"
     ]
    },
    {
     "name": "stderr",
     "output_type": "stream",
     "text": [
      "100%|██████████| 100/100 [00:09<00:00, 10.88it/s]\n",
      "100%|██████████| 100/100 [00:08<00:00, 11.27it/s]\n",
      "100%|██████████| 100/100 [00:09<00:00, 10.16it/s]\n",
      "100%|██████████| 100/100 [00:09<00:00, 11.05it/s]\n",
      "100%|██████████| 100/100 [00:09<00:00, 10.88it/s]\n"
     ]
    },
    {
     "name": "stdout",
     "output_type": "stream",
     "text": [
      "\u001b[91mRL agent fitness:-140.93516464341093\u001b[00m\n",
      "\u001b[91mRL agent fitness:-99.85757887058462\u001b[00m\n",
      "\u001b[91mRL agent fitness:-98.56611478527083\u001b[00m\n",
      "\u001b[91mRL agent fitness:-168.15363501504368\u001b[00m\n",
      "\u001b[91mRL agent fitness:-168.14375579705379\u001b[00m\n",
      "\u001b[95mIteration#72: Total steps:360000 \n",
      "\u001b[00m\n",
      "\u001b[96mnoisy RL agent fitness:-73.5689252175354\u001b[00m\n",
      "\u001b[96mnoisy RL agent fitness:-74.70786155623473\u001b[00m\n",
      "\u001b[96mnoisy RL agent fitness:-155.2717896049192\u001b[00m\n",
      "\u001b[96mnoisy RL agent fitness:-216.24047414668718\u001b[00m\n"
     ]
    },
    {
     "name": "stderr",
     "output_type": "stream",
     "text": [
      "  2%|▏         | 2/100 [00:00<00:08, 11.03it/s]"
     ]
    },
    {
     "name": "stdout",
     "output_type": "stream",
     "text": [
      "\u001b[96mnoisy RL agent fitness:-99.501356702818\u001b[00m\n"
     ]
    },
    {
     "name": "stderr",
     "output_type": "stream",
     "text": [
      "100%|██████████| 100/100 [00:09<00:00, 10.73it/s]\n",
      "100%|██████████| 100/100 [00:09<00:00, 10.94it/s]\n",
      "100%|██████████| 100/100 [00:09<00:00, 10.78it/s]\n",
      "100%|██████████| 100/100 [00:09<00:00, 10.73it/s]\n",
      "100%|██████████| 100/100 [00:09<00:00, 11.02it/s]\n"
     ]
    },
    {
     "name": "stdout",
     "output_type": "stream",
     "text": [
      "\u001b[91mRL agent fitness:-189.938646888366\u001b[00m\n",
      "\u001b[91mRL agent fitness:-145.1302121547691\u001b[00m\n",
      "\u001b[91mRL agent fitness:-95.74298576130315\u001b[00m\n",
      "\u001b[91mRL agent fitness:-188.27567014106617\u001b[00m\n",
      "\u001b[91mRL agent fitness:-95.72403181934149\u001b[00m\n",
      "\u001b[95mIteration#73: Total steps:365000 \n",
      "\u001b[00m\n",
      "\u001b[96mnoisy RL agent fitness:-180.5304488836382\u001b[00m\n",
      "\u001b[96mnoisy RL agent fitness:-167.1372980327794\u001b[00m\n",
      "\u001b[96mnoisy RL agent fitness:-191.1254008702407\u001b[00m\n",
      "\u001b[96mnoisy RL agent fitness:-120.29839413326079\u001b[00m\n"
     ]
    },
    {
     "name": "stderr",
     "output_type": "stream",
     "text": [
      "  2%|▏         | 2/100 [00:00<00:08, 11.09it/s]"
     ]
    },
    {
     "name": "stdout",
     "output_type": "stream",
     "text": [
      "\u001b[96mnoisy RL agent fitness:-73.13076705883017\u001b[00m\n"
     ]
    },
    {
     "name": "stderr",
     "output_type": "stream",
     "text": [
      "100%|██████████| 100/100 [00:09<00:00, 10.75it/s]\n",
      "100%|██████████| 100/100 [00:09<00:00, 10.83it/s]\n",
      "100%|██████████| 100/100 [00:09<00:00, 10.79it/s]\n",
      "100%|██████████| 100/100 [00:09<00:00, 10.69it/s]\n",
      "100%|██████████| 100/100 [00:09<00:00, 10.63it/s]\n"
     ]
    },
    {
     "name": "stdout",
     "output_type": "stream",
     "text": [
      "\u001b[91mRL agent fitness:-183.39808371555188\u001b[00m\n",
      "\u001b[91mRL agent fitness:-141.09918928723516\u001b[00m\n",
      "\u001b[91mRL agent fitness:-147.3408017605947\u001b[00m\n",
      "\u001b[91mRL agent fitness:-146.07942418627218\u001b[00m\n",
      "\u001b[91mRL agent fitness:-164.62521236478162\u001b[00m\n",
      "\u001b[95mIteration#74: Total steps:370000 \n",
      "\u001b[00m\n",
      "\u001b[96mnoisy RL agent fitness:-73.71015247353044\u001b[00m\n",
      "\u001b[96mnoisy RL agent fitness:-121.84759403598859\u001b[00m\n",
      "\u001b[96mnoisy RL agent fitness:-123.22550452465785\u001b[00m\n",
      "\u001b[96mnoisy RL agent fitness:-117.69474059485432\u001b[00m\n"
     ]
    },
    {
     "name": "stderr",
     "output_type": "stream",
     "text": [
      "  2%|▏         | 2/100 [00:00<00:09, 10.73it/s]"
     ]
    },
    {
     "name": "stdout",
     "output_type": "stream",
     "text": [
      "\u001b[96mnoisy RL agent fitness:-162.05164460004187\u001b[00m\n"
     ]
    },
    {
     "name": "stderr",
     "output_type": "stream",
     "text": [
      "100%|██████████| 100/100 [00:09<00:00, 10.47it/s]\n",
      "100%|██████████| 100/100 [00:09<00:00, 10.78it/s]\n",
      "100%|██████████| 100/100 [00:09<00:00, 10.55it/s]\n",
      "100%|██████████| 100/100 [00:09<00:00, 10.54it/s]\n",
      "100%|██████████| 100/100 [00:09<00:00, 10.53it/s]\n"
     ]
    },
    {
     "name": "stdout",
     "output_type": "stream",
     "text": [
      "\u001b[91mRL agent fitness:-160.919746409099\u001b[00m\n",
      "\u001b[91mRL agent fitness:-188.10014833854714\u001b[00m\n",
      "\u001b[91mRL agent fitness:-196.14048672916607\u001b[00m\n",
      "\u001b[91mRL agent fitness:-95.58522757084805\u001b[00m\n",
      "\u001b[91mRL agent fitness:-121.61627542811262\u001b[00m\n",
      "\u001b[95mIteration#75: Total steps:375000 \n",
      "\u001b[00m\n",
      "\u001b[96mnoisy RL agent fitness:-219.3437086711976\u001b[00m\n",
      "\u001b[96mnoisy RL agent fitness:-141.791391281575\u001b[00m\n",
      "\u001b[96mnoisy RL agent fitness:-202.8502068796351\u001b[00m\n",
      "\u001b[96mnoisy RL agent fitness:-186.5951442647863\u001b[00m\n"
     ]
    },
    {
     "name": "stderr",
     "output_type": "stream",
     "text": [
      "  2%|▏         | 2/100 [00:00<00:09, 10.63it/s]"
     ]
    },
    {
     "name": "stdout",
     "output_type": "stream",
     "text": [
      "\u001b[96mnoisy RL agent fitness:-112.96980228305321\u001b[00m\n"
     ]
    },
    {
     "name": "stderr",
     "output_type": "stream",
     "text": [
      "100%|██████████| 100/100 [00:09<00:00, 10.50it/s]\n",
      "100%|██████████| 100/100 [00:09<00:00, 10.51it/s]\n",
      "100%|██████████| 100/100 [00:09<00:00, 10.56it/s]\n",
      "100%|██████████| 100/100 [00:09<00:00, 10.42it/s]\n",
      "100%|██████████| 100/100 [00:09<00:00, 10.40it/s]\n"
     ]
    },
    {
     "name": "stdout",
     "output_type": "stream",
     "text": [
      "\u001b[91mRL agent fitness:-191.92887657567033\u001b[00m\n",
      "\u001b[91mRL agent fitness:-195.43028969656567\u001b[00m\n",
      "\u001b[91mRL agent fitness:-175.4988509262334\u001b[00m\n",
      "\u001b[91mRL agent fitness:-120.86726846823288\u001b[00m\n",
      "\u001b[91mRL agent fitness:-125.90536645618174\u001b[00m\n",
      "\u001b[95mIteration#76: Total steps:380000 \n",
      "\u001b[00m\n",
      "\u001b[96mnoisy RL agent fitness:-167.3596561834375\u001b[00m\n",
      "\u001b[96mnoisy RL agent fitness:-148.35696278803553\u001b[00m\n",
      "\u001b[96mnoisy RL agent fitness:-189.51156274652152\u001b[00m\n",
      "\u001b[96mnoisy RL agent fitness:-181.22698226821765\u001b[00m\n"
     ]
    },
    {
     "name": "stderr",
     "output_type": "stream",
     "text": [
      "  2%|▏         | 2/100 [00:00<00:09, 10.83it/s]"
     ]
    },
    {
     "name": "stdout",
     "output_type": "stream",
     "text": [
      "\u001b[96mnoisy RL agent fitness:-154.9177932929768\u001b[00m\n"
     ]
    },
    {
     "name": "stderr",
     "output_type": "stream",
     "text": [
      "100%|██████████| 100/100 [00:10<00:00,  9.55it/s]\n",
      "100%|██████████| 100/100 [00:09<00:00, 10.47it/s]\n",
      "100%|██████████| 100/100 [00:09<00:00, 10.38it/s]\n",
      "100%|██████████| 100/100 [00:09<00:00, 10.40it/s]\n",
      "100%|██████████| 100/100 [00:09<00:00, 10.24it/s]\n"
     ]
    },
    {
     "name": "stdout",
     "output_type": "stream",
     "text": [
      "\u001b[91mRL agent fitness:-140.65623576529686\u001b[00m\n",
      "\u001b[91mRL agent fitness:-119.02453432770074\u001b[00m\n",
      "\u001b[91mRL agent fitness:-143.07304115025175\u001b[00m\n",
      "\u001b[91mRL agent fitness:-119.53184024688491\u001b[00m\n",
      "\u001b[91mRL agent fitness:-121.96992479169221\u001b[00m\n",
      "\u001b[95mIteration#77: Total steps:385000 \n",
      "\u001b[00m\n",
      "\u001b[96mnoisy RL agent fitness:-189.64962550325885\u001b[00m\n",
      "\u001b[96mnoisy RL agent fitness:-189.76518579892584\u001b[00m\n",
      "\u001b[96mnoisy RL agent fitness:-146.1731705228627\u001b[00m\n",
      "\u001b[96mnoisy RL agent fitness:-121.59184809074081\u001b[00m\n"
     ]
    },
    {
     "name": "stderr",
     "output_type": "stream",
     "text": [
      "  2%|▏         | 2/100 [00:00<00:09, 10.22it/s]"
     ]
    },
    {
     "name": "stdout",
     "output_type": "stream",
     "text": [
      "\u001b[96mnoisy RL agent fitness:-187.89686098812044\u001b[00m\n"
     ]
    },
    {
     "name": "stderr",
     "output_type": "stream",
     "text": [
      "100%|██████████| 100/100 [00:09<00:00, 10.24it/s]\n",
      "100%|██████████| 100/100 [00:09<00:00, 10.33it/s]\n",
      "100%|██████████| 100/100 [00:09<00:00, 10.36it/s]\n",
      "100%|██████████| 100/100 [00:09<00:00, 10.26it/s]\n",
      "100%|██████████| 100/100 [00:09<00:00, 10.28it/s]\n"
     ]
    },
    {
     "name": "stdout",
     "output_type": "stream",
     "text": [
      "\u001b[91mRL agent fitness:-180.1869454994429\u001b[00m\n",
      "\u001b[91mRL agent fitness:-118.55769585566964\u001b[00m\n",
      "\u001b[91mRL agent fitness:-120.08587853625738\u001b[00m\n",
      "\u001b[91mRL agent fitness:-169.1148251578007\u001b[00m\n",
      "\u001b[91mRL agent fitness:-124.1576095726111\u001b[00m\n",
      "\u001b[95mIteration#78: Total steps:390000 \n",
      "\u001b[00m\n",
      "\u001b[96mnoisy RL agent fitness:-99.15563536190125\u001b[00m\n",
      "\u001b[96mnoisy RL agent fitness:-116.80216356221374\u001b[00m\n",
      "\u001b[96mnoisy RL agent fitness:-168.65738577541447\u001b[00m\n",
      "\u001b[96mnoisy RL agent fitness:-98.11003306637292\u001b[00m\n"
     ]
    },
    {
     "name": "stderr",
     "output_type": "stream",
     "text": [
      "  1%|          | 1/100 [00:00<00:09,  9.91it/s]"
     ]
    },
    {
     "name": "stdout",
     "output_type": "stream",
     "text": [
      "\u001b[96mnoisy RL agent fitness:-131.2259389064808\u001b[00m\n"
     ]
    },
    {
     "name": "stderr",
     "output_type": "stream",
     "text": [
      "100%|██████████| 100/100 [00:09<00:00, 10.80it/s]\n",
      "100%|██████████| 100/100 [00:09<00:00, 10.47it/s]\n",
      "100%|██████████| 100/100 [00:09<00:00, 10.78it/s]\n",
      "100%|██████████| 100/100 [00:09<00:00, 10.73it/s]\n",
      "100%|██████████| 100/100 [00:09<00:00, 10.71it/s]\n"
     ]
    },
    {
     "name": "stdout",
     "output_type": "stream",
     "text": [
      "\u001b[91mRL agent fitness:-123.78424790716265\u001b[00m\n",
      "\u001b[91mRL agent fitness:-118.49078400628999\u001b[00m\n",
      "\u001b[91mRL agent fitness:-72.37470459519965\u001b[00m\n",
      "\u001b[91mRL agent fitness:-170.71763921026223\u001b[00m\n",
      "\u001b[91mRL agent fitness:-197.14587067913735\u001b[00m\n",
      "\u001b[95mIteration#79: Total steps:395000 \n",
      "\u001b[00m\n",
      "\u001b[96mnoisy RL agent fitness:-142.74393198415436\u001b[00m\n",
      "\u001b[96mnoisy RL agent fitness:-123.1877641428697\u001b[00m\n",
      "\u001b[96mnoisy RL agent fitness:-144.31445224256933\u001b[00m\n",
      "\u001b[96mnoisy RL agent fitness:-97.23859018941916\u001b[00m\n"
     ]
    },
    {
     "name": "stderr",
     "output_type": "stream",
     "text": [
      "  2%|▏         | 2/100 [00:00<00:09, 10.53it/s]"
     ]
    },
    {
     "name": "stdout",
     "output_type": "stream",
     "text": [
      "\u001b[96mnoisy RL agent fitness:-49.488426765733394\u001b[00m\n"
     ]
    },
    {
     "name": "stderr",
     "output_type": "stream",
     "text": [
      "100%|██████████| 100/100 [00:09<00:00, 10.40it/s]\n",
      "100%|██████████| 100/100 [00:09<00:00, 10.10it/s]\n",
      "100%|██████████| 100/100 [00:09<00:00, 10.17it/s]\n",
      "100%|██████████| 100/100 [00:10<00:00,  9.87it/s]\n",
      "100%|██████████| 100/100 [00:10<00:00,  9.92it/s]\n"
     ]
    },
    {
     "name": "stdout",
     "output_type": "stream",
     "text": [
      "\u001b[91mRL agent fitness:-97.01502159561157\u001b[00m\n",
      "\u001b[91mRL agent fitness:-121.00683420351206\u001b[00m\n",
      "\u001b[91mRL agent fitness:-141.1630563220947\u001b[00m\n",
      "\u001b[91mRL agent fitness:-147.9227519779834\u001b[00m\n",
      "\u001b[91mRL agent fitness:-86.69999715111136\u001b[00m\n",
      "\u001b[95mIteration#80: Total steps:400000 \n",
      "\u001b[00m\n",
      "\u001b[96mnoisy RL agent fitness:-120.54818415784538\u001b[00m\n",
      "\u001b[96mnoisy RL agent fitness:-99.02845147137553\u001b[00m\n",
      "\u001b[96mnoisy RL agent fitness:-144.0725307574208\u001b[00m\n",
      "\u001b[96mnoisy RL agent fitness:-243.74773203640476\u001b[00m\n"
     ]
    },
    {
     "name": "stderr",
     "output_type": "stream",
     "text": [
      "  1%|          | 1/100 [00:00<00:10,  9.87it/s]"
     ]
    },
    {
     "name": "stdout",
     "output_type": "stream",
     "text": [
      "\u001b[96mnoisy RL agent fitness:-119.50657673093815\u001b[00m\n"
     ]
    },
    {
     "name": "stderr",
     "output_type": "stream",
     "text": [
      "100%|██████████| 100/100 [00:09<00:00, 10.06it/s]\n",
      "100%|██████████| 100/100 [00:09<00:00, 10.06it/s]\n",
      "100%|██████████| 100/100 [00:09<00:00, 10.08it/s]\n",
      "100%|██████████| 100/100 [00:10<00:00,  9.88it/s]\n",
      "100%|██████████| 100/100 [00:10<00:00,  9.32it/s]\n"
     ]
    },
    {
     "name": "stdout",
     "output_type": "stream",
     "text": [
      "\u001b[91mRL agent fitness:-200.88429152760233\u001b[00m\n",
      "\u001b[91mRL agent fitness:-141.20824358069206\u001b[00m\n",
      "\u001b[91mRL agent fitness:-210.0560027501561\u001b[00m\n",
      "\u001b[91mRL agent fitness:-144.81814866616742\u001b[00m\n",
      "\u001b[91mRL agent fitness:-145.28266354989117\u001b[00m\n",
      "\u001b[95mIteration#81: Total steps:405000 \n",
      "\u001b[00m\n",
      "\u001b[96mnoisy RL agent fitness:-95.87571467299746\u001b[00m\n",
      "\u001b[96mnoisy RL agent fitness:-171.27732652594474\u001b[00m\n",
      "\u001b[96mnoisy RL agent fitness:-120.90527819291276\u001b[00m\n",
      "\u001b[96mnoisy RL agent fitness:-189.90018233199493\u001b[00m\n"
     ]
    },
    {
     "name": "stderr",
     "output_type": "stream",
     "text": [
      "  1%|          | 1/100 [00:00<00:09,  9.90it/s]"
     ]
    },
    {
     "name": "stdout",
     "output_type": "stream",
     "text": [
      "\u001b[96mnoisy RL agent fitness:-75.77979299413323\u001b[00m\n"
     ]
    },
    {
     "name": "stderr",
     "output_type": "stream",
     "text": [
      "100%|██████████| 100/100 [00:09<00:00, 10.20it/s]\n",
      "100%|██████████| 100/100 [00:09<00:00, 10.16it/s]\n",
      "100%|██████████| 100/100 [00:10<00:00,  9.67it/s]\n",
      "100%|██████████| 100/100 [00:10<00:00,  9.76it/s]\n",
      "100%|██████████| 100/100 [00:10<00:00,  9.66it/s]\n"
     ]
    },
    {
     "name": "stdout",
     "output_type": "stream",
     "text": [
      "\u001b[91mRL agent fitness:-184.9992020803825\u001b[00m\n",
      "\u001b[91mRL agent fitness:-142.13609233665545\u001b[00m\n",
      "\u001b[91mRL agent fitness:-119.8233913870919\u001b[00m\n",
      "\u001b[91mRL agent fitness:-186.24466412679024\u001b[00m\n",
      "\u001b[91mRL agent fitness:-99.65859361995003\u001b[00m\n",
      "\u001b[95mIteration#82: Total steps:410000 \n",
      "\u001b[00m\n",
      "\u001b[96mnoisy RL agent fitness:-122.63392379700781\u001b[00m\n",
      "\u001b[96mnoisy RL agent fitness:-190.00395852453045\u001b[00m\n",
      "\u001b[96mnoisy RL agent fitness:-190.52780997287067\u001b[00m\n",
      "\u001b[96mnoisy RL agent fitness:-218.80749652231148\u001b[00m\n"
     ]
    },
    {
     "name": "stderr",
     "output_type": "stream",
     "text": [
      "  1%|          | 1/100 [00:00<00:10,  9.44it/s]"
     ]
    },
    {
     "name": "stdout",
     "output_type": "stream",
     "text": [
      "\u001b[96mnoisy RL agent fitness:-196.56133422563596\u001b[00m\n"
     ]
    },
    {
     "name": "stderr",
     "output_type": "stream",
     "text": [
      "100%|██████████| 100/100 [00:10<00:00,  9.85it/s]\n",
      "100%|██████████| 100/100 [00:10<00:00,  9.72it/s]\n",
      "100%|██████████| 100/100 [00:10<00:00,  9.62it/s]\n",
      "100%|██████████| 100/100 [00:10<00:00,  9.66it/s]\n",
      "100%|██████████| 100/100 [00:10<00:00,  9.33it/s]\n"
     ]
    },
    {
     "name": "stdout",
     "output_type": "stream",
     "text": [
      "\u001b[91mRL agent fitness:-116.58687223208248\u001b[00m\n",
      "\u001b[91mRL agent fitness:-144.50061872843872\u001b[00m\n",
      "\u001b[91mRL agent fitness:-125.53258675000514\u001b[00m\n",
      "\u001b[91mRL agent fitness:-121.69421392699664\u001b[00m\n",
      "\u001b[91mRL agent fitness:-174.38003857053235\u001b[00m\n",
      "\u001b[95mIteration#83: Total steps:415000 \n",
      "\u001b[00m\n",
      "\u001b[96mnoisy RL agent fitness:-191.71423841538902\u001b[00m\n",
      "\u001b[96mnoisy RL agent fitness:-98.88690046503775\u001b[00m\n",
      "\u001b[96mnoisy RL agent fitness:-126.91868037222488\u001b[00m\n",
      "\u001b[96mnoisy RL agent fitness:-143.85868256544592\u001b[00m\n"
     ]
    },
    {
     "name": "stderr",
     "output_type": "stream",
     "text": [
      "  1%|          | 1/100 [00:00<00:11,  8.98it/s]"
     ]
    },
    {
     "name": "stdout",
     "output_type": "stream",
     "text": [
      "\u001b[96mnoisy RL agent fitness:-74.22155185115699\u001b[00m\n"
     ]
    },
    {
     "name": "stderr",
     "output_type": "stream",
     "text": [
      "100%|██████████| 100/100 [00:10<00:00,  9.65it/s]\n",
      "100%|██████████| 100/100 [00:10<00:00,  9.74it/s]\n",
      "100%|██████████| 100/100 [00:10<00:00,  9.56it/s]\n",
      "100%|██████████| 100/100 [00:10<00:00,  9.52it/s]\n",
      "100%|██████████| 100/100 [00:10<00:00,  9.55it/s]\n"
     ]
    },
    {
     "name": "stdout",
     "output_type": "stream",
     "text": [
      "\u001b[91mRL agent fitness:-92.83224062358624\u001b[00m\n",
      "\u001b[91mRL agent fitness:-168.36450183904498\u001b[00m\n",
      "\u001b[91mRL agent fitness:-168.03478148037806\u001b[00m\n",
      "\u001b[91mRL agent fitness:-192.08907069934838\u001b[00m\n",
      "\u001b[91mRL agent fitness:-121.58550943837938\u001b[00m\n",
      "\u001b[95mIteration#84: Total steps:420000 \n",
      "\u001b[00m\n",
      "\u001b[96mnoisy RL agent fitness:-121.17694474358466\u001b[00m\n",
      "\u001b[96mnoisy RL agent fitness:-165.40923328810737\u001b[00m\n",
      "\u001b[96mnoisy RL agent fitness:-120.78492303561802\u001b[00m\n",
      "\u001b[96mnoisy RL agent fitness:-119.88448865200007\u001b[00m\n"
     ]
    },
    {
     "name": "stderr",
     "output_type": "stream",
     "text": [
      "  1%|          | 1/100 [00:00<00:10,  9.25it/s]"
     ]
    },
    {
     "name": "stdout",
     "output_type": "stream",
     "text": [
      "\u001b[96mnoisy RL agent fitness:-236.57377404087725\u001b[00m\n"
     ]
    },
    {
     "name": "stderr",
     "output_type": "stream",
     "text": [
      "100%|██████████| 100/100 [00:10<00:00,  9.48it/s]\n",
      "100%|██████████| 100/100 [00:10<00:00,  9.41it/s]\n",
      "100%|██████████| 100/100 [00:10<00:00,  9.43it/s]\n",
      "100%|██████████| 100/100 [00:10<00:00,  9.49it/s]\n",
      "100%|██████████| 100/100 [00:10<00:00,  9.48it/s]\n"
     ]
    },
    {
     "name": "stdout",
     "output_type": "stream",
     "text": [
      "\u001b[91mRL agent fitness:-94.80501003615967\u001b[00m\n",
      "\u001b[91mRL agent fitness:-169.666438437131\u001b[00m\n",
      "\u001b[91mRL agent fitness:-142.00146218848613\u001b[00m\n",
      "\u001b[91mRL agent fitness:-228.88987442666635\u001b[00m\n",
      "\u001b[91mRL agent fitness:-332.0934482117751\u001b[00m\n",
      "\u001b[95mIteration#85: Total steps:425000 \n",
      "\u001b[00m\n",
      "\u001b[96mnoisy RL agent fitness:-147.6110154414054\u001b[00m\n",
      "\u001b[96mnoisy RL agent fitness:-123.34349564510244\u001b[00m\n",
      "\u001b[96mnoisy RL agent fitness:-95.30023574215227\u001b[00m\n",
      "\u001b[96mnoisy RL agent fitness:-168.6965983153431\u001b[00m\n"
     ]
    },
    {
     "name": "stderr",
     "output_type": "stream",
     "text": [
      "  1%|          | 1/100 [00:00<00:10,  9.13it/s]"
     ]
    },
    {
     "name": "stdout",
     "output_type": "stream",
     "text": [
      "\u001b[96mnoisy RL agent fitness:-120.64497922446722\u001b[00m\n"
     ]
    },
    {
     "name": "stderr",
     "output_type": "stream",
     "text": [
      "100%|██████████| 100/100 [00:11<00:00,  8.68it/s]\n",
      "100%|██████████| 100/100 [00:10<00:00,  9.50it/s]\n",
      "100%|██████████| 100/100 [00:10<00:00,  9.38it/s]\n",
      "100%|██████████| 100/100 [00:10<00:00,  9.36it/s]\n",
      "100%|██████████| 100/100 [00:10<00:00,  9.24it/s]\n"
     ]
    },
    {
     "name": "stdout",
     "output_type": "stream",
     "text": [
      "\u001b[91mRL agent fitness:-241.07030150171195\u001b[00m\n",
      "\u001b[91mRL agent fitness:-140.54311844997966\u001b[00m\n",
      "\u001b[91mRL agent fitness:-143.58245217238738\u001b[00m\n",
      "\u001b[91mRL agent fitness:-163.80765859077673\u001b[00m\n",
      "\u001b[91mRL agent fitness:-358.0567189540071\u001b[00m\n",
      "\u001b[95mIteration#86: Total steps:430000 \n",
      "\u001b[00m\n",
      "\u001b[96mnoisy RL agent fitness:-145.90756244667935\u001b[00m\n",
      "\u001b[96mnoisy RL agent fitness:-72.09448091238667\u001b[00m\n",
      "\u001b[96mnoisy RL agent fitness:-97.7057151743648\u001b[00m\n",
      "\u001b[96mnoisy RL agent fitness:-212.09095138083904\u001b[00m\n"
     ]
    },
    {
     "name": "stderr",
     "output_type": "stream",
     "text": [
      "  1%|          | 1/100 [00:00<00:10,  9.07it/s]"
     ]
    },
    {
     "name": "stdout",
     "output_type": "stream",
     "text": [
      "\u001b[96mnoisy RL agent fitness:-569.9597917757135\u001b[00m\n"
     ]
    },
    {
     "name": "stderr",
     "output_type": "stream",
     "text": [
      "100%|██████████| 100/100 [00:10<00:00,  9.34it/s]\n",
      "100%|██████████| 100/100 [00:10<00:00,  9.26it/s]\n",
      "100%|██████████| 100/100 [00:10<00:00,  9.33it/s]\n",
      "100%|██████████| 100/100 [00:10<00:00,  9.32it/s]\n",
      "100%|██████████| 100/100 [00:10<00:00,  9.34it/s]\n"
     ]
    },
    {
     "name": "stdout",
     "output_type": "stream",
     "text": [
      "\u001b[91mRL agent fitness:-179.97537294897816\u001b[00m\n",
      "\u001b[91mRL agent fitness:-111.5098367183139\u001b[00m\n",
      "\u001b[91mRL agent fitness:-144.949417248666\u001b[00m\n",
      "\u001b[91mRL agent fitness:-123.13109567226812\u001b[00m\n",
      "\u001b[91mRL agent fitness:-610.7205391072022\u001b[00m\n",
      "\u001b[95mIteration#87: Total steps:435000 \n",
      "\u001b[00m\n",
      "\u001b[96mnoisy RL agent fitness:-122.03344148019566\u001b[00m\n",
      "\u001b[96mnoisy RL agent fitness:-168.1959554727288\u001b[00m\n",
      "\u001b[96mnoisy RL agent fitness:-142.5803365527444\u001b[00m\n",
      "\u001b[96mnoisy RL agent fitness:-146.4169609659635\u001b[00m\n"
     ]
    },
    {
     "name": "stderr",
     "output_type": "stream",
     "text": [
      "  1%|          | 1/100 [00:00<00:10,  9.02it/s]"
     ]
    },
    {
     "name": "stdout",
     "output_type": "stream",
     "text": [
      "\u001b[96mnoisy RL agent fitness:-303.60877961055013\u001b[00m\n"
     ]
    },
    {
     "name": "stderr",
     "output_type": "stream",
     "text": [
      "100%|██████████| 100/100 [00:10<00:00,  9.36it/s]\n",
      "100%|██████████| 100/100 [00:10<00:00,  9.33it/s]\n",
      "100%|██████████| 100/100 [00:10<00:00,  9.32it/s]\n",
      "100%|██████████| 100/100 [00:10<00:00,  9.20it/s]\n",
      "100%|██████████| 100/100 [00:11<00:00,  9.01it/s]\n"
     ]
    },
    {
     "name": "stdout",
     "output_type": "stream",
     "text": [
      "\u001b[91mRL agent fitness:-168.4190021624624\u001b[00m\n",
      "\u001b[91mRL agent fitness:-121.43808943348104\u001b[00m\n",
      "\u001b[91mRL agent fitness:-97.66066498141973\u001b[00m\n",
      "\u001b[91mRL agent fitness:-187.19646224611657\u001b[00m\n",
      "\u001b[91mRL agent fitness:-165.33381837836168\u001b[00m\n",
      "\u001b[95mIteration#88: Total steps:440000 \n",
      "\u001b[00m\n",
      "\u001b[96mnoisy RL agent fitness:-195.82814321946168\u001b[00m\n",
      "\u001b[96mnoisy RL agent fitness:-165.76150895513362\u001b[00m\n",
      "\u001b[96mnoisy RL agent fitness:-188.10998609680405\u001b[00m\n",
      "\u001b[96mnoisy RL agent fitness:-182.74112885455207\u001b[00m\n"
     ]
    },
    {
     "name": "stderr",
     "output_type": "stream",
     "text": [
      "  1%|          | 1/100 [00:00<00:11,  8.86it/s]"
     ]
    },
    {
     "name": "stdout",
     "output_type": "stream",
     "text": [
      "\u001b[96mnoisy RL agent fitness:-148.49952767911617\u001b[00m\n"
     ]
    },
    {
     "name": "stderr",
     "output_type": "stream",
     "text": [
      "100%|██████████| 100/100 [00:10<00:00,  9.39it/s]\n",
      "100%|██████████| 100/100 [00:10<00:00,  9.41it/s]\n",
      "100%|██████████| 100/100 [00:10<00:00,  9.29it/s]\n",
      "100%|██████████| 100/100 [00:10<00:00,  9.17it/s]\n",
      "100%|██████████| 100/100 [00:10<00:00,  9.27it/s]\n"
     ]
    },
    {
     "name": "stdout",
     "output_type": "stream",
     "text": [
      "\u001b[91mRL agent fitness:-166.42937322678773\u001b[00m\n",
      "\u001b[91mRL agent fitness:-140.32941579508886\u001b[00m\n",
      "\u001b[91mRL agent fitness:-118.82067817195033\u001b[00m\n",
      "\u001b[91mRL agent fitness:-183.66400763266742\u001b[00m\n",
      "\u001b[91mRL agent fitness:-140.42284006227356\u001b[00m\n",
      "\u001b[95mIteration#89: Total steps:445000 \n",
      "\u001b[00m\n",
      "\u001b[96mnoisy RL agent fitness:-122.54958247122946\u001b[00m\n",
      "\u001b[96mnoisy RL agent fitness:-146.9133203109981\u001b[00m\n",
      "\u001b[96mnoisy RL agent fitness:-146.08601742398125\u001b[00m\n",
      "\u001b[96mnoisy RL agent fitness:-194.98032451867815\u001b[00m\n"
     ]
    },
    {
     "name": "stderr",
     "output_type": "stream",
     "text": [
      "  1%|          | 1/100 [00:00<00:11,  8.87it/s]"
     ]
    },
    {
     "name": "stdout",
     "output_type": "stream",
     "text": [
      "\u001b[96mnoisy RL agent fitness:-213.87047574340787\u001b[00m\n"
     ]
    },
    {
     "name": "stderr",
     "output_type": "stream",
     "text": [
      "100%|██████████| 100/100 [00:10<00:00,  9.26it/s]\n",
      "100%|██████████| 100/100 [00:10<00:00,  9.17it/s]\n",
      "100%|██████████| 100/100 [00:11<00:00,  9.01it/s]\n",
      "100%|██████████| 100/100 [00:11<00:00,  9.09it/s]\n",
      "100%|██████████| 100/100 [00:10<00:00,  9.20it/s]\n"
     ]
    },
    {
     "name": "stdout",
     "output_type": "stream",
     "text": [
      "\u001b[91mRL agent fitness:-48.93478680874052\u001b[00m\n",
      "\u001b[91mRL agent fitness:-117.17695913839945\u001b[00m\n",
      "\u001b[91mRL agent fitness:-117.94914156050466\u001b[00m\n",
      "\u001b[91mRL agent fitness:-148.51376444168847\u001b[00m\n",
      "\u001b[91mRL agent fitness:-146.3700948365302\u001b[00m\n",
      "\u001b[95mIteration#90: Total steps:450000 \n",
      "\u001b[00m\n",
      "\u001b[96mnoisy RL agent fitness:-72.92726213798349\u001b[00m\n",
      "\u001b[96mnoisy RL agent fitness:-149.06767738883187\u001b[00m\n",
      "\u001b[96mnoisy RL agent fitness:-143.11878230099336\u001b[00m\n",
      "\u001b[96mnoisy RL agent fitness:-123.1716277834577\u001b[00m\n"
     ]
    },
    {
     "name": "stderr",
     "output_type": "stream",
     "text": [
      "  1%|          | 1/100 [00:00<00:10,  9.32it/s]"
     ]
    },
    {
     "name": "stdout",
     "output_type": "stream",
     "text": [
      "\u001b[96mnoisy RL agent fitness:-142.15565966025943\u001b[00m\n"
     ]
    },
    {
     "name": "stderr",
     "output_type": "stream",
     "text": [
      "100%|██████████| 100/100 [00:10<00:00,  9.11it/s]\n",
      "100%|██████████| 100/100 [00:11<00:00,  8.49it/s]\n",
      "100%|██████████| 100/100 [00:11<00:00,  8.88it/s]\n",
      "100%|██████████| 100/100 [00:10<00:00,  9.14it/s]\n",
      "100%|██████████| 100/100 [00:11<00:00,  9.02it/s]\n"
     ]
    },
    {
     "name": "stdout",
     "output_type": "stream",
     "text": [
      "\u001b[91mRL agent fitness:-49.12649156257118\u001b[00m\n",
      "\u001b[91mRL agent fitness:-144.5656596370182\u001b[00m\n",
      "\u001b[91mRL agent fitness:-100.85998269031244\u001b[00m\n",
      "\u001b[91mRL agent fitness:-443.5567479139978\u001b[00m\n",
      "\u001b[91mRL agent fitness:-194.23238490604524\u001b[00m\n",
      "\u001b[95mIteration#91: Total steps:455000 \n",
      "\u001b[00m\n",
      "\u001b[96mnoisy RL agent fitness:-200.60670540432125\u001b[00m\n",
      "\u001b[96mnoisy RL agent fitness:-97.57114966451391\u001b[00m\n",
      "\u001b[96mnoisy RL agent fitness:-155.8640424454879\u001b[00m\n",
      "\u001b[96mnoisy RL agent fitness:-297.8847563383128\u001b[00m\n"
     ]
    },
    {
     "name": "stderr",
     "output_type": "stream",
     "text": [
      "  1%|          | 1/100 [00:00<00:11,  8.51it/s]"
     ]
    },
    {
     "name": "stdout",
     "output_type": "stream",
     "text": [
      "\u001b[96mnoisy RL agent fitness:-124.09922190143989\u001b[00m\n"
     ]
    },
    {
     "name": "stderr",
     "output_type": "stream",
     "text": [
      "100%|██████████| 100/100 [00:11<00:00,  8.95it/s]\n",
      "100%|██████████| 100/100 [00:11<00:00,  8.97it/s]\n",
      "100%|██████████| 100/100 [00:11<00:00,  8.86it/s]\n",
      "100%|██████████| 100/100 [00:11<00:00,  8.89it/s]\n",
      "100%|██████████| 100/100 [00:11<00:00,  9.08it/s]\n"
     ]
    },
    {
     "name": "stdout",
     "output_type": "stream",
     "text": [
      "\u001b[91mRL agent fitness:-122.50832615369146\u001b[00m\n",
      "\u001b[91mRL agent fitness:-123.41200250983272\u001b[00m\n",
      "\u001b[91mRL agent fitness:-169.998469626199\u001b[00m\n",
      "\u001b[91mRL agent fitness:-150.2964952023064\u001b[00m\n",
      "\u001b[91mRL agent fitness:-144.3664986632849\u001b[00m\n",
      "\u001b[95mIteration#92: Total steps:460000 \n",
      "\u001b[00m\n",
      "\u001b[96mnoisy RL agent fitness:-192.87699420039556\u001b[00m\n",
      "\u001b[96mnoisy RL agent fitness:-120.34581835585496\u001b[00m\n",
      "\u001b[96mnoisy RL agent fitness:-197.06956814562108\u001b[00m\n",
      "\u001b[96mnoisy RL agent fitness:-192.88538823438552\u001b[00m\n"
     ]
    },
    {
     "name": "stderr",
     "output_type": "stream",
     "text": [
      "  1%|          | 1/100 [00:00<00:12,  8.16it/s]"
     ]
    },
    {
     "name": "stdout",
     "output_type": "stream",
     "text": [
      "\u001b[96mnoisy RL agent fitness:-73.17984700014313\u001b[00m\n"
     ]
    },
    {
     "name": "stderr",
     "output_type": "stream",
     "text": [
      "100%|██████████| 100/100 [00:11<00:00,  8.98it/s]\n",
      "100%|██████████| 100/100 [00:11<00:00,  8.85it/s]\n",
      "100%|██████████| 100/100 [00:11<00:00,  8.99it/s]\n",
      "100%|██████████| 100/100 [00:11<00:00,  8.82it/s]\n",
      "100%|██████████| 100/100 [00:11<00:00,  8.68it/s]\n"
     ]
    },
    {
     "name": "stdout",
     "output_type": "stream",
     "text": [
      "\u001b[91mRL agent fitness:-144.9828498690478\u001b[00m\n",
      "\u001b[91mRL agent fitness:-168.27502923591118\u001b[00m\n",
      "\u001b[91mRL agent fitness:-126.56794334962407\u001b[00m\n",
      "\u001b[91mRL agent fitness:-190.91221751964585\u001b[00m\n",
      "\u001b[91mRL agent fitness:-99.43743808707961\u001b[00m\n",
      "\u001b[95mIteration#93: Total steps:465000 \n",
      "\u001b[00m\n",
      "\u001b[96mnoisy RL agent fitness:-153.90794772644523\u001b[00m\n",
      "\u001b[96mnoisy RL agent fitness:-196.0037811520137\u001b[00m\n",
      "\u001b[96mnoisy RL agent fitness:-146.9995825416609\u001b[00m\n",
      "\u001b[96mnoisy RL agent fitness:-183.93329237254306\u001b[00m\n"
     ]
    },
    {
     "name": "stderr",
     "output_type": "stream",
     "text": [
      "  1%|          | 1/100 [00:00<00:11,  8.77it/s]"
     ]
    },
    {
     "name": "stdout",
     "output_type": "stream",
     "text": [
      "\u001b[96mnoisy RL agent fitness:-123.41075324134381\u001b[00m\n"
     ]
    },
    {
     "name": "stderr",
     "output_type": "stream",
     "text": [
      "100%|██████████| 100/100 [00:11<00:00,  8.89it/s]\n",
      "100%|██████████| 100/100 [00:11<00:00,  8.78it/s]\n",
      "100%|██████████| 100/100 [00:11<00:00,  8.75it/s]\n",
      "100%|██████████| 100/100 [00:11<00:00,  8.77it/s]\n",
      "100%|██████████| 100/100 [00:11<00:00,  8.56it/s]\n"
     ]
    },
    {
     "name": "stdout",
     "output_type": "stream",
     "text": [
      "\u001b[91mRL agent fitness:-121.23562570691006\u001b[00m\n",
      "\u001b[91mRL agent fitness:-170.38660089782334\u001b[00m\n",
      "\u001b[91mRL agent fitness:-138.09492423881065\u001b[00m\n",
      "\u001b[91mRL agent fitness:-96.09542713542756\u001b[00m\n",
      "\u001b[91mRL agent fitness:-149.8475856360979\u001b[00m\n",
      "\u001b[95mIteration#94: Total steps:470000 \n",
      "\u001b[00m\n",
      "\u001b[96mnoisy RL agent fitness:-98.46841970840602\u001b[00m\n",
      "\u001b[96mnoisy RL agent fitness:-168.07593544785726\u001b[00m\n",
      "\u001b[96mnoisy RL agent fitness:-121.02389802126899\u001b[00m\n",
      "\u001b[96mnoisy RL agent fitness:-190.41969847063314\u001b[00m\n"
     ]
    },
    {
     "name": "stderr",
     "output_type": "stream",
     "text": [
      "  1%|          | 1/100 [00:00<00:11,  8.67it/s]"
     ]
    },
    {
     "name": "stdout",
     "output_type": "stream",
     "text": [
      "\u001b[96mnoisy RL agent fitness:-195.24905636405998\u001b[00m\n"
     ]
    },
    {
     "name": "stderr",
     "output_type": "stream",
     "text": [
      "100%|██████████| 100/100 [00:11<00:00,  8.77it/s]\n",
      "100%|██████████| 100/100 [00:11<00:00,  8.69it/s]\n",
      "100%|██████████| 100/100 [00:12<00:00,  8.15it/s]\n",
      "100%|██████████| 100/100 [00:11<00:00,  8.53it/s]\n",
      "100%|██████████| 100/100 [00:11<00:00,  8.51it/s]\n"
     ]
    },
    {
     "name": "stdout",
     "output_type": "stream",
     "text": [
      "\u001b[91mRL agent fitness:-116.73414007832608\u001b[00m\n",
      "\u001b[91mRL agent fitness:-154.0256868508067\u001b[00m\n",
      "\u001b[91mRL agent fitness:-189.90376282314838\u001b[00m\n",
      "\u001b[91mRL agent fitness:-172.20061160279943\u001b[00m\n",
      "\u001b[91mRL agent fitness:-171.06154613017947\u001b[00m\n",
      "\u001b[95mIteration#95: Total steps:475000 \n",
      "\u001b[00m\n",
      "\u001b[96mnoisy RL agent fitness:-233.59408173188163\u001b[00m\n",
      "\u001b[96mnoisy RL agent fitness:-252.7759459788577\u001b[00m\n",
      "\u001b[96mnoisy RL agent fitness:-123.34623086320607\u001b[00m\n",
      "\u001b[96mnoisy RL agent fitness:-199.02924032016904\u001b[00m\n"
     ]
    },
    {
     "name": "stderr",
     "output_type": "stream",
     "text": [
      "  1%|          | 1/100 [00:00<00:11,  8.43it/s]"
     ]
    },
    {
     "name": "stdout",
     "output_type": "stream",
     "text": [
      "\u001b[96mnoisy RL agent fitness:-96.37270702963413\u001b[00m\n"
     ]
    },
    {
     "name": "stderr",
     "output_type": "stream",
     "text": [
      "100%|██████████| 100/100 [00:11<00:00,  8.60it/s]\n",
      "100%|██████████| 100/100 [00:11<00:00,  8.59it/s]\n",
      "100%|██████████| 100/100 [00:12<00:00,  8.28it/s]\n",
      "100%|██████████| 100/100 [00:12<00:00,  8.27it/s]\n",
      "100%|██████████| 100/100 [00:12<00:00,  8.18it/s]\n"
     ]
    },
    {
     "name": "stdout",
     "output_type": "stream",
     "text": [
      "\u001b[91mRL agent fitness:-98.79145511736681\u001b[00m\n",
      "\u001b[91mRL agent fitness:-179.30861287860444\u001b[00m\n",
      "\u001b[91mRL agent fitness:-144.38202655814288\u001b[00m\n",
      "\u001b[91mRL agent fitness:-73.34061537533657\u001b[00m\n",
      "\u001b[91mRL agent fitness:-167.37894190558197\u001b[00m\n",
      "\u001b[95mIteration#96: Total steps:480000 \n",
      "\u001b[00m\n",
      "\u001b[96mnoisy RL agent fitness:-169.57187307656233\u001b[00m\n",
      "\u001b[96mnoisy RL agent fitness:-100.6925686054692\u001b[00m\n",
      "\u001b[96mnoisy RL agent fitness:-141.17696468986063\u001b[00m\n",
      "\u001b[96mnoisy RL agent fitness:-143.17856106394447\u001b[00m\n"
     ]
    },
    {
     "name": "stderr",
     "output_type": "stream",
     "text": [
      "  1%|          | 1/100 [00:00<00:12,  7.98it/s]"
     ]
    },
    {
     "name": "stdout",
     "output_type": "stream",
     "text": [
      "\u001b[96mnoisy RL agent fitness:-75.49721598815265\u001b[00m\n"
     ]
    },
    {
     "name": "stderr",
     "output_type": "stream",
     "text": [
      "100%|██████████| 100/100 [00:11<00:00,  8.49it/s]\n",
      "100%|██████████| 100/100 [00:11<00:00,  8.35it/s]\n",
      "100%|██████████| 100/100 [00:12<00:00,  7.91it/s]\n",
      "100%|██████████| 100/100 [00:12<00:00,  8.30it/s]\n",
      "100%|██████████| 100/100 [00:12<00:00,  8.20it/s]\n"
     ]
    },
    {
     "name": "stdout",
     "output_type": "stream",
     "text": [
      "\u001b[91mRL agent fitness:-167.94223477306846\u001b[00m\n",
      "\u001b[91mRL agent fitness:-169.74326152345327\u001b[00m\n",
      "\u001b[91mRL agent fitness:-116.19616824541033\u001b[00m\n",
      "\u001b[91mRL agent fitness:-144.41367443645646\u001b[00m\n",
      "\u001b[91mRL agent fitness:-168.89959140102755\u001b[00m\n",
      "\u001b[95mIteration#97: Total steps:485000 \n",
      "\u001b[00m\n",
      "\u001b[96mnoisy RL agent fitness:-191.8756351235166\u001b[00m\n",
      "\u001b[96mnoisy RL agent fitness:-141.72491736309138\u001b[00m\n",
      "\u001b[96mnoisy RL agent fitness:-168.26817820206654\u001b[00m\n",
      "\u001b[96mnoisy RL agent fitness:-163.53068902798853\u001b[00m\n"
     ]
    },
    {
     "name": "stderr",
     "output_type": "stream",
     "text": [
      "  1%|          | 1/100 [00:00<00:11,  8.50it/s]"
     ]
    },
    {
     "name": "stdout",
     "output_type": "stream",
     "text": [
      "\u001b[96mnoisy RL agent fitness:-217.87996163799818\u001b[00m\n"
     ]
    },
    {
     "name": "stderr",
     "output_type": "stream",
     "text": [
      "100%|██████████| 100/100 [00:12<00:00,  8.26it/s]\n",
      "100%|██████████| 100/100 [00:12<00:00,  8.19it/s]\n",
      "100%|██████████| 100/100 [00:12<00:00,  8.14it/s]\n",
      "100%|██████████| 100/100 [00:12<00:00,  8.00it/s]\n",
      "100%|██████████| 100/100 [00:12<00:00,  8.21it/s]\n"
     ]
    },
    {
     "name": "stdout",
     "output_type": "stream",
     "text": [
      "\u001b[91mRL agent fitness:-76.7963753995697\u001b[00m\n",
      "\u001b[91mRL agent fitness:-121.75583757562072\u001b[00m\n",
      "\u001b[91mRL agent fitness:-97.95030895135216\u001b[00m\n",
      "\u001b[91mRL agent fitness:-167.97466861323437\u001b[00m\n",
      "\u001b[91mRL agent fitness:-266.05421896133277\u001b[00m\n",
      "\u001b[95mIteration#98: Total steps:490000 \n",
      "\u001b[00m\n",
      "\u001b[96mnoisy RL agent fitness:-209.7991019933701\u001b[00m\n",
      "\u001b[96mnoisy RL agent fitness:-71.65598040535723\u001b[00m\n",
      "\u001b[96mnoisy RL agent fitness:-169.51399264169692\u001b[00m\n",
      "\u001b[96mnoisy RL agent fitness:-168.15406828779942\u001b[00m\n"
     ]
    },
    {
     "name": "stderr",
     "output_type": "stream",
     "text": [
      "  1%|          | 1/100 [00:00<00:12,  8.05it/s]"
     ]
    },
    {
     "name": "stdout",
     "output_type": "stream",
     "text": [
      "\u001b[96mnoisy RL agent fitness:-99.15534079888876\u001b[00m\n"
     ]
    },
    {
     "name": "stderr",
     "output_type": "stream",
     "text": [
      "100%|██████████| 100/100 [00:12<00:00,  8.24it/s]\n",
      "100%|██████████| 100/100 [00:12<00:00,  8.08it/s]\n",
      "100%|██████████| 100/100 [00:12<00:00,  8.06it/s]\n",
      "100%|██████████| 100/100 [00:12<00:00,  8.05it/s]\n",
      "100%|██████████| 100/100 [00:12<00:00,  8.01it/s]\n"
     ]
    },
    {
     "name": "stdout",
     "output_type": "stream",
     "text": [
      "\u001b[91mRL agent fitness:-219.47112993819883\u001b[00m\n",
      "\u001b[91mRL agent fitness:-74.04736872499257\u001b[00m\n",
      "\u001b[91mRL agent fitness:-145.67954960360356\u001b[00m\n",
      "\u001b[91mRL agent fitness:-121.24526056580446\u001b[00m\n",
      "\u001b[91mRL agent fitness:-122.31700216483902\u001b[00m\n",
      "\u001b[95mIteration#99: Total steps:495000 \n",
      "\u001b[00m\n",
      "\u001b[96mnoisy RL agent fitness:-173.22360705099769\u001b[00m\n",
      "\u001b[96mnoisy RL agent fitness:-162.88990750904213\u001b[00m\n",
      "\u001b[96mnoisy RL agent fitness:-72.3500753688659\u001b[00m\n",
      "\u001b[96mnoisy RL agent fitness:-186.01547525638574\u001b[00m\n"
     ]
    },
    {
     "name": "stderr",
     "output_type": "stream",
     "text": [
      "  1%|          | 1/100 [00:00<00:11,  8.80it/s]"
     ]
    },
    {
     "name": "stdout",
     "output_type": "stream",
     "text": [
      "\u001b[96mnoisy RL agent fitness:-191.10681636241264\u001b[00m\n"
     ]
    },
    {
     "name": "stderr",
     "output_type": "stream",
     "text": [
      "100%|██████████| 100/100 [00:12<00:00,  8.12it/s]\n",
      "100%|██████████| 100/100 [00:12<00:00,  8.04it/s]\n",
      "100%|██████████| 100/100 [00:12<00:00,  8.17it/s]\n",
      "100%|██████████| 100/100 [00:12<00:00,  8.02it/s]\n",
      "100%|██████████| 100/100 [00:12<00:00,  7.93it/s]\n"
     ]
    },
    {
     "name": "stdout",
     "output_type": "stream",
     "text": [
      "\u001b[91mRL agent fitness:-146.97883593704884\u001b[00m\n",
      "\u001b[91mRL agent fitness:-167.56201822989894\u001b[00m\n",
      "\u001b[91mRL agent fitness:-190.21775193105913\u001b[00m\n",
      "\u001b[91mRL agent fitness:-100.26290105635033\u001b[00m\n",
      "\u001b[91mRL agent fitness:-160.30684603053933\u001b[00m\n",
      "\u001b[95mIteration#100: Total steps:500000 \n",
      "\u001b[00m\n"
     ]
    }
   ],
   "source": [
    "\n",
    "# The environment\n",
    "env = gym.make(\"Pendulum-v0\")\n",
    "state_dim = env.observation_space.shape[0]\n",
    "action_dim = env.action_space.shape[0]\n",
    "max_action = int(env.action_space.high[0])\n",
    "# replay buffer\n",
    "memory = Memory(100000, state_dim, action_dim)\n",
    "\n",
    "# agent\n",
    "agent = DTD3(state_dim, action_dim, max_action, memory,n_actor=5)\n",
    "print(\"starting\")\n",
    "train(agent,n_episodes=10,max_steps=500000,debug=True,n_eval=5,n_actor=5,training_per_agent=100)"
   ]
  },
  {
   "cell_type": "code",
   "execution_count": 7,
   "metadata": {},
   "outputs": [
    {
     "data": {
      "text/plain": [
       "[<matplotlib.lines.Line2D at 0x7fbda44146d0>]"
      ]
     },
     "execution_count": 7,
     "metadata": {},
     "output_type": "execute_result"
    },
    {
     "data": {
      "image/png": "[encoded data removed]",
      "text/plain": [
       "<Figure size 432x288 with 1 Axes>"
      ]
     },
     "metadata": {
      "needs_background": "light"
     },
     "output_type": "display_data"
    }
   ],
   "source": [
    "df = pd.DataFrame(agent.stats)\n",
    "df = df.loc[df['actor'] == 3]\n",
    "plt.plot(np.arange(df[\"critic_loss\"].shape[0]),df[\"critic_loss\"])"
   ]
  },
  {
   "cell_type": "code",
   "execution_count": 9,
   "metadata": {},
   "outputs": [
    {
     "data": {
      "text/plain": [
       "[<matplotlib.lines.Line2D at 0x7fbda42d56d0>]"
      ]
     },
     "execution_count": 9,
     "metadata": {},
     "output_type": "execute_result"
    },
    {
     "data": {
      "image/png": "[encoded data removed]",
      "text/plain": [
       "<Figure size 432x288 with 1 Axes>"
      ]
     },
     "metadata": {
      "needs_background": "light"
     },
     "output_type": "display_data"
    }
   ],
   "source": [
    "df = pd.DataFrame(agent.stats)\n",
    "df = df.loc[df['actor'] == 2]\n",
    "plt.plot(np.arange(df[\"actor_loss\"].shape[0]),df[\"actor_loss\"])"
   ]
  },
  {
   "cell_type": "code",
   "execution_count": 10,
   "metadata": {},
   "outputs": [
    {
     "data": {
      "text/plain": [
       "[<matplotlib.lines.Line2D at 0x7fbda42b9a50>]"
      ]
     },
     "execution_count": 10,
     "metadata": {},
     "output_type": "execute_result"
    },
    {
     "data": {
      "image/png": "[encoded data removed]",
      "text/plain": [
       "<Figure size 432x288 with 1 Axes>"
      ]
     },
     "metadata": {
      "needs_background": "light"
     },
     "output_type": "display_data"
    }
   ],
   "source": [
    "df = pd.DataFrame(agent.stats)\n",
    "df = df.loc[df['actor'] == 3]\n",
    "plt.plot(np.arange(df[\"reward_sum\"].shape[0]),df[\"reward_sum\"])"
   ]
  },
  {
   "cell_type": "code",
   "execution_count": null,
   "metadata": {},
   "outputs": [],
   "source": []
  }
 ],
 "metadata": {
  "kernelspec": {
   "display_name": "Python 3",
   "language": "python",
   "name": "python3"
  },
  "language_info": {
   "codemirror_mode": {
    "name": "ipython",
    "version": 3
   },
   "file_extension": ".py",
   "mimetype": "text/x-python",
   "name": "python",
   "nbconvert_exporter": "python",
   "pygments_lexer": "ipython3",
   "version": "3.7.4"
  }
 },
 "nbformat": 4,
 "nbformat_minor": 1
}
